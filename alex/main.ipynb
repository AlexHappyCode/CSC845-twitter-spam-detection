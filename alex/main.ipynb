{
 "cells": [
  {
   "cell_type": "markdown",
   "id": "bb9e42d8-6db2-4fc9-bc6d-1e1c1b1cc300",
   "metadata": {},
   "source": [
    "# Imports"
   ]
  },
  {
   "cell_type": "code",
   "execution_count": 12,
   "id": "82ee8e78-5d57-4211-b48c-f1611d4f4033",
   "metadata": {},
   "outputs": [],
   "source": [
    "import sys\n",
    "import os\n",
    "import numpy as np\n",
    "import pandas as pd\n",
    "from pandas import DataFrame\n",
    "import matplotlib.pyplot as plt\n",
    "\n",
    "import nltk\n",
    "from nltk.stem import PorterStemmer\n",
    "from nltk.corpus import stopwords\n",
    "from nltk.tokenize import word_tokenize\n",
    "\n",
    "%matplotlib inline"
   ]
  },
  {
   "cell_type": "markdown",
   "id": "0c2e770e-8096-4418-a792-7ff3de295fa7",
   "metadata": {},
   "source": [
    "# Constants"
   ]
  },
  {
   "cell_type": "code",
   "execution_count": 13,
   "id": "671ab9f7-d074-4f2e-b303-b3a22beca7f0",
   "metadata": {
    "tags": []
   },
   "outputs": [],
   "source": [
    "TRAIN_PATH = 'datasets/train.csv'\n",
    "TEST_PATH = 'datasets/test.csv'"
   ]
  },
  {
   "cell_type": "markdown",
   "id": "f675bc46-c134-49c5-a24e-4023d4797ca3",
   "metadata": {},
   "source": [
    "# Reading Test Data"
   ]
  },
  {
   "cell_type": "code",
   "execution_count": 14,
   "id": "a2fbd92b-cf8e-4c02-9cd0-768b3e781588",
   "metadata": {},
   "outputs": [
    {
     "data": {
      "text/html": [
       "<div>\n",
       "<style scoped>\n",
       "    .dataframe tbody tr th:only-of-type {\n",
       "        vertical-align: middle;\n",
       "    }\n",
       "\n",
       "    .dataframe tbody tr th {\n",
       "        vertical-align: top;\n",
       "    }\n",
       "\n",
       "    .dataframe thead th {\n",
       "        text-align: right;\n",
       "    }\n",
       "</style>\n",
       "<table border=\"1\" class=\"dataframe\">\n",
       "  <thead>\n",
       "    <tr style=\"text-align: right;\">\n",
       "      <th></th>\n",
       "      <th>Tweet</th>\n",
       "      <th>following</th>\n",
       "      <th>followers</th>\n",
       "      <th>actions</th>\n",
       "      <th>is_retweet</th>\n",
       "      <th>location</th>\n",
       "      <th>Type</th>\n",
       "      <th>Unnamed: 7</th>\n",
       "    </tr>\n",
       "  </thead>\n",
       "  <tbody>\n",
       "    <tr>\n",
       "      <th>0</th>\n",
       "      <td>Good Morning Love  @LeeBrown_V</td>\n",
       "      <td>0.0</td>\n",
       "      <td>0.0</td>\n",
       "      <td>0.0</td>\n",
       "      <td>0.0</td>\n",
       "      <td>Pennsylvania, USA</td>\n",
       "      <td>Quality</td>\n",
       "      <td>NaN</td>\n",
       "    </tr>\n",
       "    <tr>\n",
       "      <th>1</th>\n",
       "      <td>'@realDonaldTrump @USNavy RIP TO HEROES'</td>\n",
       "      <td>42096.0</td>\n",
       "      <td>61060.0</td>\n",
       "      <td>5001.0</td>\n",
       "      <td>0.0</td>\n",
       "      <td>South Padre Island, Texas</td>\n",
       "      <td>Spam</td>\n",
       "      <td>NaN</td>\n",
       "    </tr>\n",
       "    <tr>\n",
       "      <th>2</th>\n",
       "      <td>Haven't been following the news but I understa...</td>\n",
       "      <td>0.0</td>\n",
       "      <td>0.0</td>\n",
       "      <td>NaN</td>\n",
       "      <td>0.0</td>\n",
       "      <td>Will never be broke ever again</td>\n",
       "      <td>Quality</td>\n",
       "      <td>NaN</td>\n",
       "    </tr>\n",
       "    <tr>\n",
       "      <th>3</th>\n",
       "      <td>pic.twitter.com/dy9q4ftLhZ What to do with pap...</td>\n",
       "      <td>0.0</td>\n",
       "      <td>0.0</td>\n",
       "      <td>0.0</td>\n",
       "      <td>0.0</td>\n",
       "      <td>Mundo</td>\n",
       "      <td>Quality</td>\n",
       "      <td>NaN</td>\n",
       "    </tr>\n",
       "    <tr>\n",
       "      <th>4</th>\n",
       "      <td>#DidYouKnow ► Mahatma Gandhi made a brief visi...</td>\n",
       "      <td>17800.0</td>\n",
       "      <td>35100.0</td>\n",
       "      <td>NaN</td>\n",
       "      <td>0.0</td>\n",
       "      <td>Nottingham, England</td>\n",
       "      <td>Quality</td>\n",
       "      <td>NaN</td>\n",
       "    </tr>\n",
       "    <tr>\n",
       "      <th>...</th>\n",
       "      <td>...</td>\n",
       "      <td>...</td>\n",
       "      <td>...</td>\n",
       "      <td>...</td>\n",
       "      <td>...</td>\n",
       "      <td>...</td>\n",
       "      <td>...</td>\n",
       "      <td>...</td>\n",
       "    </tr>\n",
       "    <tr>\n",
       "      <th>14894</th>\n",
       "      <td>#AllWentWrongWhen I told my hair stylist to \"g...</td>\n",
       "      <td>695.0</td>\n",
       "      <td>533.0</td>\n",
       "      <td>868.0</td>\n",
       "      <td>1.0</td>\n",
       "      <td>United States</td>\n",
       "      <td>Spam</td>\n",
       "      <td>NaN</td>\n",
       "    </tr>\n",
       "    <tr>\n",
       "      <th>14895</th>\n",
       "      <td>They don't have to like you, and you don't hav...</td>\n",
       "      <td>0.0</td>\n",
       "      <td>0.0</td>\n",
       "      <td>0.0</td>\n",
       "      <td>0.0</td>\n",
       "      <td>NaN</td>\n",
       "      <td>Quality</td>\n",
       "      <td>NaN</td>\n",
       "    </tr>\n",
       "    <tr>\n",
       "      <th>14896</th>\n",
       "      <td>#Miami Graham Nash Live at Parker Playhouse  #...</td>\n",
       "      <td>5647.0</td>\n",
       "      <td>15091.0</td>\n",
       "      <td>5823.0</td>\n",
       "      <td>0.0</td>\n",
       "      <td>United States</td>\n",
       "      <td>Spam</td>\n",
       "      <td>NaN</td>\n",
       "    </tr>\n",
       "    <tr>\n",
       "      <th>14897</th>\n",
       "      <td>@bethannhamilton is in the business of one-upp...</td>\n",
       "      <td>0.0</td>\n",
       "      <td>0.0</td>\n",
       "      <td>NaN</td>\n",
       "      <td>0.0</td>\n",
       "      <td>Southgate, MI</td>\n",
       "      <td>Quality</td>\n",
       "      <td>NaN</td>\n",
       "    </tr>\n",
       "    <tr>\n",
       "      <th>14898</th>\n",
       "      <td>Chasing Success  by  Space Cadetz  Listen up...</td>\n",
       "      <td>1219.0</td>\n",
       "      <td>957.0</td>\n",
       "      <td>4077.0</td>\n",
       "      <td>1.0</td>\n",
       "      <td>United States</td>\n",
       "      <td>Spam</td>\n",
       "      <td>NaN</td>\n",
       "    </tr>\n",
       "  </tbody>\n",
       "</table>\n",
       "<p>14899 rows × 8 columns</p>\n",
       "</div>"
      ],
      "text/plain": [
       "                                                   Tweet  following  \\\n",
       "0                         Good Morning Love  @LeeBrown_V        0.0   \n",
       "1               '@realDonaldTrump @USNavy RIP TO HEROES'    42096.0   \n",
       "2      Haven't been following the news but I understa...        0.0   \n",
       "3      pic.twitter.com/dy9q4ftLhZ What to do with pap...        0.0   \n",
       "4      #DidYouKnow ► Mahatma Gandhi made a brief visi...    17800.0   \n",
       "...                                                  ...        ...   \n",
       "14894  #AllWentWrongWhen I told my hair stylist to \"g...      695.0   \n",
       "14895  They don't have to like you, and you don't hav...        0.0   \n",
       "14896  #Miami Graham Nash Live at Parker Playhouse  #...     5647.0   \n",
       "14897  @bethannhamilton is in the business of one-upp...        0.0   \n",
       "14898    Chasing Success  by  Space Cadetz  Listen up...     1219.0   \n",
       "\n",
       "       followers  actions  is_retweet                        location  \\\n",
       "0            0.0      0.0         0.0               Pennsylvania, USA   \n",
       "1        61060.0   5001.0         0.0       South Padre Island, Texas   \n",
       "2            0.0      NaN         0.0  Will never be broke ever again   \n",
       "3            0.0      0.0         0.0                           Mundo   \n",
       "4        35100.0      NaN         0.0             Nottingham, England   \n",
       "...          ...      ...         ...                             ...   \n",
       "14894      533.0    868.0         1.0                   United States   \n",
       "14895        0.0      0.0         0.0                             NaN   \n",
       "14896    15091.0   5823.0         0.0                   United States   \n",
       "14897        0.0      NaN         0.0                   Southgate, MI   \n",
       "14898      957.0   4077.0         1.0                   United States   \n",
       "\n",
       "          Type Unnamed: 7  \n",
       "0      Quality        NaN  \n",
       "1         Spam        NaN  \n",
       "2      Quality        NaN  \n",
       "3      Quality        NaN  \n",
       "4      Quality        NaN  \n",
       "...        ...        ...  \n",
       "14894     Spam        NaN  \n",
       "14895  Quality        NaN  \n",
       "14896     Spam        NaN  \n",
       "14897  Quality        NaN  \n",
       "14898     Spam        NaN  \n",
       "\n",
       "[14899 rows x 8 columns]"
      ]
     },
     "execution_count": 14,
     "metadata": {},
     "output_type": "execute_result"
    }
   ],
   "source": [
    "df_train = pd.read_csv(TRAIN_PATH)\n",
    "df_train"
   ]
  },
  {
   "cell_type": "markdown",
   "id": "8d329781-7f58-4c5a-9bdd-8408f1dcc593",
   "metadata": {},
   "source": [
    "# Data Visualization"
   ]
  },
  {
   "cell_type": "code",
   "execution_count": 15,
   "id": "6e540e65-007b-4596-b1e6-b6ded0958e0f",
   "metadata": {},
   "outputs": [
    {
     "name": "stdout",
     "output_type": "stream",
     "text": [
      "num_quality: 59632\n",
      "num_spam: 59544\n"
     ]
    }
   ],
   "source": [
    "# Get Number of Quality Tweets\n",
    "is_quality = df_train['Type'] == 'Quality'\n",
    "df_train_quality = df_train[is_quality]\n",
    "print('num_quality:', df_train_quality.size)\n",
    "\n",
    "# Get Number of Spam Tweets\n",
    "is_spam = df_train['Type'] == 'Spam'\n",
    "df_train_spam = df_train[is_spam]\n",
    "print('num_spam:', df_train_spam.size)"
   ]
  },
  {
   "cell_type": "code",
   "execution_count": 16,
   "id": "0f520b1b-79db-426a-8451-0e8807bbbacb",
   "metadata": {},
   "outputs": [
    {
     "data": {
      "image/png": "[encoded data removed]",
      "text/plain": [
       "<Figure size 454x454 with 1 Axes>"
      ]
     },
     "metadata": {},
     "output_type": "display_data"
    }
   ],
   "source": [
    "# Creating Pie Chart\n",
    "category_names = ['Quality', 'Spam']\n",
    "sizes = [df_train_quality.size, df_train_spam.size]\n",
    "custom_colors = ['#74b9ff','#ff7675']\n",
    "\n",
    "plt.figure(figsize=(2, 2), dpi=227)\n",
    "wedges, labels, percents = plt.pie(sizes, labels=category_names, textprops={'fontsize': 10}, \n",
    "                                   startangle=40, autopct='%1.1f%%', colors=custom_colors, \n",
    "                                    explode=[0, 0.03])\n",
    "\n",
    "# label colors\n",
    "labels[0].set_color('lightblue')\n",
    "labels[1].set_color('pink')\n",
    "    \n",
    "# display pie chart\n",
    "plt.show()"
   ]
  },
  {
   "cell_type": "markdown",
   "id": "08f5b16b-526e-4516-8af2-c98bbbe25a6d",
   "metadata": {},
   "source": [
    "# Natural Language Processing\n",
    "\n",
    "1. Convert to lowercase\n",
    "2. Tokenizing\n",
    "3. Removing stop words\n",
    "4. Remove formatting\n",
    "5. Word Stemming\n",
    "6. Remove punctuation"
   ]
  },
  {
   "cell_type": "markdown",
   "id": "32bec602-8c60-412e-a694-d8009c59d46f",
   "metadata": {},
   "source": [
    "# download the NLTK resources (tokenizer & stop words)\n",
    "\n",
    "tokenizing means splitting up a words in a sentence into individual words"
   ]
  },
  {
   "cell_type": "code",
   "execution_count": 17,
   "id": "3f323bd9-7e31-4bb8-92d6-d88aa861e44d",
   "metadata": {},
   "outputs": [
    {
     "name": "stderr",
     "output_type": "stream",
     "text": [
      "[nltk_data] Downloading package punkt to /Users/alexpena/nltk_data...\n",
      "[nltk_data]   Package punkt is already up-to-date!\n"
     ]
    },
    {
     "data": {
      "text/plain": [
       "True"
      ]
     },
     "execution_count": 17,
     "metadata": {},
     "output_type": "execute_result"
    }
   ],
   "source": [
    "nltk.download('punkt')"
   ]
  },
  {
   "cell_type": "code",
   "execution_count": 18,
   "id": "f0fc35aa-0d70-48b9-bcad-6255135977f9",
   "metadata": {},
   "outputs": [
    {
     "name": "stderr",
     "output_type": "stream",
     "text": [
      "[nltk_data] Downloading package stopwords to\n",
      "[nltk_data]     /Users/alexpena/nltk_data...\n",
      "[nltk_data]   Package stopwords is already up-to-date!\n"
     ]
    },
    {
     "data": {
      "text/plain": [
       "True"
      ]
     },
     "execution_count": 18,
     "metadata": {},
     "output_type": "execute_result"
    }
   ],
   "source": [
    "nltk.download('stopwords')"
   ]
  },
  {
   "cell_type": "markdown",
   "id": "9c95285d-6cf0-4485-9145-1d7be0a6ef15",
   "metadata": {},
   "source": [
    "# Tokenizing"
   ]
  },
  {
   "cell_type": "code",
   "execution_count": 19,
   "id": "b5b2896f-c0d5-4399-a4de-8763d7841526",
   "metadata": {},
   "outputs": [
    {
     "data": {
      "text/plain": [
       "['csc845', 'test', 'sentence', 'for', 'team', 'heavily', 'caffeinated']"
      ]
     },
     "execution_count": 19,
     "metadata": {},
     "output_type": "execute_result"
    }
   ],
   "source": [
    "msg = 'CSC845 test sentence for team Heavily Caffeinated'\n",
    "word_tokenize(msg.lower())"
   ]
  },
  {
   "cell_type": "markdown",
   "id": "2a75e9bf-beb9-4d76-a4a1-f19f1391a161",
   "metadata": {},
   "source": [
    "# Removing Stop Words"
   ]
  },
  {
   "cell_type": "code",
   "execution_count": 20,
   "id": "740cc62e-7149-400e-ac7d-0bb9eb739f9d",
   "metadata": {},
   "outputs": [],
   "source": [
    "stop_words = set(stopwords.words('english'))"
   ]
  },
  {
   "cell_type": "code",
   "execution_count": 45,
   "id": "cdc1e07d-53e1-4a8f-818e-e5ff5c31fba2",
   "metadata": {},
   "outputs": [
    {
     "data": {
      "text/plain": [
       "['creat', 'test', 'sentenc', 'team', 'heavili', 'caffein', 'like', 'pie']"
      ]
     },
     "execution_count": 45,
     "metadata": {},
     "output_type": "execute_result"
    }
   ],
   "source": [
    "from functools import reduce\n",
    "stemmer = PorterStemmer()\n",
    "\n",
    "msg = 'created CSC845 test sentence for team Heavily Caffeinated. I like pie.'\n",
    "words = word_tokenize(msg.lower())\n",
    "\n",
    "# using reduce\n",
    "filtered_words = reduce(lambda a,b: a + [stemmer.stem(b)] if b not in stop_words and b.isalpha() else a, words, [])\n",
    "filtered_words"
   ]
  },
  {
   "cell_type": "markdown",
   "id": "534f554a-bb66-4899-86a2-47aaa9c142cc",
   "metadata": {},
   "source": [
    "# Functions for Tweet Processing"
   ]
  },
  {
   "cell_type": "code",
   "execution_count": 46,
   "id": "8942f9c7-1ffe-462e-a19c-f2d2c683fdff",
   "metadata": {},
   "outputs": [],
   "source": [
    "''' Defining clean_message '''\n",
    "def clean_message(message, stemmer=PorterStemmer(), stop_words=set(stopwords.words('english'))):\n",
    "    words = word_tokenize(message.lower())\n",
    "    return reduce(lambda a,b: a + [stemmer.stem(b)] if b not in stop_words and b.isalpha() else a, words, [])"
   ]
  },
  {
   "cell_type": "code",
   "execution_count": 47,
   "id": "0525174d-9f5a-4606-87bb-b58b5dd90445",
   "metadata": {},
   "outputs": [
    {
     "data": {
      "text/plain": [
       "['creat', 'test', 'sentenc', 'team', 'heavili', 'caffein', 'like', 'pie']"
      ]
     },
     "execution_count": 47,
     "metadata": {},
     "output_type": "execute_result"
    }
   ],
   "source": [
    "''' testing function '''\n",
    "\n",
    "clean_message(msg)\n"
   ]
  }
 ],
 "metadata": {
  "kernelspec": {
   "display_name": "Python 3 (ipykernel)",
   "language": "python",
   "name": "python3"
  },
  "language_info": {
   "codemirror_mode": {
    "name": "ipython",
    "version": 3
   },
   "file_extension": ".py",
   "mimetype": "text/x-python",
   "name": "python",
   "nbconvert_exporter": "python",
   "pygments_lexer": "ipython3",
   "version": "3.9.7"
  }
 },
 "nbformat": 4,
 "nbformat_minor": 5
}
