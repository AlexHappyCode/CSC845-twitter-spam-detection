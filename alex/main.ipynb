{
 "cells": [
  {
   "cell_type": "markdown",
   "id": "bb9e42d8-6db2-4fc9-bc6d-1e1c1b1cc300",
   "metadata": {},
   "source": [
    "# Imports"
   ]
  },
  {
   "cell_type": "code",
   "execution_count": 53,
   "id": "82ee8e78-5d57-4211-b48c-f1611d4f4033",
   "metadata": {},
   "outputs": [],
   "source": [
    "import sys\n",
    "import os\n",
    "import numpy as np\n",
    "import pandas as pd\n",
    "from pandas import DataFrame\n",
    "import matplotlib.pyplot as plt"
   ]
  },
  {
   "cell_type": "markdown",
   "id": "0c2e770e-8096-4418-a792-7ff3de295fa7",
   "metadata": {},
   "source": [
    "# Constants"
   ]
  },
  {
   "cell_type": "code",
   "execution_count": 54,
   "id": "068abb45-b863-4169-b35b-a6dd85ce2ec6",
   "metadata": {},
   "outputs": [
    {
     "name": "stdout",
     "output_type": "stream",
     "text": [
      "/home/berimbolo/AdvancedComputerNetworks/CSC845-twitter-spam-detection/alex\n"
     ]
    }
   ],
   "source": [
    "print(os.getcwd())"
   ]
  },
  {
   "cell_type": "code",
   "execution_count": 55,
   "id": "671ab9f7-d074-4f2e-b303-b3a22beca7f0",
   "metadata": {
    "tags": []
   },
   "outputs": [],
   "source": [
    "TRAIN_DIR = 'datasets/train'\n",
    "TRAIN_PATH = 'datasets/train/train.csv'\n",
    "EXAMPLE_FILE = 'datasets/SpamData/01_Processing/practice_email.txt'"
   ]
  },
  {
   "cell_type": "markdown",
   "id": "f675bc46-c134-49c5-a24e-4023d4797ca3",
   "metadata": {},
   "source": [
    "# Reading Test Data"
   ]
  },
  {
   "cell_type": "code",
   "execution_count": 56,
   "id": "e5dc227b-fe80-41a3-bb6e-9eb0382089e6",
   "metadata": {},
   "outputs": [],
   "source": [
    "data = pd.read_csv(TEST_DATA)\n",
    "tweets = DataFrame(data, columns=['Tweet'])\n",
    "followings = DataFrame(data, columns=['following'])"
   ]
  },
  {
   "cell_type": "markdown",
   "id": "eade1224-8772-4878-af64-08d19c1c791b",
   "metadata": {},
   "source": [
    "# Plotting Data"
   ]
  },
  {
   "cell_type": "code",
   "execution_count": 57,
   "id": "5589b95c-6204-44e8-bb6f-f953b412f0fa",
   "metadata": {},
   "outputs": [
    {
     "data": {
      "text/plain": [
       "'Good Morning Love  @LeeBrown_V'"
      ]
     },
     "execution_count": 57,
     "metadata": {},
     "output_type": "execute_result"
    }
   ],
   "source": [
    "data['Tweet'].iloc[0]"
   ]
  },
  {
   "cell_type": "markdown",
   "id": "7209c2cf-e58f-4e47-9b9d-b01aa012f1cd",
   "metadata": {},
   "source": [
    "# Tweet Body Extraction"
   ]
  },
  {
   "cell_type": "code",
   "execution_count": 84,
   "id": "60aa6dd0-b012-4f3a-8dad-938b878c8832",
   "metadata": {},
   "outputs": [],
   "source": [
    "#stream = open('datasets/train.csv')\n",
    "\n",
    "def tweet_body_generator(path):\n",
    "    filepath = join(root, file_name)\n",
    "    stream = open(filepath)\n",
    "    lines = []\n",
    "\n",
    "    for line in stream:\n",
    "        lines.append(line)\n",
    "\n",
    "    tweet_body = '\\n'.join(lines)\n",
    "    yield file_name, tweet_body\n",
    "                \n",
    "    stream.close()\n"
   ]
  },
  {
   "cell_type": "code",
   "execution_count": 89,
   "id": "65fb6615-4347-47a5-acbb-80b3d3bf71ac",
   "metadata": {},
   "outputs": [],
   "source": [
    "\n",
    "def df_from_file(path):\n",
    "    rows = []\n",
    "    row_names = []\n",
    "    \n",
    "    for tweet_body, classification in tweet_body_generator(path):\n",
    "        rows.append({'MESSAGE': tweet_body, 'CATEGORY':classification})\n",
    "        row_names.append(file_name)\n",
    "        \n",
    "    return pd.DataFrame(rows)"
   ]
  },
  {
   "cell_type": "code",
   "execution_count": 90,
   "id": "f0983b3a-2f7f-425a-b47e-653aae79107b",
   "metadata": {},
   "outputs": [
    {
     "ename": "NameError",
     "evalue": "name 'tweet_body' is not defined",
     "output_type": "error",
     "traceback": [
      "\u001b[0;31m---------------------------------------------------------------------------\u001b[0m",
      "\u001b[0;31mNameError\u001b[0m                                 Traceback (most recent call last)",
      "\u001b[0;32m/tmp/ipykernel_4570/3722395832.py\u001b[0m in \u001b[0;36m<module>\u001b[0;34m\u001b[0m\n\u001b[0;32m----> 1\u001b[0;31m \u001b[0mspam_tweets\u001b[0m \u001b[0;34m=\u001b[0m \u001b[0mdf_from_directory\u001b[0m\u001b[0;34m(\u001b[0m\u001b[0mTRAIN_PATH\u001b[0m\u001b[0;34m,\u001b[0m \u001b[0;36m1\u001b[0m\u001b[0;34m)\u001b[0m\u001b[0;34m\u001b[0m\u001b[0;34m\u001b[0m\u001b[0m\n\u001b[0m",
      "\u001b[0;32m/tmp/ipykernel_4570/4054133675.py\u001b[0m in \u001b[0;36mdf_from_directory\u001b[0;34m(path, classification)\u001b[0m\n\u001b[1;32m      4\u001b[0m \u001b[0;34m\u001b[0m\u001b[0m\n\u001b[1;32m      5\u001b[0m     \u001b[0;32mfor\u001b[0m \u001b[0mfile_name\u001b[0m\u001b[0;34m,\u001b[0m \u001b[0memail_body\u001b[0m \u001b[0;32min\u001b[0m \u001b[0mtweet_body_generator\u001b[0m\u001b[0;34m(\u001b[0m\u001b[0mpath\u001b[0m\u001b[0;34m)\u001b[0m\u001b[0;34m:\u001b[0m\u001b[0;34m\u001b[0m\u001b[0;34m\u001b[0m\u001b[0m\n\u001b[0;32m----> 6\u001b[0;31m         \u001b[0mrows\u001b[0m\u001b[0;34m.\u001b[0m\u001b[0mappend\u001b[0m\u001b[0;34m(\u001b[0m\u001b[0;34m{\u001b[0m\u001b[0;34m'MESSAGE'\u001b[0m\u001b[0;34m:\u001b[0m \u001b[0mtweet_body\u001b[0m\u001b[0;34m,\u001b[0m \u001b[0;34m'CATEGORY'\u001b[0m\u001b[0;34m:\u001b[0m\u001b[0mclassification\u001b[0m\u001b[0;34m}\u001b[0m\u001b[0;34m)\u001b[0m\u001b[0;34m\u001b[0m\u001b[0;34m\u001b[0m\u001b[0m\n\u001b[0m\u001b[1;32m      7\u001b[0m         \u001b[0mrow_names\u001b[0m\u001b[0;34m.\u001b[0m\u001b[0mappend\u001b[0m\u001b[0;34m(\u001b[0m\u001b[0mfile_name\u001b[0m\u001b[0;34m)\u001b[0m\u001b[0;34m\u001b[0m\u001b[0;34m\u001b[0m\u001b[0m\n\u001b[1;32m      8\u001b[0m \u001b[0;34m\u001b[0m\u001b[0m\n",
      "\u001b[0;31mNameError\u001b[0m: name 'tweet_body' is not defined"
     ]
    }
   ],
   "source": [
    "spam_tweets = df_from_directory(TRAIN_PATH, 1)"
   ]
  }
 ],
 "metadata": {
  "kernelspec": {
   "display_name": "Python 3 (ipykernel)",
   "language": "python",
   "name": "python3"
  },
  "language_info": {
   "codemirror_mode": {
    "name": "ipython",
    "version": 3
   },
   "file_extension": ".py",
   "mimetype": "text/x-python",
   "name": "python",
   "nbconvert_exporter": "python",
   "pygments_lexer": "ipython3",
   "version": "3.9.7"
  }
 },
 "nbformat": 4,
 "nbformat_minor": 5
}
