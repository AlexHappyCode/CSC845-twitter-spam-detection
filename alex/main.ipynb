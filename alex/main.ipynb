{
 "cells": [
  {
   "cell_type": "markdown",
   "id": "bb9e42d8-6db2-4fc9-bc6d-1e1c1b1cc300",
   "metadata": {},
   "source": [
    "# Imports"
   ]
  },
  {
   "cell_type": "code",
   "execution_count": 46,
   "id": "82ee8e78-5d57-4211-b48c-f1611d4f4033",
   "metadata": {},
   "outputs": [],
   "source": [
    "import sys\n",
    "import os\n",
    "import numpy as np\n",
    "import pandas as pd\n",
    "from pandas import DataFrame\n",
    "import matplotlib.pyplot as plt\n",
    "\n",
    "import nltk\n",
    "from nltk.stem import PorterStemmer\n",
    "from nltk.corpus import stopwords\n",
    "from nltk.tokenize import word_tokenize\n",
    "\n",
    "from wordcloud import WordCloud\n",
    "\n",
    "%matplotlib inline"
   ]
  },
  {
   "cell_type": "markdown",
   "id": "0c2e770e-8096-4418-a792-7ff3de295fa7",
   "metadata": {},
   "source": [
    "# Constants"
   ]
  },
  {
   "cell_type": "code",
   "execution_count": 47,
   "id": "671ab9f7-d074-4f2e-b303-b3a22beca7f0",
   "metadata": {
    "tags": []
   },
   "outputs": [],
   "source": [
    "TRAIN_PATH = 'datasets/train.csv'\n",
    "TEST_PATH = 'datasets/test.csv'"
   ]
  },
  {
   "cell_type": "markdown",
   "id": "f675bc46-c134-49c5-a24e-4023d4797ca3",
   "metadata": {},
   "source": [
    "# Reading Test Data"
   ]
  },
  {
   "cell_type": "code",
   "execution_count": 48,
   "id": "a2fbd92b-cf8e-4c02-9cd0-768b3e781588",
   "metadata": {},
   "outputs": [
    {
     "data": {
      "text/html": [
       "<div>\n",
       "<style scoped>\n",
       "    .dataframe tbody tr th:only-of-type {\n",
       "        vertical-align: middle;\n",
       "    }\n",
       "\n",
       "    .dataframe tbody tr th {\n",
       "        vertical-align: top;\n",
       "    }\n",
       "\n",
       "    .dataframe thead th {\n",
       "        text-align: right;\n",
       "    }\n",
       "</style>\n",
       "<table border=\"1\" class=\"dataframe\">\n",
       "  <thead>\n",
       "    <tr style=\"text-align: right;\">\n",
       "      <th></th>\n",
       "      <th>Tweet</th>\n",
       "      <th>following</th>\n",
       "      <th>followers</th>\n",
       "      <th>actions</th>\n",
       "      <th>is_retweet</th>\n",
       "      <th>location</th>\n",
       "      <th>Type</th>\n",
       "      <th>Unnamed: 7</th>\n",
       "    </tr>\n",
       "  </thead>\n",
       "  <tbody>\n",
       "    <tr>\n",
       "      <th>0</th>\n",
       "      <td>Good Morning Love  @LeeBrown_V</td>\n",
       "      <td>0.0</td>\n",
       "      <td>0.0</td>\n",
       "      <td>0.0</td>\n",
       "      <td>0.0</td>\n",
       "      <td>Pennsylvania, USA</td>\n",
       "      <td>Quality</td>\n",
       "      <td>NaN</td>\n",
       "    </tr>\n",
       "    <tr>\n",
       "      <th>1</th>\n",
       "      <td>'@realDonaldTrump @USNavy RIP TO HEROES'</td>\n",
       "      <td>42096.0</td>\n",
       "      <td>61060.0</td>\n",
       "      <td>5001.0</td>\n",
       "      <td>0.0</td>\n",
       "      <td>South Padre Island, Texas</td>\n",
       "      <td>Spam</td>\n",
       "      <td>NaN</td>\n",
       "    </tr>\n",
       "    <tr>\n",
       "      <th>2</th>\n",
       "      <td>Haven't been following the news but I understa...</td>\n",
       "      <td>0.0</td>\n",
       "      <td>0.0</td>\n",
       "      <td>NaN</td>\n",
       "      <td>0.0</td>\n",
       "      <td>Will never be broke ever again</td>\n",
       "      <td>Quality</td>\n",
       "      <td>NaN</td>\n",
       "    </tr>\n",
       "    <tr>\n",
       "      <th>3</th>\n",
       "      <td>pic.twitter.com/dy9q4ftLhZ What to do with pap...</td>\n",
       "      <td>0.0</td>\n",
       "      <td>0.0</td>\n",
       "      <td>0.0</td>\n",
       "      <td>0.0</td>\n",
       "      <td>Mundo</td>\n",
       "      <td>Quality</td>\n",
       "      <td>NaN</td>\n",
       "    </tr>\n",
       "    <tr>\n",
       "      <th>4</th>\n",
       "      <td>#DidYouKnow ► Mahatma Gandhi made a brief visi...</td>\n",
       "      <td>17800.0</td>\n",
       "      <td>35100.0</td>\n",
       "      <td>NaN</td>\n",
       "      <td>0.0</td>\n",
       "      <td>Nottingham, England</td>\n",
       "      <td>Quality</td>\n",
       "      <td>NaN</td>\n",
       "    </tr>\n",
       "    <tr>\n",
       "      <th>...</th>\n",
       "      <td>...</td>\n",
       "      <td>...</td>\n",
       "      <td>...</td>\n",
       "      <td>...</td>\n",
       "      <td>...</td>\n",
       "      <td>...</td>\n",
       "      <td>...</td>\n",
       "      <td>...</td>\n",
       "    </tr>\n",
       "    <tr>\n",
       "      <th>14894</th>\n",
       "      <td>#AllWentWrongWhen I told my hair stylist to \"g...</td>\n",
       "      <td>695.0</td>\n",
       "      <td>533.0</td>\n",
       "      <td>868.0</td>\n",
       "      <td>1.0</td>\n",
       "      <td>United States</td>\n",
       "      <td>Spam</td>\n",
       "      <td>NaN</td>\n",
       "    </tr>\n",
       "    <tr>\n",
       "      <th>14895</th>\n",
       "      <td>They don't have to like you, and you don't hav...</td>\n",
       "      <td>0.0</td>\n",
       "      <td>0.0</td>\n",
       "      <td>0.0</td>\n",
       "      <td>0.0</td>\n",
       "      <td>NaN</td>\n",
       "      <td>Quality</td>\n",
       "      <td>NaN</td>\n",
       "    </tr>\n",
       "    <tr>\n",
       "      <th>14896</th>\n",
       "      <td>#Miami Graham Nash Live at Parker Playhouse  #...</td>\n",
       "      <td>5647.0</td>\n",
       "      <td>15091.0</td>\n",
       "      <td>5823.0</td>\n",
       "      <td>0.0</td>\n",
       "      <td>United States</td>\n",
       "      <td>Spam</td>\n",
       "      <td>NaN</td>\n",
       "    </tr>\n",
       "    <tr>\n",
       "      <th>14897</th>\n",
       "      <td>@bethannhamilton is in the business of one-upp...</td>\n",
       "      <td>0.0</td>\n",
       "      <td>0.0</td>\n",
       "      <td>NaN</td>\n",
       "      <td>0.0</td>\n",
       "      <td>Southgate, MI</td>\n",
       "      <td>Quality</td>\n",
       "      <td>NaN</td>\n",
       "    </tr>\n",
       "    <tr>\n",
       "      <th>14898</th>\n",
       "      <td>Chasing Success  by  Space Cadetz  Listen up...</td>\n",
       "      <td>1219.0</td>\n",
       "      <td>957.0</td>\n",
       "      <td>4077.0</td>\n",
       "      <td>1.0</td>\n",
       "      <td>United States</td>\n",
       "      <td>Spam</td>\n",
       "      <td>NaN</td>\n",
       "    </tr>\n",
       "  </tbody>\n",
       "</table>\n",
       "<p>14899 rows × 8 columns</p>\n",
       "</div>"
      ],
      "text/plain": [
       "                                                   Tweet  following  \\\n",
       "0                         Good Morning Love  @LeeBrown_V        0.0   \n",
       "1               '@realDonaldTrump @USNavy RIP TO HEROES'    42096.0   \n",
       "2      Haven't been following the news but I understa...        0.0   \n",
       "3      pic.twitter.com/dy9q4ftLhZ What to do with pap...        0.0   \n",
       "4      #DidYouKnow ► Mahatma Gandhi made a brief visi...    17800.0   \n",
       "...                                                  ...        ...   \n",
       "14894  #AllWentWrongWhen I told my hair stylist to \"g...      695.0   \n",
       "14895  They don't have to like you, and you don't hav...        0.0   \n",
       "14896  #Miami Graham Nash Live at Parker Playhouse  #...     5647.0   \n",
       "14897  @bethannhamilton is in the business of one-upp...        0.0   \n",
       "14898    Chasing Success  by  Space Cadetz  Listen up...     1219.0   \n",
       "\n",
       "       followers  actions  is_retweet                        location  \\\n",
       "0            0.0      0.0         0.0               Pennsylvania, USA   \n",
       "1        61060.0   5001.0         0.0       South Padre Island, Texas   \n",
       "2            0.0      NaN         0.0  Will never be broke ever again   \n",
       "3            0.0      0.0         0.0                           Mundo   \n",
       "4        35100.0      NaN         0.0             Nottingham, England   \n",
       "...          ...      ...         ...                             ...   \n",
       "14894      533.0    868.0         1.0                   United States   \n",
       "14895        0.0      0.0         0.0                             NaN   \n",
       "14896    15091.0   5823.0         0.0                   United States   \n",
       "14897        0.0      NaN         0.0                   Southgate, MI   \n",
       "14898      957.0   4077.0         1.0                   United States   \n",
       "\n",
       "          Type Unnamed: 7  \n",
       "0      Quality        NaN  \n",
       "1         Spam        NaN  \n",
       "2      Quality        NaN  \n",
       "3      Quality        NaN  \n",
       "4      Quality        NaN  \n",
       "...        ...        ...  \n",
       "14894     Spam        NaN  \n",
       "14895  Quality        NaN  \n",
       "14896     Spam        NaN  \n",
       "14897  Quality        NaN  \n",
       "14898     Spam        NaN  \n",
       "\n",
       "[14899 rows x 8 columns]"
      ]
     },
     "execution_count": 48,
     "metadata": {},
     "output_type": "execute_result"
    }
   ],
   "source": [
    "df_train = pd.read_csv(TRAIN_PATH)\n",
    "df_train"
   ]
  },
  {
   "cell_type": "markdown",
   "id": "8d329781-7f58-4c5a-9bdd-8408f1dcc593",
   "metadata": {},
   "source": [
    "# Data Visualization"
   ]
  },
  {
   "cell_type": "code",
   "execution_count": 49,
   "id": "6e540e65-007b-4596-b1e6-b6ded0958e0f",
   "metadata": {},
   "outputs": [
    {
     "name": "stdout",
     "output_type": "stream",
     "text": [
      "num_quality: 59632\n",
      "num_spam: 59544\n"
     ]
    }
   ],
   "source": [
    "# Get Number of Quality Tweets\n",
    "is_quality = df_train['Type'] == 'Quality'\n",
    "df_train_quality = df_train[is_quality]\n",
    "print('num_quality:', df_train_quality.size)\n",
    "\n",
    "# Get Number of Spam Tweets\n",
    "is_spam = df_train['Type'] == 'Spam'\n",
    "df_train_spam = df_train[is_spam]\n",
    "print('num_spam:', df_train_spam.size)"
   ]
  },
  {
   "cell_type": "code",
   "execution_count": 50,
   "id": "0f520b1b-79db-426a-8451-0e8807bbbacb",
   "metadata": {},
   "outputs": [
    {
     "data": {
      "image/png": "[encoded data removed]",
      "text/plain": [
       "<Figure size 454x454 with 1 Axes>"
      ]
     },
     "metadata": {},
     "output_type": "display_data"
    }
   ],
   "source": [
    "# Creating Pie Chart\n",
    "category_names = ['Quality', 'Spam']\n",
    "sizes = [df_train_quality.size, df_train_spam.size]\n",
    "custom_colors = ['#74b9ff','#ff7675']\n",
    "\n",
    "plt.figure(figsize=(2, 2), dpi=227)\n",
    "wedges, labels, percents = plt.pie(sizes, labels=category_names, textprops={'fontsize': 10}, \n",
    "                                   startangle=40, autopct='%1.1f%%', colors=custom_colors, \n",
    "                                    explode=[0, 0.03])\n",
    "\n",
    "# label colors\n",
    "labels[0].set_color('lightblue')\n",
    "labels[1].set_color('pink')\n",
    "    \n",
    "# display pie chart\n",
    "plt.show()"
   ]
  },
  {
   "cell_type": "markdown",
   "id": "08f5b16b-526e-4516-8af2-c98bbbe25a6d",
   "metadata": {},
   "source": [
    "# Natural Language Processing\n",
    "\n",
    "1. Convert to lowercase\n",
    "2. Tokenizing\n",
    "3. Removing stop words\n",
    "4. Remove formatting\n",
    "5. Word Stemming\n",
    "6. Remove punctuation"
   ]
  },
  {
   "cell_type": "markdown",
   "id": "32bec602-8c60-412e-a694-d8009c59d46f",
   "metadata": {},
   "source": [
    "## download the NLTK resources (tokenizer & stop words)\n",
    "\n",
    "tokenizing means splitting up a words in a sentence into individual words"
   ]
  },
  {
   "cell_type": "code",
   "execution_count": 51,
   "id": "3f323bd9-7e31-4bb8-92d6-d88aa861e44d",
   "metadata": {},
   "outputs": [
    {
     "name": "stderr",
     "output_type": "stream",
     "text": [
      "[nltk_data] Downloading package punkt to /home/berimbolo/nltk_data...\n",
      "[nltk_data]   Package punkt is already up-to-date!\n"
     ]
    },
    {
     "data": {
      "text/plain": [
       "True"
      ]
     },
     "execution_count": 51,
     "metadata": {},
     "output_type": "execute_result"
    }
   ],
   "source": [
    "nltk.download('punkt')"
   ]
  },
  {
   "cell_type": "code",
   "execution_count": 52,
   "id": "f0fc35aa-0d70-48b9-bcad-6255135977f9",
   "metadata": {},
   "outputs": [
    {
     "name": "stderr",
     "output_type": "stream",
     "text": [
      "[nltk_data] Downloading package stopwords to\n",
      "[nltk_data]     /home/berimbolo/nltk_data...\n",
      "[nltk_data]   Package stopwords is already up-to-date!\n"
     ]
    },
    {
     "data": {
      "text/plain": [
       "True"
      ]
     },
     "execution_count": 52,
     "metadata": {},
     "output_type": "execute_result"
    }
   ],
   "source": [
    "nltk.download('stopwords')"
   ]
  },
  {
   "cell_type": "markdown",
   "id": "9c95285d-6cf0-4485-9145-1d7be0a6ef15",
   "metadata": {},
   "source": [
    "# Tokenizing"
   ]
  },
  {
   "cell_type": "code",
   "execution_count": 53,
   "id": "b5b2896f-c0d5-4399-a4de-8763d7841526",
   "metadata": {},
   "outputs": [
    {
     "data": {
      "text/plain": [
       "['csc845', 'test', 'sentence', 'for', 'team', 'heavily', 'caffeinated']"
      ]
     },
     "execution_count": 53,
     "metadata": {},
     "output_type": "execute_result"
    }
   ],
   "source": [
    "msg = 'CSC845 test sentence for team Heavily Caffeinated'\n",
    "word_tokenize(msg.lower())"
   ]
  },
  {
   "cell_type": "markdown",
   "id": "2a75e9bf-beb9-4d76-a4a1-f19f1391a161",
   "metadata": {},
   "source": [
    "# Removing Stop Words"
   ]
  },
  {
   "cell_type": "code",
   "execution_count": 54,
   "id": "740cc62e-7149-400e-ac7d-0bb9eb739f9d",
   "metadata": {},
   "outputs": [],
   "source": [
    "stop_words = set(stopwords.words('english'))"
   ]
  },
  {
   "cell_type": "code",
   "execution_count": 55,
   "id": "cdc1e07d-53e1-4a8f-818e-e5ff5c31fba2",
   "metadata": {},
   "outputs": [
    {
     "data": {
      "text/plain": [
       "['creat', 'test', 'sentenc', 'team', 'heavili', 'caffein', 'like', 'pie']"
      ]
     },
     "execution_count": 55,
     "metadata": {},
     "output_type": "execute_result"
    }
   ],
   "source": [
    "''' Example of filtering words '''\n",
    "\n",
    "from functools import reduce\n",
    "stemmer = PorterStemmer()\n",
    "\n",
    "msg = 'created CSC845 test sentence for team Heavily Caffeinated. I like pie.'\n",
    "words = word_tokenize(msg.lower())\n",
    "\n",
    "# using reduce\n",
    "filtered_words = reduce(lambda a,b: a + [stemmer.stem(b)] if b not in stop_words and b.isalpha() else a, words, [])\n",
    "filtered_words"
   ]
  },
  {
   "cell_type": "markdown",
   "id": "534f554a-bb66-4899-86a2-47aaa9c142cc",
   "metadata": {},
   "source": [
    "# Functions for Tweet Processing"
   ]
  },
  {
   "cell_type": "code",
   "execution_count": 56,
   "id": "8942f9c7-1ffe-462e-a19c-f2d2c683fdff",
   "metadata": {},
   "outputs": [],
   "source": [
    "''' Method tokenizes, removes punctuation, removes stop words, and stems'''\n",
    "def clean_tweet(message, stemmer=PorterStemmer(), stop_words=set(stopwords.words('english'))):\n",
    "    words = word_tokenize(message.lower())\n",
    "    return reduce(lambda a,b: a + [stemmer.stem(b)] if b not in stop_words and b.isalpha() else a, words, [])"
   ]
  },
  {
   "cell_type": "code",
   "execution_count": 57,
   "id": "0525174d-9f5a-4606-87bb-b58b5dd90445",
   "metadata": {},
   "outputs": [
    {
     "data": {
      "text/plain": [
       "['creat', 'test', 'sentenc', 'team', 'heavili', 'caffein', 'like', 'pie']"
      ]
     },
     "execution_count": 57,
     "metadata": {},
     "output_type": "execute_result"
    }
   ],
   "source": [
    "''' testing function '''\n",
    "\n",
    "clean_tweet(msg)\n"
   ]
  },
  {
   "cell_type": "markdown",
   "id": "bde384a5-da9b-4e75-9894-e14947ab4d6b",
   "metadata": {},
   "source": [
    "# Slicing Dataframes"
   ]
  },
  {
   "cell_type": "code",
   "execution_count": 58,
   "id": "e0624d93-e4bf-4fb3-bd4b-b85b53593572",
   "metadata": {},
   "outputs": [
    {
     "name": "stdout",
     "output_type": "stream",
     "text": [
      "Good Morning Love  @LeeBrown_V\n"
     ]
    }
   ],
   "source": [
    "''' Get a specific entry '''\n",
    "print(df_train.iat[0,0])"
   ]
  },
  {
   "cell_type": "markdown",
   "id": "96944076-c228-4e4d-966b-549cbad10631",
   "metadata": {},
   "source": [
    "### Checking runtime"
   ]
  },
  {
   "cell_type": "code",
   "execution_count": 59,
   "id": "5a8ed079-e0c0-4db1-849d-ab6cba7624ca",
   "metadata": {},
   "outputs": [
    {
     "name": "stdout",
     "output_type": "stream",
     "text": [
      "CPU times: user 3.51 s, sys: 1.31 ms, total: 3.51 s\n",
      "Wall time: 3.52 s\n"
     ]
    }
   ],
   "source": [
    "%%time\n",
    "\n",
    "nested_list = df_train.Tweet.apply(clean_tweet)\n",
    "flat_list = [item for sublist in nested_list for item in sublist]"
   ]
  },
  {
   "cell_type": "markdown",
   "id": "47caa6ca-28c7-4cb9-9297-6376b0727144",
   "metadata": {},
   "source": [
    "## Using Logic to Slice DataFrames"
   ]
  },
  {
   "cell_type": "code",
   "execution_count": 60,
   "id": "97945554-976e-4565-a49e-ff2da70b2c99",
   "metadata": {},
   "outputs": [],
   "source": [
    "doc_ids_spam = df_train[df_train.Type == 'Spam'].index\n",
    "doc_ids_quality = df_train[df_train.Type == 'Quality'].index"
   ]
  },
  {
   "cell_type": "code",
   "execution_count": 61,
   "id": "b72fde7e-aa4e-4760-a58e-6c90180d25f4",
   "metadata": {},
   "outputs": [
    {
     "data": {
      "text/plain": [
       "Int64Index([    1,     5,     8,     9,    10,    11,    12,    13,    14,\n",
       "               15,\n",
       "            ...\n",
       "            14878, 14880, 14881, 14882, 14886, 14891, 14893, 14894, 14896,\n",
       "            14898],\n",
       "           dtype='int64', length=7443)"
      ]
     },
     "execution_count": 61,
     "metadata": {},
     "output_type": "execute_result"
    }
   ],
   "source": [
    "doc_ids_spam"
   ]
  },
  {
   "cell_type": "markdown",
   "id": "df36aa44-8b82-4091-922e-c58e2f004998",
   "metadata": {},
   "source": [
    "# Subsetting a Series with an Index"
   ]
  },
  {
   "cell_type": "code",
   "execution_count": 62,
   "id": "d8f460be-d716-455f-a694-0f90d6bd03cd",
   "metadata": {},
   "outputs": [
    {
     "data": {
      "text/plain": [
       "pandas.core.indexes.numeric.Int64Index"
      ]
     },
     "execution_count": 62,
     "metadata": {},
     "output_type": "execute_result"
    }
   ],
   "source": [
    "type(doc_ids_spam)"
   ]
  },
  {
   "cell_type": "code",
   "execution_count": 63,
   "id": "e8c026fc-9817-4e09-8fc9-6c0dfabd1a05",
   "metadata": {},
   "outputs": [
    {
     "data": {
      "text/plain": [
       "pandas.core.series.Series"
      ]
     },
     "execution_count": 63,
     "metadata": {},
     "output_type": "execute_result"
    }
   ],
   "source": [
    "type(nested_list)"
   ]
  },
  {
   "cell_type": "code",
   "execution_count": 64,
   "id": "ccd6b75c-5887-4e67-921f-ff10e92d7e09",
   "metadata": {},
   "outputs": [
    {
     "data": {
      "text/plain": [
       "(7454,)"
      ]
     },
     "execution_count": 64,
     "metadata": {},
     "output_type": "execute_result"
    }
   ],
   "source": [
    "nested_list_quality = nested_list.loc[doc_ids_quality]\n",
    "nested_list_quality.shape"
   ]
  },
  {
   "cell_type": "code",
   "execution_count": 65,
   "id": "7932d8ab-35a7-4581-8e1c-6aa56b5fca6e",
   "metadata": {},
   "outputs": [
    {
     "data": {
      "text/plain": [
       "14889       [need, hear, tvvin, sing, version, live, http]\n",
       "14890    [know, add, goal, googl, calendar, kinda, cool...\n",
       "14892    [actual, last, nation, referendum, charlotteto...\n",
       "14895                                         [like, care]\n",
       "14897                        [bethannhamilton, busi, good]\n",
       "Name: Tweet, dtype: object"
      ]
     },
     "execution_count": 65,
     "metadata": {},
     "output_type": "execute_result"
    }
   ],
   "source": [
    "nested_list_quality.tail()"
   ]
  },
  {
   "cell_type": "code",
   "execution_count": 66,
   "id": "3df1e444-8db8-4325-89e7-9378eae1386e",
   "metadata": {},
   "outputs": [
    {
     "data": {
      "text/plain": [
       "1                     [realdonaldtrump, usnavi, rip, hero]\n",
       "5        [amm, samantha, bee, tri, attack, trump, inste...\n",
       "8        [bank, brexit, time, invest, uk, colin, ward, ...\n",
       "9                                    [serv, protect, http]\n",
       "10                                          [beauti, face]\n",
       "                               ...                        \n",
       "14891               [load, back, mood, christmasaftermath]\n",
       "14893    [kendri, moral, hit, homerun, royal, snap, ser...\n",
       "14894     [allwentwrongwhen, told, hair, stylist, go, nut]\n",
       "14896    [miami, graham, nash, live, parker, playhous, ...\n",
       "14898        [chase, success, space, cadetz, listen, http]\n",
       "Name: Tweet, Length: 7443, dtype: object"
      ]
     },
     "execution_count": 66,
     "metadata": {},
     "output_type": "execute_result"
    }
   ],
   "source": [
    "nested_list_spam = nested_list.loc[doc_ids_spam]\n",
    "nested_list_spam"
   ]
  },
  {
   "cell_type": "code",
   "execution_count": 67,
   "id": "847a12c8-dec6-4b5d-8907-206605716c23",
   "metadata": {},
   "outputs": [
    {
     "data": {
      "text/plain": [
       "11897"
      ]
     },
     "execution_count": 67,
     "metadata": {},
     "output_type": "execute_result"
    }
   ],
   "source": [
    "# Non spam tweets\n",
    "flat_list_quality = [item for sublist in nested_list_quality for item in sublist]\n",
    "normal_words = pd.Series(flat_list_quality).value_counts() # unique words\n",
    "normal_words.shape[0] # total num of unique words"
   ]
  },
  {
   "cell_type": "code",
   "execution_count": 68,
   "id": "9c40c67f-6fb5-4627-a901-55d6e6eaf973",
   "metadata": {},
   "outputs": [
    {
     "data": {
      "text/plain": [
       "http     2264\n",
       "like      310\n",
       "get       293\n",
       "love      274\n",
       "new       240\n",
       "go        224\n",
       "day       221\n",
       "thank     221\n",
       "know      205\n",
       "one       192\n",
       "dtype: int64"
      ]
     },
     "execution_count": 68,
     "metadata": {},
     "output_type": "execute_result"
    }
   ],
   "source": [
    "normal_words[:10]"
   ]
  },
  {
   "cell_type": "code",
   "execution_count": 69,
   "id": "b3cdb7ac-5df4-41ef-a6ca-65ef1e3ea36a",
   "metadata": {},
   "outputs": [
    {
     "data": {
      "text/plain": [
       "11667"
      ]
     },
     "execution_count": 69,
     "metadata": {},
     "output_type": "execute_result"
    }
   ],
   "source": [
    "# spam tweets\n",
    "flat_list_spam = [item for sublist in nested_list_spam for item in sublist]\n",
    "spam_words = pd.Series(flat_list_spam).value_counts() # unique words\n",
    "spam_words.shape[0] # total num of unique words"
   ]
  },
  {
   "cell_type": "code",
   "execution_count": 110,
   "id": "fb7fa8a9-43c5-4d53-94e7-de32ed2b163a",
   "metadata": {},
   "outputs": [
    {
     "data": {
      "text/plain": [
       "http     6193\n",
       "trump     603\n",
       "news      575\n",
       "rt        334\n",
       "new       252\n",
       "polic     217\n",
       "man       213\n",
       "get       211\n",
       "sport     208\n",
       "say       205\n",
       "dtype: int64"
      ]
     },
     "execution_count": 110,
     "metadata": {},
     "output_type": "execute_result"
    }
   ],
   "source": [
    "spam_words[:10]"
   ]
  },
  {
   "cell_type": "markdown",
   "id": "b6ac54ff-9731-4718-a208-1e3a3d746b1f",
   "metadata": {},
   "source": [
    "# Creating a World Cloud"
   ]
  },
  {
   "cell_type": "code",
   "execution_count": 120,
   "id": "e2f8d360-09b4-418d-bd7a-7c0f51ede234",
   "metadata": {},
   "outputs": [
    {
     "data": {
      "text/plain": [
       "'http trump news rt new polic man get sport say polit peopl break obama one like kill world amp go us time video black make want day white call hillari state take local love presid need support fire vote america watch show look year clinton american via know think woman see shoot health media attack win good right offic hous back first live would report help never plan use let life home realdonaldtrump busi bill today tri top play work thing death citi come girl talk arrest still ca two liber shot stop elect fight investig school thank gop cnn topnew crime could found maga famili great democrat women die dead tcot law tell cop may counti donald way blacklivesmatt got everi nation pjnet miss offici best run ask end car cleveland texa million releas court give charg game gun potu last deal chang tweet case u real protest hit student kid set leav suspect ever realli open crash keep power san ban murder lead god north forc big isi start countri even accus follow free twitter money happen senat care rememb water join put war issu dog stand dem fake muslim russian islam chicago music south meet claim anoth gt find said mani leader hope photo tax side hate lie pleas wall immigr russia tech john children team must campaign former face head terror china ralli next alway person night continu noth high someth return final fbi post morn syria group boy men job well happi govern read race star turn someon park close pay name histori wo racist record much terrorist rule jail illeg injur week better bomb friend thought demand babi mom nfl build listen order train left parti fund victim truth york republican entertain feel korea save pass latest air teen prison poll seek street hand patriot warn sex protect environ threat wait lol servic antifa believ child point made question cover stori player guy second rate judg least miami caus east secur move mayor fuck system west problem syrian armi buy part near word dont act target feder refuge reason share offer california long comey oh forget flood nowplay violenc nyc destroy old sign fatal christma bad wonder hold blame three without candid begin lose drop food debat respons sure arm iran speak hill hour everyon beat public rape human fall littl away enlist border matter hillaryclinton paid young heart bring midnight celebr eat futur stay resid line father sander rock peac defend block congress becom justic movi mean cut crimin na email leak comment critic true retweet rise book bodi foxnew teacher challeng commun expos learn topvideo billion interest lost mt store citizen mother goe unit hear colleg univers chief fail visit shock son full rap mexico ad sinc drug social major strong florida threaten includ cruz speech gener approv voter reveal coach ccot militari aid la hot thousand jame area legal around racism announc refus storm check event lot art age month send action host told anyon beauti enough sentenc risk hack control parent blm fact road center governor mccain tonight drive compani also class endors king place anthem freedom actual washington lawmak song robberi admit resign brown author ahead iraq charlottesvil mad market allow ye propos ppl wake readi search fox outsid posit assault polici blue damn kind app test yet tv base differ uk land fear march traitor gon shit msm minist bank weekend honor award ohio kansa corrupt driver birthday review behind eu grow earli apolog beach suprem hell ice viral idea im climat remain facebook killer french dc conserv suicid done plane season front orlean attempt wear welcom push worth sunday emerg wow track dream slam declar spend seat michael flag phone berni hurrican shut saw pull press past discuss sleep weather guilti activist remind roll amid dinner sheriff sourc stab putin list veteran suspend attorney pick file soldier featur deadli half less atlanta sever danc remov ass michigan traffic strike vega islamkil agre usa cat presidenti develop memori possibl els respond piec hair ago super bowl wrong wife nuclear card decis saturday import identifi worri ryan worst tie london raid amaz wish ignor serv chanc pray fraud togeth moment alreadi step topl baltimor red mind deserv daughter fun sexual francisco donat agent seen youtub explain husband church detroit mueller todolistbeforechristma massiv number hospit hurt owner district answer hero link daili station seattl expect statu blast paul navi supremacist seem gave franc sanjos defens vet turkey jeff impeach town safe poor gopdeb account n r battl serious educ gov artist hard pictur homeless special launch marijuana due eric obamacar small dollar far thingsyoucantignor cost prais ga joke kim creat level took minut secret river michel film wisconsin cant policebrut footbal deni bless nigga coast messag africa oper quot everyth prosecutor indict emot natur room shop energi rico un sell puerto hollywood foreign deport ur surpris green receiv loss instead aleppo project bid plead fed studi lawsuit restaur soundcloud crisi mike hotel jose tower execut soon eye ny proud playoff british updat worker lift troop promot warrior jud evid replac medic four biggest respect georg cancer summer alabama voic anyth mayb alert walk travel bu ade drink steve danger cultur arizona burn collect lawyer anim stupid lynch write riot wound pm touch sad nice probe fli reach b canada debalwaystrump fan sorri israel price label jet holiday enter member predict interview short rich sound compar sue allegedli union guess privat info rais island magazin marin credit surviv accept club scandal mustbeban site apart brother african ok detail wont reuter program christian perform forward william heard coffe movement chri disabl session scienc phoenix enemi employe wtf attent internet came villag okay across rob oil despit ring bridg limit bust collaps jone data other oppos connect hiphop appl toavoidworki imag process beer kelli doj realiz crowd sister beyonc view shame trumptrain abort dnc boston cup key abus staywok usfa houston avoid might oakland design date commit demndeb organ nodapl went senior gold cb titl gone statement parenthood constitut dalla alon urg access foundat board trend articl hundr rr text trial benghazi kaepernick steal budget laugh episod react reopen huge damag flight queen sick fill hey hire tree pari result clean dark advanc doctor jesu monday fit sing histor address injuri confirm pro troll manag joe effort director gay seri mission grant crazi disgust punish camera guard click lake exactli fame matthew mass wast failur silent correct silenc publish truck basketbal percent louisiana downtown stolen increas tough trip inaugur nazi offens stage juri drunk pig suit mix moor concern cartoon betteralternativetodeb success inmat pipelin missouri primari machin incid staff appear friday whole robert role surg wakeupamerica term slave dad pre cia fakenew practic singl max invit explos tennesse chelsea camp among retir boost insan effect colin egypt trail secretari inspir wors australia straight deputi quarter outrag product homicid idiot that intellig ride de agenda winner decid kochfarm mari weinstein handl aliv rain hall graham airport toward tune adult neighbor loui smart mitchellvii valley fashion lsu council iraqi focu panel lunch five wood lord milwauke shirt bitch ben sale fort rather migrant pic missil folk total journalist david trust seal fix carson feat tomorrow gunman regul benefit nearli ferguson religion firefight caught size ceo alleg enjoy ill trade suspicion scare brussel spread struggl middl hashtag shooter ali insid prayer vehicl harri rewind clear equal privileg coupl amend condit legaci gift ap weak juli mark christmasaftermath multipl deliv christi halt alternativeacronyminterpret isnt late plant catch rest europ reject space current ted brexit liberti debt low main held tape earth cours bush imagin light weapon mental bear nobodi delay unveil contest vow reform nba pittsburgh quit insult kiss research sanction resist mcdonald mall thingsmoretrustedthanhillari adam earn hilari ticket yemen ai potenti convict independ clearli definit penc dear pelosi winter porn opinion though basebal myolympicsportwouldb committe nra birth fellow draintheswamp classic museum competit sanctuari funer shoe soro lmao excus funni commerci download flashback prepar doubl cosproject professor suffer teach twice ihavearighttoknow mosqu cast tear sandiego sink present probabl warfareww note graduat incred oscar exist mcmaster promis produc footag carolina econom radic oklahoma glad recruit mosul lion jim blacktwitt santa involv properti virginia philippin economi page bay georgia aim nomin third cherri chines fine flake loser flint opposit bombshel network racial youth throw selfi nativ southern taxpay choic victori archiv korean le mar googl cool dump campu femal smoke airlin evacu speed met innoc id six anymor avail digit brand user sometim yesterday treat cancel mcconnel ethic cri al giftideasforpolitician demdeb destruct depart wage sun bet glenn subway field hedgebz rio britain tribut here appeal per consid ihatepokemongobecaus prevent hampshir zika reasonstoprotest angri mention pentagon understand common request provid japan exercis entir reasonstoleaveeu situat experi healthcar msnbc global epic brutal cell document highest round chase rush w gather he insur almost donttellanyonebut rose recount sea sit wit favorit berkeley assassin sought civil hatr az didnt trash industri everybodi blotter establish tire championship height violat merkel hacker mississippi spicer el opportun add wild smear bannon tour germani liar rice disgrac belong coverag carri jack charl hanniti lee ft wind congression dept hostag style bob standard safeti complet dope journal clash notic realiti recent perfect count valu dakota type normal oregon nomine separ larg pop crack chair rip mine harvey labor troubl skill leadership boom brave chef onlin greek disput igetdepressedwhen lgbt scott associ awesom assad knee golden bathroom escap paper sent courag woke origin fool itsriskyto corpor ir frack philli netflix stream kneel mount audio path stock theft defeat jersey depress tip improv engin boycott neighborhood intel absolut furiou pathet nigeria rednationris burglari broken massacr breitbart spill jeb appar legend nuke color focus tiger april tension unarm german zoo lindsey teenag feelthebern invad v liter payment libya minimum welfar toilet cincinnati kkk e olymp cloth soul england abc idrunforpresidentif mock worldnew talibkw maryland zero kain fergusonrememb trigger shark giant donor bulli shelter harass van along album conflict expand glass yeah hockey templ talent stloui backlash rapper recogn region jan popular wikileak master marriag prisonplanet ground draw monument denver ident accid jackson kardashian akron dude profit bomber tom x laura biden saudi rescu requir advis finish pledg milit itali central seiz contract confus reportedli unlik inform newspap ag kasich plot becam brief fals exclus male repeal except bell clark perri recommend celeb cuz sean salt huckabe flynn grammi qualiti fast relat deplor mistak switch easi cub slaveri bond accord pretti seriou upset admin ta diamond schumer danni danita mandat favor ladi minnesota agenc disappear root vs knew blog draft partnership door window spring cute protestor schedul cuomo actor warren bs motiv throne giuliani heritag tuesday shine forev bought purchas knowledg drone mouth figur govt nytim hi reaction premier faith iva canadian radio transgend pastor exchang iv grand goal institut li appli congratul netanyahu administr closer libtard tim individu recov rank zone bar tournament blood q vigil stuck sold dick dirti stopislam blackhistorymonth wine extend northeast built amtrak forecast odd giselleevn match hang vvmar repeat relationship financi mess parad tucker surgeri heat makemehateyouinonephras marv epa fallen letter pen bigger spark web memphi gut stone sir alli oscarhasnocolor none dozen fat jill memo beaten theyr su amb metro pet toddler iowa nypd workout rebel delet toxic later hrc weird tee dm custom remark cycl wreck feed roger shake thingsnottodoatthezoo loop podcast domest childrenthinkthat foot pirat lapd fish mainstream tragedi score arab diego shower onto toll blow ruinadinnerinonephras choos sox ear athlet greatest exit eras gender vp philadelphia amazon saint concept western arriv patrick alien chant strategi pot leg dress bae prostitut wire brooklyn genocid erupt copi spokesman editori chariti violent jew excel p ultim doesnt india patient decad afghanistan venu abt withdraw h locat howtomakeamangay farm crook addict j custodi homeland dig armywomenproblem halloween indiana earthquak scream floor festiv rep languag deep guid pregnant evil honestli survivalguidetothanksgiv pope eight trillion prime extrem saa squar shatter ell ella islamist stopthegop boo taylor cook explod scene manufactur dobb isra whatev captain petit everyday swift freez option istartcryingwhen cheer testifi champion pennsylvania captur barcelona treason wolf surround millenni thingsthatshouldbecensor sextingwentwrongwhen legislatur ami fuel southwest lincoln spot profil pressur strength intern johnson yellow comput suck expans edm sheriffclark analyst argument band tho overdos swamp sock avenu girlfriend energet moscow ron divorc ingraham edit stein meth affect flotu clarri supremaci broward nhl angel ann brick davi afghan geek kick lou highway mixtap tall trumpsfavoriteheadlin huh menu prompt wan tini equip istanbul clinic americafirst collid twin elizabeth crap wednesday disclosur iamnotthepresidentbecaus staffer box skip wiretap megyn hypocrisi abl forgotten kellyann wheniwasyoung fifa spanish yr cam regret obamaswishlist hors kati ilovemyfriendsbut led nurs barack lebron rout fruit meanwhil neverhillari relev religi starbuck resolv l snow ificouldntli ka hide quiet kah slow minor seven clariss deer planet lone butter cooki impress wide pizza steven revers era deploy bow recap hidden wrap rent desper meal nake struck phenomradio routin susan invent incom partywentwrongwhen darci self prove wiunion disavow leagu legisl trick instagram threw rubio predat afraid eagl growth proof hawaii vacat stanc unmask irma kate af dinesh anybodi bull pin cameron wave lock suggest ram smile curri forum fifth given courtesi omg juan cash spent vegasgopdeb slain thoma controversi pose poland chicken bc loretta rocket ugli orlando thanksgiv gain eva strip proper leap guest trailer career solut cake indian repair certainli baldwin pretend growingupwithobama uranium northern raider myuselesssuperpow ten bird melania antonio empti punch premium clown confid pure cold cruis slip bail em flee soccer charli submit tragic airstrik model cardin partner lil teaparti brought dramat guardian boll code ball anniversari colorado detect longer rand wed bullet democraci surveil berlin tofeelbetteri kidnap shift pocket demolish cosbi trap devast drama imwithh offend awar fb jewish wise annual robber anywher ifiwereyourmom your thinker martin nate feet summit audienc subject tarmac dismiss crush illinoi tea doc grab wichita blackgirlnerd transfer cousin chao divid appoint bed pound warm ross stick manhattan hook detain opioid birther rapstationradio strang ukrain brazil crew expert lower rejecteddebatetop indi overcom signsyouareamerican ward andrew fieri cavali writer outcom modern relief obes muhammad mill wsj spi progress princ express spirit declin convent tabl societi stranger advisori accident disney eve penn measur underway popul wh somebodi township simpl ruin ship gap coalit websit scout infiltr form pile piss bullshit hypocrit chocol marxist scientist resolut wildfir poem imposs nbc electr calm maxin golf suspici politician costum invest decent jordan await screw soft palm doo ara nine bankrupt mysteri circl pack arr mountain taliban phase hail heaven auto sicken paso swedish chain commut ste resurrect tattoo ihateitwhen penalti worldofhashtag knock nascar throat kinda loos infidel fault caesar carter sight scalia object haunt russel f fee nepal josephjett metal deliveri harlem aca charlott slowli collus kirk reinc wrongthingstosayatawed greec confeder confer pitt materi loud tool abcnew abcgopdeb k ericbol forgot either rival tourist khan inde congressman transport bone shutdown peni connecticut steeler chemic homer expir meme deadlin assess meltdown pat aunt barackobama comic arb within vegan taken howtoloseyourjob mic sandi parol grave written richmond born subpoena immun revolutionari kenya rig fda june direct vogu hitler choke thx older coup complain reallifemagicspel elementari ed injustic amber th fl arbt gate foodpoison tripl darcci prop boat disturb attend lit warrant hmm dreamer exampl con cross introduc rude iliketocollect journey testimoni ii heavi rudi samaritan heroin climb washingtonpost parker plain mobil dealer hahaha cav own thug wwii coward citizenship allwentwrongwhen secretservic temporarili uw goodby bout secondhandgift nanci yell asian achiev cring octob pair reveng pilot alexx republ concert aleex occur blackpow politico dashcam pumpkin silicon recoveri debunk espn excit iwouldprefertoforget australian gateway tillerson possess rex turkish cta unless complex prep pt matti tamir dsouza nigerian asset rick bronx indefinit vietnam loudobb rhode spencer ihaveadreamthat co encount brad maker reader mynewyearstartedwith electionday usda freddi cabinet actress iranian blackhawk arson pride sometimesitsokto influenc higher activ cure civilian annoy ceremoni balanc bounc blackskinisnotacrim especi anger yall map awaken theater buse survivor disast homeown medicaid settl silk lo everywher savag dave februari pete pa lt diva singular mustlisten oath foke mail jackposobiec mitt nyt stuff highlight spur shred sec daddi outag neglig scheme wethepeopl wealth holi amount undocu rainbow finger reserv fantasi idol invas aggress ministri pool print chart haircut advic principl unaccept addabandtoatvshow pace gdp uhuh mybestfriendsinfourword sweden asylum european somewher encourag load sens jihad weight prod stewart lorettalynch rider restor favourit yo yep drown sweet pac hater mitch bite neg msu lack lewi aclu comedian discov honey anderr prize brewer ford adopt extra alex chapter what pardon famou raven explor mondaymotiv butcher sweat dumb breath singer unknown airplan ransom plenti speaker conway beyond orang capitol bottom advertis blaze bio divers swat uniteblu disrespect lane corey anchor impact packag merri basic initi standoff insist chuck diabet fought so seller chamber vandal altern newark payer expel contain liver engag howard domin fresh assist peter propaganda unemploy smh eli whose twist lab pharma beatl appreci ij derail squad diseas brain deposit traffick strateg yoga kurdish command satellit honest suppli devil quick nasti spike dj tedcruz carrier januari deb grief kept dh jaketapp debb icelebratetrumpwith patrol icymi detent lib rare neo exhibit who contractor boyfriend error bacon chill directli va shadi probat jay nah purpos julian limbaugh pain caden en trumpforpresid scam stamp denounc ncaa melt drought dam enforc convers drag extradit spin garden solar stern fundrais resum elit keith contact stockmonsterusa albuquerqu afford ha nk skin newt trumpbecaus blacktol temp marri grill nasa accomplish absente canden ballot cruiser barri pl version daniel ray pussi sharia suppos passeng potuslasttweet chat nbcnew reasonstogetdivorc gang usual button moral motion whale academi stun morri ididmybestbut thread arena boss volcano symbol swim meant attract tosavemoneyi unconstitut hurricanematthew gore examin aaron shepard lobbyist ashton mlk creativ pipe bucket flop stress correspond belief triumph trumper deficit inspect corp qatar nh ifiweretedcruz dan capit usmc fri condom succeed ineedalawyerbecaus ref confront oldest benshapiro approach lmfao parish tube astronaut johnkerri regim oprah luv barbmuenchen charter c there drake cohen repeatedli fantast conscienc japanes castl hardcov sandra hop convinc regist overnight abu myemmynominationwouldb ranger gray perfectli booker massachusett bourbon pander um joy fboloud hama salut fewer instantli devo curl timelin barricad firearm obamanextjob armour snack quo toronto snarl sponsor index outbreak crude realjameswood overshadow reduc employ anncoult sacrif lamar charleston dixon seahawk grade thingsiwontbeliev nonfict acosta bellevu magicbutr somehow windshield complaint shore deton elbow softbal megynkelli eas thingsyoushouldntask iii ketchup frustrat magnitud obviou unbeliev leaker nypost earlier brat bmw jason vibe intercept tap fighter intens whether tortur megan ifhillarybecomespresid stole badday sp rough spoken boob plate core dncleak champagn barbara agreement meangirlsrul lb wherev bland usfreedomarmi sunni anthoni dirt podernfamili paint whitehous liquor cloud banislam cult carjack addpotinamovi valid kitchen dicaprio doubt overturn atm runner sauc howtospotasocialist brag realalexjon sob flagel navig pharoah wive peyton samsung balloon tornado northkorea hottest twittertaughtm optic heartfelt payrol entri factori condemn slate oppress sugar blacktw royal batman politicalhedg nashvil guncontrol difficult clue brook spacecraft pundit endur terrifi catastroph wayn sudden artwork trafficasong comfort slay disguis collabor thwart miser rousseff ole bunch clooney socialist bore doe lissla globe bia hat repres math vike wade infect ex versu sxsw furnitur stare dine edg gif uc mashabl clever inequ ebola followthewhiterabbit permit blatant shaunk davo freed abil vermont searchesgoogleisashamedof kent boil ace tropic pitch kerri rid kremlin pocahonta purg trumprussia conveni crawl reasoniamnotpresid plug yard toni macron policest sept revok mexican roommat roast btp thirsti greg humor cpac coal theresist rocki holland st alozrast paisley feud bangkok prefer pedophil ne amerikkka blogger wolfblitz vice entitl brush doom pursuit contempl lure applic wearhoodiefortrayvon volunt assang bw jon flash lesson nationalist nancypelosi malon powerbal mccarthi breitbartnew daraa negoti tahrir censor joaquin qb rhetor lgbtq keyston ave transit clueless spice advoc repost presentstrumpgot lawrenc jennif mlb lindseygrahamsc marathon sum noah scaramucci ebonikwilliam rauner nacho magic verdict closet ivanka superhero gowdi affirm nj tlcprincess nokia hood cage maketvshowsaustralian antipolicebrutalityday robot enact potato eevan venezuelan stow flower distinct estat hijab uae plantat dumbgeniewish nap mikebrown playlist demonstr taco debut deleg clam chipotl hug exact itstimetopanicwhen nsa branch moss wealthi wasnt gym baton be atheist pneumonia construct happybirthdayharrytruman whitegenocid sneaker congrat dodg turner priebu holocaust traumat jebbush ya averag mymondaydemotiv makeamovieblack loan gaza blasio collin blackpressday panti malaysia brian poverti gorsuch chees verifi tank pillow rahm anti billionair solv banner panther regular tast wilson fletcher flip savior select iphon soviet coloni asap italian substanti nois repar roug kneeler southeast foxbusi ive dap dive implic haiti blackgirlmag texan colleagu mspackyetti greet startup thrill clipper bike settlement exposur islamistheproblem plea rumor suspens vaccin maddow walmart sudan probabletrumpstweet hispan parliament cite daopp victoria thedemocrat tag anxieti adventur berniesand egg random communist bryan ran duck blackpeopl hungri frank weiner kurd judicialwatch gorgeou renew manhunt castro rino syndrom smith closur mile classifi roof foster forgiv carlson assembl euro rel cruel felt flig behavior valentin franci contradict impos raqqa mannequin muslimban cernovich mentor unhing censorship piano oval sharpton nocybercensorship content unpunish obvious tomi gunmen fowler stripe jeremi brotherhood widow distract adcat expens miller publicli auburn ghost quak hashtagroundup whine atlblackstar getaway joint bluelivesmatt betray geneva eo fisa sexi buffett discrimin ronald legendari imo huma emmi sweep tgdn damascu lay blk mask perhap peta nadal lahren easier vero extremist biz divert ver ramadan militia ambush deeper nga gunfir mere warfar haramb alllivesmatt gotten outlook toss shameless bottl snapchat beeth abbott lyric tp mariowood candi assum burglar medium kong strengthen hong deray bravo phrase pal profession coyot freeway pd accur shakur venezuela gopstop g bark strand gymnast vip electron imf addamovieruinamovi headlin fallout interfer presidenttrump lucki madison speechless darryl roar trek lewandowski bro broadcast commission allen audit librari describ technolog diplomat bold dineshdsouza pedestrian snap rail askem prosecut behead familiar pb maxinewat habit weed terribl loom novemb angryref termin fair meat decemb karma revolut lip bath feloni inner indonesia nightclub potter offshor immedi wing drastic moder bitter beck mi recal easili abandon urin sustain nelson panama butt hype refer shadow channel auction rev obsess makedclisten tl marco row gardencityshoot rite realbencarson jare dictat curb frozen uber idk ola ifthemediariggedtheelect bradi pollut observ richard psycholog cair creator maintain bit ifihadabodydoubl lazi founder giveaway broke seth andri walker commiss dare proverb heartbreak crowdfund zach daca hawk romney healthi faster bankruptci tactic shout hijack pistol amm buddhist spain ammo fugit kany newli palestinian treatment hysteria mood breakfast fulli medal kendricklamar est makeamericagreatagain resili absenc wrote miracl lsarsour knife linda coca vaccinateu sarobard dumbbel ration tenant flame vango english oliv grate tyler dali regard turnbul teeth stem compel joyc stronger denmark embattl cocain acc crossov stiletto rescind unlimit bleed preciou canid breakdown hudson wash unfit mashup wallac comeback facist johncardillo delusion chp bloodi backward altonsterl presssec lifetim lindasuhl interior wisdom cyber bask boxer unregist screen assata hamilton blumenth fever sordid tran liberia toler jefferson eateri vol nippl alcohol philandocastil wig serial feedli dwi buri hilla abedin handcuf sebastian nickiminaj seizur ftp celtic fuckin luke coin diminish nick lewd georgetown meter largest conduct unfortun unpleas somedayidliketose capita kennedi chrysler ctl therealjmar farag icanhash platt acab suv tin voyag interchang delawar garag sway induct syndic borrow yearbook gear boi articul candlelight wawrinka fourth oppon licens salari scientif wheel void guantanamo lvnanci bb pc donaldjtrumpjr ufc chucknelli poultri complic jarrett freddiegray stfu dogthank thunderstorm avondal isisamovi mikandynothem chelseanyc anderson fantas pelican disneyland policeamovi margin theworldneedsartbecaus superbowl truthout known depend madrid gust fattenamovi segment gamer inning storylin takeamovietobreakfast slaughter corn steam besid brianstelt downplay wi catfish stevi abduct exceed lame garland trumpcar tesla scratch opec tooth output shaker reward task ac fragil kingpin kanyewest collis erni benjamin elin naacp tisda rnc rigor cairo brilliant ec lhhrmusic billboard phylicia rae slide blackexcel cuba clergi lavar demon muscatin sen assur cnbc clock halv shootout rubber danageezu inparallelunivers ro jong montco blackpeopleproblem collud livemixtap emm safer emmss aw submarin summertim crop hint thebradfordfil questionnair drjillstein indoor till rodent showtim gameshowhostpickuplin lemon noel solicitor medit billclinton knkcattl tidalhifi martinez gotti cleanup shitti aaa can classroom maneuv empir jsu temperatur cantwait wrist lemonad swiftli discredit nude momentari prevail worsen signatur icon maricopa jacki mesa aerial braun uh cathol hillarypickuplin jenner darlovesamerica dolez rachel buildthewal prez stake stricter nigel subtl mph buddi lobbi aa starv heartbroken bp travi fratern teas jarreau fayett todd petersburg theonion intimid honeymoon rebuk concuss monster translat unfett scold convert roy dizzi propel itsunacceptableto tot toy explicit chicfila truthnat dispers frey wyndham lean eme josepheach emel peak reignit interact platform lesbian bo meteor extens gari slap fetal coverup cuffh disciplinari alter lamb feb seed dole gag jjauthor embrac wee onewordoffmoviequot soak boycotttarget sensor sundaymorn powel underag mydoomsdayplan binladen luxuri osama drudg thrown palmyra godzilla grace imho rapmonst gull envoy dar oop nerv alarm feminismisaw consequ shackl bag makeup rapefuge newyork fenc narrowli baptist hardship connorschil messeng myth djt nina joseph transplant epstein overtim diy sheep sagittariu organis colinkaepernick represent prioriti contrast chattanooga fest pizarro atmospher kerber beef darriusstewart costa bench glue frederica acr bias byron casino faketaxfact integr she theresasignifeverisawon faeri exoner dwayn sdf resort thursday hike damndeb aol sfpd dash cheat wouldnt tsarnaev howtoescapead counsel abe poc anxiou bonus dade aka degre fascist hip bolton rage shell rosa viola non hbcu gabriel lloyd cereal owe baltimorepost joshua fatti malia outlet diet crown sprint westlak nicki minaj defi undecid mirror imthankfulfor amanda deck arkansa diver laundri tight ceil harper onewordoffbook randomli apologist cannabi devic org tgif aircraft stack destini glow swan quinn exec freebeacon norway takeov outfit donut statewid martial veget alvin gatewaypundit ironi soundpal etern oreilli scriptur preak corps dancer docthompsonshow whatilearnedtoday resembl idontneedacostumebecaus undergo renamemillionwomenmarch masculin poet comm ingrahamangl filter scholarship ksa loot gwinnett exhaust pill cyru machet pe cosmo wifi ellison africarevolt makemusicreligi imprison trey corrynmb runnin murdoch platini snake stanford decri morgan previou nowaday trooper angl blatter sepp trudeau oscarssowhit pour theresamechel salmon idaho exam jogger nightmar tru debbieaaldrich semi bean stoke saber preserv msktweetstruth drain fyahlit ep admiss restrict mandatori dijoni alaska dread coulter smartphon hahahahah august display affair std weari murphi arrow fishtv ishouldgetamedalfor bride desecr bangladesh itturnedawkwardwhen flew lafayett lettuc chaplaintaylor chechen truman backfir truthfeednew trumpi gmo debe somali ddep ana molonlab firework smaller tradit certain thompson deepli bernieorbust rainfal princeton tenni gonorrhea pervert driven newsonenow stephen tamirric nose tomsula airbas ignit dylann jobb footprint chip cruzcrew grime tender renewu maketeched reap motorcycl xavier goali marquett trace sore portrait cheaper entrepreneur dialogu syndergaard angela dylan withheld underwear hospic locht tb harvest funkflex sunderland racket fart bronson upgrad prosper migo trueblackpow haze bridal walnut gotfiredbecaus usarmi alan obamag pst immor boycottkeurig seanhann caution porch commod sam regress raffl rifl trader notabl treati uthornsrawk dearli drivel prolli gard spew batteri marvel beingpatriot protector shield harrison recycl firm cannon paulon walterscott fossil kc overthrow heal flock iceisi sheet bake swiss opiceisi jayz trayvon automat vodka hussein gina kyli etc correctli prom titan elonmusk dedic intelgroup nxp mislead freescal mac stifl athleticstvshow cod cape penetr solicit partial smash ko princip server assert trim trademark gi endow thingsdonebymistak butiwastweetinginstead kidney beg sarah evolut megankelli mp gucci jar hwmag eh elector krauthamm athen slayer stopthecop brazilian nike islamophobia desert unclear tick laww staten elus huddl madigan comparison combat russianhack brunelldonald showdown goodel jeanin caucus demolit campbel shouldnt detaine cuban azealia icantbeurfriendbecaus kindergarten rapid recreat poison corpu beverley jenkin br illustr mash adapt entangl dolphin provoc couldnt changeawordsongtitl mcchicken synagogu scotch stood anisiss empow shouldbeallowedatwork monologu breakingview fifti shade furi austin lefti slash kamvtv arctic resourc ingodwetrust wcw debamey instal diversifi startrek kroger penni rejectedlegominifigur mckeesport atl household snowflak usnavi tweetstorm cynic towel chorus insight beard sidney kevin jacksonvil woodwork postpon medicin bahama lick granit waynedupreeshow hammer offset looter presser incarcer bin genuin ash burst grown landmark defenc prob greater revamp grass ate cream sneak nugget looneyliber murray trout portray cinema upon restrain taser beast stadium sickl prodigi appeas capri topekan dougla mariah cnnpolit tooteedup bungl adjust ananavarro vcu ambjohnbolton uva meaning yea dawn exploit rollov tit barbaracomstock bile borough firewood sleeper greer suffoc muhammadali paula spit idookforsomeonewho scapegoat caucu virgin thingsnottaughtatschool choosetobfre carey ablaz tent luannbennett cap influx mistakenli mafia underground barkley jealousi canal ferri brainwash bat watt breed infant showcas coronado mack foul compromis guarante fairfield spon obstruct marcorubio topeka cabin imaginari redeem noon mansion drove itssowhiteoutsidethat lessgovmorefun satan freebi dish cnnbrk drill spoil supertuesday chancellor amus corni blockbust barrack hunt broadway mtv vma venic whoa pakistani nato margaretsteib satir landslid bharara item superintend singapor fountain imtoooldfor pie mate drew armey dealership veronica flu pit plz veto cave plagiar madam vintag jimmi dispatch gm julianassang garbag kingdom erictrump olympicbandssongsalbum specul flintwatercrisi haha ankara dental franchis brenda hillaryforprison vortex jenielsonr frighten procedur rb epidem cdc jewelri cspanwj techniqu sounder nintendo makeamoviesoundwrong cedar oak nye governorperri randpaul charact bodyslam signific insultingmovi daycar moon acknowledg coastal yavapai passion creek od texasjihad streetcar advisor cshackradio feminist dec utah devot reconsid op oj clap kweli cherish upris eminem cc marizellel jolt fece barrel secretli although friendship switzerland newest nephew indigen incl artifici wearealltrayvon fuckeri subscript liberallog hq tbh smooth deathbydemocrat hoop conscious tryna keef payton basket griffin columbu holder qaboun pokemon bel revenu catcher thetrumpladi edward bee intent airway stroke po weekli roosterpisc metairi azredhen estim alqaeda volum ditch dictatorship fam jump leandro nut busch hughley streak forsaken eboni wmscottblair erdogan entranc wrestl razor strongest chancetherapp tupac septemb insurg monitor newmus allstartrek heck ankl padmalakshmi hom topchef decor optim harder puppi reagan comprehens treasur ashland acapa jazz trolley ig tens quartz grit miniatur psalm pakistan bibl irand supplant septa bynr nab lebanon scalis courthous juic splash nobl analysi restart albani roundup gawker fran soundtrack preliminari eggnog bump slim kirbi gasolin thingspeopleontwitterlik donaldtrump viv electionnight revis chemistri centuri electionfinalthought bianc hernandez reliabl throughout escal nebraska rang commenc documentari narr betsi santorum ihq emma simon strongsvil jarmadillo alamo realtalk cuyahoga dogsong fulfil ff pigeon waiver willoughbi qanon jazzmyn bobbi cholesterol lotion manifesto kendrickjohnson ret dmv realdailywir seeker commi eastern schoolgirl berkley glove thai breadcrumb stabl miseri wander wemakebangerz fleec decre sag mocrock allaboutafrikaatpanari panari weedsillegalbut tacoma horn fastest relinquish spa nevertrump retract method bobblehead wanttruth grain motorcad squirrel warmer acquir android consecut softwar mateo broad bystand excess photograph vine lash kerrywashington grad goldenglob erect horror artyoucanhear metaphor se hulu craig bloomberg util reignofapril pier banana justin commemor axe packer flush parodi bizarr tacobel serena properli cowboy physic pianist orchestra emiss nest leftist taunt larri ocean sort hillarysbodydoubl treacher spoiler happili wakeup element helicopt coincid hrw period blunt pact wet malcolm registr filibust bff lrgr despic behna badsummercampnam ah background standingrock manbij simpson ypg dutch foxandfriend purpl bribe dip kurt kyrgio tx theme mo logic junk headquart lakewood connelli outburst urban manifest moodi alec trumpaz swear southafrica blackcrim presidentsday outstand abroad sibl haley nikki overwhelmingli brookfield breakfastclubam mcauliff rioter signal ballet kentucki disapprov behalf ken coldplay surgeon shed clapper curfew todayinsyria congo rprtd sky kellyfil fav swap bradford boulevard anyway impeachtrump momentum dragon roster necessari oversight curt icbm schill rapidli tch palestin imvotingbecaus emanuel selfish survey queenkafirbitch si hansberri misconduct cpd irk gretchencarlson steinl scotu kingzuri heartland worldvideo amer rome satisfi sworn combin prayforbrussel harbaugh highli breach safest dailycal curs insuffici dri nuisanc robfernau intellectu suburb butler logo thriller tulan sooo bagel chainsaw joness mittromney amen stride debbi cpl upcom einstein matt ridicul gp overhaul dekalb naomi fleet irish liken conclus prospect laptop appetit veng realis vision vers klan sexysport milk academ incompet childhood condiment klux ku auerbach dust gangsta outskirt jackass script jerk walter ohhillno whore nope commerc grammar wore graphic lavrov workplac cotton peev condo investor quebec condol swing theresa paulin min ge alexa gorilla collinwood chairman steer croni walt spray vanessa solo ink laughter sponsorship obtain cooper tarantino truli covert uncl galaxi yazidi corruptcongress sin barrier samarco alexdr particip trio loung phil doughfromdago infowar wednesdaywisdom hastert weirdo liddlewurld boomer basi wallet duti repli reddit emoji btw turnpik tgowdysc ogiiiiy justifi bailout consult comedi steel butterfli speakerryan succe immin suburban kayn dna lid evacue somerset northwest pimp eventu expo eleph boot creep equat foolish jerusalem hostil unscrupul deirezzor chapman raif taylorfamili queasi seba meaningless barn merchant dame nat yay badawi notr sidewa dens mcma flog overwhelm barbi overtak archaeologist sama mistaken minnetonka rapefujihadi sicili nopd sayhernam talib shack reciev ashauntibutl bray ryanztweetz problack tacotuesday illumin tku laniyamil bisexu ruptur keeppound lotteri oregonunderattack heather silli vanillaisi jean suitcas yallqaeda bundyboy tfw xs explan alongsid patriarch opri akon sociopath taiwan moham gutfeld nicknackwalk caramel mover azuu entergi sand buttock worship soire emporia jamaican gratuiti armeniangenocid jam cocktail gatorad larryeld huntington somaliland drawn desegreg eulog thingsbidenthinkingof classless dutchtown sydney ebonymag exodu zombi bathroo heroism millenniumist austintyl uncontrol basement irvin duma wiggl clyde watchlist prayingmed tombaugh lago amnesia unchart referendum soda arabian umsftp territori oilfield anthokne sandralaegel beacaus undress sacrific missingdcgirl dweller zanel yourgirlzeeii tomisin vulgar vend therealnew macchiato antifreez ladwp plutoflybi mantua canist reagangomez dominiquebattl shrink beingveronica sof unload carli johnmccain smetzel velvet drugr dailysurg myamazonwishlist lenient solidar escort merril freak reservoir registri supportthepuppeh bandit busload elizsallen bakercomedian hurricaneharvey myfamilymottoi youarearacistif adio labrador rogan elisabethepp calder thisfooo carolla stark replay princess alliortiztoledo darth stoneheng bandinbritain hydrangea poop hewitt nestl robertjeffress pontifex pn imaumbn coptic courser therealjuliann annot gamrat glendal oppenheim droidkitti stain tastemak bookoftamara montclair hallelujah jindal farewel uni rehablv takemetorehab dismay anaheim socal millionair riker gulf cor christianrep loudest oral righteous kodak lime keyboard rwandan turnupthevolum addthismus boycotttrump oswalt bodyguard patton nervou gasquet djokov ment trumpkinfilmboycott lighter sweati flaherti congest dumptrump skywalk dumpstarwar urgenc biscayn wgawest crane err sesam onion pickl paranoia saniti tuniekc generalnikkix reclin rockefel demplatform paus cowork mechan nublackvis sunwalksonwat haim trkdrvrcharli callawaybot gaetasusan agribusi shirtless standout crybabi asu saturdaymorn cultiv ochocinco richardson camelback derwin deleteub dwindl intim conclud notion carminezozzora smackdown farsi sectarian maci blake countrysid bazaa almaqqari lazyboy fnc darwin revel cardio offseason sostuffedi afterffriday regimen ireland evansnewsreport hiker chowhau oversaw fraudul oreil breakfastclub kodakblack nobelpr freefanta inadvert politic colon chattanoogashoot musicindustryu ameri ahahaha broomfield paulnuttallukip mailonlin reptilian callelol daughtri melani crepeau vent hri chusovitina alphabet blackjack sewel baron renownedvalley diethrich juda booth southw nw canela jencarlo wag umm swelter oneil reconstruct whittingdal investi literatur imper stebner eur sharpen sleaz ukrainian wsu nicolassarkozi nyquist overspend derbi wah tickl pink shia parachut tail slogan sting elderli milo chanlecrook jocquesclemmon baker birmingham unavail karrada recaptur thebestclos argentin closern baghdad undermin howigobig cbd teddyfikr mta cardi disarm avers insulin populac resent cain herman cockpit sext hazawna mikechipperson snuggl pur ugliest poodl buhari rebecca holidaymak blackgirlbrokethecamera corinn dantonio bubbl doggi abet gohillari gunviolenceoregon acct bailey blakeney stank roch preach preacher gymbore bretbaier sampson falcon reinstat portman tukwila fanbas dissip mana ppact clog peesparkl kfc gunfight gulliv costco sync sassi makhzoomi boomin friggin usacsmret greenroom leann gaga debydol ninja foreal tinder deris samurai dcexamin ariah sharonsousley youtubeisoverparti cdn tameramowrytwo peep mil flythew worldchampion rant mukasey gruesom femin pir minshar exagger pilgrimag expedit wombat theu paulmccartney guesser howev twittern newpghcouri seoul buccan superst inconsist lifer reconcili conneri smashthedcmonopoli latina brosnan heist grove mascot middletown preview paperfor directv merger inexpens sterl dodger unsecur immens casurfcasurf clay lucyreadtrump suddenli conservatexian diaz quad maketvsexi howtoconfuseamillenni bigbroth unfukkinbeliev davechappel anguish tul fw ronson delic elizsobama ria checkitout almond twibprim gopdebatesc naturalhair snorlax brather ol superoldhero drum gentlemen gameofthron verysmart farfrom orneri ornow ucriversid stoppoliceterror gravi heinz astoria azania strangebuttru peru irrit yesteryear yore baiter nissan mufasa falwel bud zogbi trndnl survivingplan libertys lagrang tarasenko djsemtex elliottwilson snowfal grafton cali nlc bakersfield corcoran humve manson irannucleard allegi ajplu md invankatrump raydobroski teapainusa coher zafgen imam myonlyobject troy feesmustfal thanksobama gen talessandrini aspir pediatr suleiman sheila opt thailand curvi reasonmymomisbett witchhunti cab demdebatemiami cafe sprout smoothi shero hepat unga newyorkcommut rochel violadavi criticschoiceaward willingess cctvnewsafrica extinct scoff warrensvil nothingabout spaceport boutiqu bound patridg sarcasm twd anch aami mesita skid whogodblessnomancurs raptor omoagbametala bretheren aseatatthet vagu fatah jabhat atrupar pruitt dickhead dandi bi joi lilduv funnyyyy crit plastic surrog firebaughnorman endanger bodycam ruinafairytal philosoph salin sticki compil occup thingsthatcomefromcali upvot memorialdayweekend wreckag yoooo quietli stamina serbian bricc remixn theoswegonian fierc wallytbm lioness antagon alright deadliest blackwomenshistorymonth honore mmsd jealou wastewat andr fittest citat incompat bathrob suavecito scoopdevil kitten rn interestingfact earthdaysong insidenova parkway unlock tutori fingersfli needi midpoint ohdontsaythat vacanc fume merg sewag inhonorof frost pollic raza noesi def asia caitlyn monroevil lauer stump shitlib nod hairdo laueringthebar cheek remix thepapergryphon awkward merch memorialday default crutch hipsterbandnam mkulchandani eeuu siciliastandup christin bbc justiceforbenkeita earthwindfir linger flytetymejam homi sheppard rs au keah wizard nameplaceafilm rotat appalachia ordena boyfchanyeol photobomb pindancingangel landscap deduct drugmak goldberg whoopi latineconomist bookshelf emit ton parisagr warplan policeshoot noos watchdog tighten ciudadano lagard bread glacier myweirdfortunesay stillsand countdown inasmuch monterey cal dui apparel fog sherman rift echo chilean taught mckonomi shaykh jaber onlinemarket andrewklavan crushtrump preg forsyth seafood lucr novarti psoriasi carfentanil cinci religionofpeac altleft ungrat scottbaio illiteraci messi bratti sandydar ucla marthaolney seuss jezebel tacgear ideal siri plung regatta heismypresid sofarthisyear cjpatruno latvia conservativebyt netherland hogwash piersmorgan thursdaythought unworthi blank retail teleprompt rightontv stutter ingeni curat monthli fortifi twtr ewwww girlish happywomensday whatclintonwrit villa yemeni sciencenathan appointe qaeda punt reiter bruh nygovcuomo indiffer bencic igotnobelprizefor boater klsouth goo clutch superpow nationalsuperheroday congresswoman kyrsten flushthetpp stoptppnow nolameduck nydailynew sinema ironman drench antitrust googlefacebookappl keller nader jponebythebrook felon deem ironmanvoic duh resal sedgwick pilsen czech khalid afbranco couldv isisstrategi burkini callevideo downi tumbl basedmonitor redecor repo prepaid soho glitchi separatist niqqa countercultur tricki fiction peculiar strangesignsoftheapocalyps sarahpalinusa farrel bender lobster hugh senseless suzi veteransday rhythm architect charleenalyl vie texasshebandit betsyriot proje marionbltx salon backlog broaden quinnqueen metehantmtrk popresist mariaguenzani tommalvaso hmmm froom visionnairasoc randbhiphopnew boyz kjorud tigistsapphir toddwhain theclobra ingram geniu slaveryofspeech commonsensegunlaw secondamend buster poppin armor pistoriu wazzupmgnt letthefunbegin steenkamp michelebachmann sunnyval pg paperback theageoftrump blackpickuplin choisirlafr arc joan waiter makeamoviehillari minivan grocer everytim assaultweapon nottyvondutch belli yvett prelud billclintonisarapist baseless bale isd vinsan dunk fraser vinc ripmuhammadali transcend jazzalley mclgdrnk tix ilikepeoplewho rhyme sabr diamondback poitevin horri blackfriday fauxnew sayin qehytycobeb rguzda oitnb manicur bjerregaard cosmet swore promo deblasio homestead duesseldorf dsseldorf oregonstandoff bertrand holliday fj phillyshowup coat nightmarish rile lax faa mcmurray californian disappoint peasant mural crippl stripper mammal havegreattrumpday bison happytrumpday worcest lrt rancher mpm nycexplos uninsur ysidro port wingstop runjewel taolasvega whitepeopl tonnel accessor potro del signifi foryear lurk organicscifi quinoa wrath ej skinni perceiv deuteronomi sandrahartl gu chairmnoomowmow dbargen sandratxa tablet kbb butinagoodway lynnwood tase variou scifi truecar devereuxbass elud freatur audiodramasunday ub pole chabeniski freederay piston unanim synthet deme freepsport lesli mredtrain thelionbryan phdfor munsu bobgrayga trumpster kthx nostalg bald goodppl hatch nevertrumo photoshop bacchan dupont maya flatteri sincerest iopf imit legitimaci christen inflat outpac israelonfir surrend debacl ame wellspr harvard reschedul will dmc junction vettel billtheterrorist talkin horribl iamonfir billdeblasio waldorf rotten thoroughli shucker nyu austria viru mhsaa assumpt underl toppl desir companionship denial allabouttrump betaward spite jessewilliam arboretum tycoon rolando casa hookah spous yorki reanim muskoge gunvot obamalegaci horni undersea cricket crass backbit labia danitigel bun boggl dupre macklemor thebehavioralist newwebsitecomingsoon itsawrap voicesavejefferi blackfolk zucker shuffl dice bowman quentin ador cheney surfer wipeout humbl mrteiephoneman worm stomach belt melissa thischicago mineralwat parentingspot videocast screech booklet repealandreplac sm votingright cockwombl ooh gunreformnow muh sidearm abdulazeez karenhunt robothiphop notori anal istandwithhann covfef maccmccray jesilmero mryannagi unsubscrib williamjordann swept ensur snort coke emmerdal itv edsheeran scenario springdal oreo hotdog undi governmentshutdown janetyellenblog in yousuf imran ou ermm folder zangief fell elig priu ht blackliesmatt pmac indianola theadviseshow summerasong infield calai akbar allahu byebilli facad understood armageddon interrupt shave barclay listeria lem billinwv potatoescharli occpalgaza azzah hebrew swallow motorist utd demo cbe shakeup shook asteroid trevor elizsplan orlandostrong pridemonth lovewin givemadpropsto aspect hurl denzel officc kuffar hanukkah propon samantha verrit jo antelop endeavor kafka amherst apollo conservationist elizsbombshel themelaninplug emojiaweekend cutest traulich flipcalir irmaroxxfit divvyp defund tout arnold ebone laurina spelhous olu wafer wyom khthompson pileup dogg snoop mindset themessytruth shallow permiss sniff paytoplay fivewordstoruinad reddick kazmir villanuevabeard elisa teachforamerica puls mateen omar leechburg stopttip ttip sabotag grubhub judgejeanin gill tej morehouseman scadick overpass coalesc salazar alberto christmastim teammat peanut chyna blacc johnmcdonnellmp tumblr mullah alba groskop pluto foxynew corrupthillari clintonbodycount reput trampolin gosl islamicconquest dangerouspropaganda conquest midsiz headlight olympian mccloughan alcorn housecracka mvsu ewe afronew backpack bulgaria isil robust housew bloat hanc easter realkylemorr waynebogda terrebehlog sdusd ks unabl riverhound debra crunch decli kenney quadriplegia picnic grandchildren shadd billi maketvshowscanadian baywatch edna amalhanano tharealfredg rubi serviceman grandmoth sigh blkhysteria stockholm tsu disloc nafta phelp noltenc terrel tete hivyo inevit falconheight vy carrotfm diner purefoy mea bled render glori makin categori itll mast getitl tha thacaptin coredjcub bflower virdiko bandz moneybag benard jlseaback truthrevolt socialm unsettl principia kosovo stillgray atcq bonitaapplebum drinker gitkilbert nail demexit blacksfortrump tracyalexx submiss vox rendezv rashad deuc chunkin swanga illiter presum heuvelhop annihil homophobia misogyni salli schtup nbafin compuls thu kuwait gra mardi anytim tjmshow guncontrolnow scarlet ratifi tarel trapp timmi stranga tbt cultcommoncor euroscept trumpazona quinnlisaq tme keyshia charm rim minion criminalizeafood hash oscarsowhit baffl squander mug amwrit kck plumber heckyeah governoromalley chyron operationtacobowl latinosfortrump pinalcounti thankyoupresidenttrump usdebt puke charliedaniel uncertainti guidanc bevan suglo mabel ghanaian bloodontheirhand mselectladykim dorado shelbi kokane chelan cascad plausibl foxman tytliv nixontwostep nixon carlbernstein bigotri avow hogwart leonardo douch alternativeoscarnomin motherjon thehashtaggam io tommi durden kno glamourmag jupit blackwallstreet serpent lucifarian iartg englewood effici greenway prise hungari longest buffalo finney morton therealedidon amystephen booberri ellemagazin rejectedblogtop threethingstolov rot beirut doin jp rolerevers ty hee neurotic cleanli woodson miseduc pla alexjonesshow defcon msn cockfight sweeter pearc charlestonshoot tongu cohes clubhous birdi piller pca til peopleschoic finalist supergirl trustworthi emphas cameramen yourmiccheck sagebogg stayfocus macaronigril masterpmil surveillanceday misfir mylastdrunkenmistak ifwt squat valentinalequeux fella iamold unlisten burdon hayward gordon cooker cliquevodka unconvent shortag staf amash episd scholar surf yegispnk gtatidea thoseusagirl cricketn berkshir ibm elizslol williedl decompos medina roxi baptiz cudi bettercalltrump mathiasian betsydevos blackwomeninhorror wick witch grier pam bentley warmth uniteright msg fave ameren zap atripofftheoldblock queensugar yoav yoavgonen arent warfelmedina hesit thewif stpatricksday lifelock rl northerli eros herald zealand ambassador infrastructur seeth shopper bbcbreak chuckstuffup ungodli unnatur negro reattach takin rochest newzealand breathtak basketofdeplor encyclopedia mymondaystartswith waymo shadowgovern thiev smth sadden lesscrunchypart crunchi gethight blackprid myniggaz manuel qween repspeier quran noncolleg zakaria fare golan occupi abbey backstag bermuda conductor youngest blaviti leevil kayak judgealexferr racin grip clermont demis spokanenaacp anyhow gloria blanket creak paraguay telecast camouflag springtim blew luntz pollster gecu lovaz buddah badli qqq mobbin cowbel ballpark deflect replawr re stringent blossom calleukrain newsmax steinem idrivebackup hillsdal superb kay toonz drizzi liposom formul barletta chmn bipartisan picken madelein awwwww pension quicki environment hrtablaz libertyunyieldi banimmigr islamtho bolt mynewcatchphrasei rejecteduniversityclass olmst telecommun unnecessari reynold burt nia cd stoprush wasserman playhous nash stylist homerun kendri espinosa robbin visibl invis ivankatrump consul tweeti spongebob naval sade taboo sweetest noiseymus unitedwestand keegannyc adaywithoutawoman thetodayshow thisisrobthoma displac schultz affluenza germ elli hooray whyimgangsta trippi quik lonzo fremont lenin vlad usvetpissedoff spree podestaemail amjoy malcolmn fleshlight catwahl senjohnmccain mycalynn crucifix unwant elba vikand pitchfork commot eritrea govmikehuckabe spam quotat wcco siren hahha seminconductor patz etan addstarwarsimproveamovi jaw livmiami writeapanel norefuge handgun tonightshow coon musingsfrombarbiesdiari slug loafer prada genitalia jetleejetson taqurap cocoapurl aduanebrown counterterror auditor waroncop kettl ollivand adyen azerbaijan trumpral motel zigmanfreud graze ramif bighorn standwithstandingrock tribal daplviol steak succul backer wack lukioc llmajer pp plannedparenthood fmr mcauilli ptsd naturewild realsharkkteeth sharkkteethsolo movesadissrecord sho fa blackliv liverpool pammer fightback kararossni allblackmedia wrinkl duvernay ava spartan qualifi penguin witherspoon shonda shalisha shafali remot stopsharia auspol happiest garygaryaug pilgrim walac goddessbarn rental hunter andi klopp jrgen teamup hampton processor duckworth uncomfort eddi saban songlyricsnottosinginjail monsanto gohmert usher awkwardblkgrl spoke darrahvalentin michellemalkin katrinapierson missuniverso univis defenseless pointless blkagendareport derrickswerv seent sw buyblack blackown gleefulli hildebeest freight gabon halal walgreen maankhid disclos blanco mykki thurmond phillybossladi irv kyri scarborough ioc dayton gunright shtf iamtechn hashtopix topix patdollard damond stormi usablackout chemist lavon perci sf solarc thankstrump paulaabdul diamondsunleash hsn hodgson katrina retaken qayyara noriotaid luchaunderground vocnat beckham timobrien westbrook russ djkhale diddi syrianrefuge crisisttrigg afc andel float boozi undergrad thesi swollen fate reluctantli draymond img pierson oiler arkansan kassian diaspora habana yolah ballin decept stave retreat labadensndey seamless medicar periscop zoeziz pep preschool soulja rowdyrebel bobbyshmurda daveeast juelzsantana italydeb clerk westminst goat fasho rejectedchristmasdecor mose rusher johntdolan distribut remaind obamaslegaci caitlynjenn vanityfair swaindiana jelenaadz codeofvet resetourcours nomor wield recu precipit jeffsess pambondi sunset noimmigrantsnoisi monfil fastcompani stephanaarstol workday minsk pbogacki archmil espnhom blackun ksn tracker miramar kotd thismaysoundstrangebut roberthjwilson whack fetid accordingli hedg twelv chrisyoung wager nyg rosh schoolflow ibfranda milan myfamilytal outland mitsubishi bougi berri egregi sergeant tantrum temper callefauxcahonta blc blackstar rapmus monica maui iamjemer jemer greener aftercrossingtotheothersid outpour mitchellreport interpret stabber mn unisex vagina counterpoint muse prayfororlando typic dworkinreport fireflynn crotchless nightbre cemeteri bixbi mob hid bho autograph herranz patriotborn pant meansmuch ursupport thxsomuch clich villain marcdru brn stopracismatpretoriagirlshigh pretoria hitboy raini beij panda croatian manipul breakthrough deepest patriotsmarchondc incent butthurt demandor abound hipsterconfess elijah malcolmx crappi mush girardi justiceformariowood jira aussi barrin dt bama critiqu arous retain scar instructor yale backk bottleneck kachninja juliagouliah arrog dishearten midtown brawl courier justiceisdarriusstewart battlefield attende btwashington obstacl shootin context breakingnew politicsandfun sla basterd dodo uproar dose ricksantorum compet freezer compliment churchil preexist chubbsthewampug morocco christichat youranonnew vonspeedi bop inher siesta worthi airship unansw sn faze theonlykinsey theladyofgrac harrimandt unlikelythingsheardatwalmart por vivo estr minuto voiceofsyria camilocnn cnnee olath coxi birthplac departur budapest recipi geer goddamn imrushingaround jockey hermann familyfirst happymothersday goosebump mama miley twerk pubic demsneversat camilo mbe misrepres dolton nutshack kessel chile otw djlukenastyy sprinkl cowel inappropri allegheni renewableenergi turbin guerilla secureamerica hspdirect thisisacoup crater ponzi goodnightisi rli exempt gf orion tunnel bishop newson mastermind unthink unusualidverificationquest di vincent certainti dildo fboloudcom ycot lockobamaup tpot subvers sediti changeasongsmind accet immodernafrican truesoulut insignific jt defendblackgirl survivedandpunish sarahdashji freebresha sidelin avi flushtheworld cliffordsatton putanotherway blackwealth gogh nevermind stuart motherhoodmovi impecc devoid pigranni hesmypresid realbowenswharf bluecordimf sheepdoglead officia lawmen inquiri ifyoulikethisyoulllovethat neytro fabrega spellcheck unrest cfr navarro disgruntl dancehal regga convient obamasucksanu mikenelli jezzzzzz haulag steinbrenn badg sassysassyr hearit chili freestyl imninoman nino aden ramadi sirmeetworld insle fucktrump brazenli deactiv soldierjohn eddiecainjr elia tellin lepen freeli schanzerdavid dukesanford splcenter hatewatch sueveli comeymemo kemet fearit alisyncamerota mariachappellen sioux fintech blockchain foreshadow ethereum latino binyavangaw marinerebb guitarist dallaspdshoot pacquiao manni rickyrozay vibez sasscbrown usnati afpaa deptofdefens uscoastgaurd terriblehashtagidea usairforc humpday ambit barackomarcu burial tribe mixon vernia tamper lobstein brietbart koster gubernatori sacramento lorain cena lpga cull vsppio cutoff tweeter icantevennameon realest truthbetold voav marcosmistak judgement chadharshman carol patienc mxgp breeder romp cigar sadoun figueroa soooo whistleblow cuuuut lin novak shelli mer villanomuzik tshirt goldenera colourway playbook hatcheri sockey bare colm washtim russmov subsidi landlord buzzfe naaa priestley italyearthquak indoctrin tactionrespons delug badmonstermovi ancient ancestor erica jewerli pedal centimet rivertown kew sunnyslop arraign dempsey inthedmshootin pennykilroy justineruszczyk leas thislifeforev floss ml arsen tonightsdeb mcgowan hamper carriesheffield rohnert sana ikea ghana ozimel umbuso alot whenmarketsfal blackenamovi turnoffcnn confederateflag arthurcaplan marksteynonlin magnific sooooo merck frazier ruthrogul mum politicalislam phd condel carrot hatetoeatandrun fedex impli ind leeannryoung hemmer hay sanfrancisco sanfranciscoshoot hemingway molli drainthemedia saba togoland amakoloni abansundu temptat unifi newday publi debbiewassermanshultz shipwreck upheld concordia remors christianinst carollynnsshort net weigh bayview correa ecuador trashcan bmorebloc ishotguydebord export bernardo rancho womensmarch bicker hardli boog fitspo utterli formid amazw niger genisist bigot gw epilepsi senrobportman questhttp tehran bundi revolution eachweekend redskin helipad mach armourtroop czar bummer summon chutzpah admir bolivia harbor pearl apnewsbreak exclud travisscott traci pho steves securefreedom usmcwalt shariah shawn petti mizzou yield theglobalunit handbag laden santel weber huski katherinefernandezrundl croatia thingsinventedwhilehigh manafort kushner quest cuckoo chrisstirewalt senatedem tomperez fundi shirleychisholm kasimre pave johnaroblesii mrsadatsghost humanun orpuw robhoey tissu jamescomey jehjohnson impeachobama liesyou canaver usaf appi roethlisberg jeffer valjeann scifisunday torpedo invers rossi illicit wouldbebetterthantrump camila teari specialti vickiemwv sensand rgspol fuller huxtabl clair disciplin frump ness loso encourageafilm precenc yanukovich tad bachelor americanotdef republicansforhillari wetrumph strongertogeth rodham prohm perez foreignaffair affront algorithm ubc excerpt bearingtruth jschanzer rejectedtvshowspinoff bali nonstop volcan wehonorourveteransbi graveyard ubattleground blakhistorypoet awanbroth danney gem safesfilld havemi iovwer tanner sham bikini nutella coven fwd peng xi twisti limitedtim tartget advantag nauseou eyelash rover inabst johnarobl collab pleasur huntingtonwv koranisburn affleck casey larson brie yomkippur tovah chatimah gmar merkelstreichelt forbidden zumba ail greta gretchen saveybi badasseri splost roosevelt eleanor buzteezi windscreen scraper candl blmto blackenterpris lindsborg yearofnofear asapsingalong asaprocki mah gunpoint knight climatologist kutcher mazza cesar redman khryst alia rejoin thrasher michaeldelauzon scrap shoulder georgemichael iji commum dvatw nevertwain virtual saf neil chem annm anfo ammonium hydra sang shown orbit fatdrunkstupid braindeaddiva scarf mcgraw router hurri imranawan scottpresl defundsanctuaryc voterul bruno austrian palac buckingham petroleum strelchenko natalia heretostay cashless stg hmg frantic imdb moslim bedsor wearabl dustychem bathgat novel doctorow humid mypreworkoutroutin tristateg ronaldinho preet lackey paralyz camboviet lasvegasshoot mandalay rainwat funnel shape digg ophidianpilot michaelkey icecoldag michaelharrisdr terrancecream jimbearnj squatter cea exorc alzheim superherowedeserv manbun canfora smuggl hutchinson aviv tel shovel ici ifwinterwerecancel polar diversityisaverb flatter vra hungarian teamtrumpaz foodfest spaghetti exorcist sometimestwittermakesm spotlight campus costner cgasparino peoria rotunda reloc annvandersteel facilit youll timet rouhani treasuri ahrar idlib refund enlarg gss sub marist kidscampaignad lego runway brolic dehuman paparazzi monkey gryll luca koch alreadyhom describeobamawithasongtitl dirtycop roofi countless interscop robertbirsing midwest fuckthepolic heartbeat tinietempah fitton yate reliv angrili intox johnfugelsang mickeymous pabloescobar liftoffhalloween comt nune lukerussert statis monkoffici chipmak trumpenc highland ticker bamm characterist superior nicojocel thingsnpeopl proven urthebank itshardtobelievethat woken asleep brennen womentellal thebachelor santana outspoken centeno fpd repay itt violin tiniest captiveprincesspastim percept missypassmey amyschum prayfornyc nycstrong vert uzi bandwagon syracus ebenjon retali kashmir democrap nrsc nativenationsris checkbook consum loria manso oneletteroffsong bot rapunzel fairytaleprdisast thewalkingdead walkingdeadtheolymp crab discu deterior blowjob ichiruki nbcblk claud mandela gmt upload presstv stanley liluzivert obliter jfk kellyayott lowest porter warner aaih bvd microsoft ryder apostasi hobbsshazia exmuslim pattern clan fonda jane oakley surp wnba gtfoh cnnmoney mice scso oneform cauldron logan conceal formula acquitt muell witchhunt incorrect grammat homemad fyrefestiv grader analog freeload dmregist oof firerstorm malik nevada provost hast hillman richchigga wwkip crochet knit handmad firefli behar unheard radiohead khloe odom lifesav dirtycongress democratsthen moab compulsori poorli numbr scottle mcm mayaangeloufilm ritacoburnwhack whattttt narh enoch phill tulalip ikeepwonderingif popcorn greenwood mayday citizensmand willi wretch precis abstract asham discern gullibl brigad eurweb whenthestarsgoblu complicit touchdown crimesno politian irredeem misogynist xenophob redstat mckee scuttl buyer retrain fop presenc pkk anadolu noaa giftcard consent estherarmah theconsentconvo vodafon royc formerli tobacco entheosshin cnh hoylemuhammad clamber instruct debesstr inact sweater brianross spittin flea chronicl newrickross da mifflin yuan roystonpott mariahcarey fishnet sideway ponder delillo bgnpodcast ceoap monro blackgirlgeek elk scotlandvil mauri northbrook combust washdconlin christopherkalonji irenescircl killedbycop bodhiphelp quanicehay caption feherti manur manhood nappy naturalhairtwitt techi systemat daraya besieg scrutini blackfac cbsla bwa drainthesew orovilledam spontan weaken pacif devis metra attic draconid zachari jolli holli mccreeri mantra useless eunuch pearlharbor que transact prohibit notmypresid savvi trumpprotest tadhass gillaspi bumgarn klubxclus melros sagethegemini povich ferg carrol defer fordham squash naughti soultalk lilkim thereof beyotch wheelchair motorola garrett chew determin jfield groovi dimens kellyannepol doorstep fu tvb yanke dombrowski gerald eastlak disingenu manner disdain bucnh gentli bangladeshattack smack reignsfreedom christ ivori peppa slot clarajefferi berniebro truce murdock rupert reut equiti callin pimco prayforgay pumpum sochitalk concentr progressiv sake hashtagzoo whoop dekebridg seneca kiosk tarawa helmet implod marybarram firewal aylieninvayd pinkbelgium solac sarsour hanford mold airtim donna lamest wmo bouncer reinhart slick flyover nationallampoon portland peterboykin barden clarkson vacatethechair hyde trauma hsbc sullenberg sulli chesley capt skile mccrori afar truther tal hashd crucifixion nucatola wither residenti attitud curtain bang xl thrice bodietl ape diff chainz bert busyyyyi twitchtv gingrich slidel charmain udder cowtv decenc votejil maroon similar cjr impedi rahami ahmad brevard denier blind warpath mdknightbab indivis extent toiletpaperweddingdress earner steyn clinch compass damor jig elizsproof headlock lonestarmango wascursedwith abdul sremmurd khizrkhan neglect davao corrobor bright dutert flyingwhileblack montiel magda farmer sustaina lool scrotu catsong conjur peeotu ingridsilva vital nutrit mycampaignslogan jayisarobot chan arpaio lambeth contempt lineup kenbonefact inconsider spicerpress unpaid asthma biotech gsk oreillyfactor stopshittypol stoppolicebrut stoppoliceviol ws prostitutr autocomplet zeppelin degrad tn desiign elonjam uncc ostrich atleast sessionsunrecus unwis blu bayonn racer projectil up wil historyhero moorbey comingseptemb poster queenofkatw hedreen checkmat lap down inaccuraci sour yoakam jimihendrix millbra heiress partybpp oakeshott yearz eco umberto doug haller trumparmi trumpwillwin trumpisright crookedcruz flown cwu krampu credul insinu usatoday bettinavla drewflorio policefirstnow hourswher statsholtzman margaretcl joann alf dwight mrstutt shoooo fo enthusiast kasiaemerald judici hammad aashiq aumonemaison luther shenandoah uoflfootbal overal bubba bash undressamovi likelihood reichert bart thejordanhafizi virtu orphan guitar badass howtoavoidpoliticsatdinn raynham delta sober prowl devour uneduc tiredofshit sentat gambia stan phenomalpha phenomenalradio trumbul endang stockman streetwear feminin djolder ski decisionday oversampl mistreat nevercruz notatruegeek memorandum quioccasin airozna aquir rabbit wheniamonmyowni blaz guestand kriegel havebeen discriminatori prerequisit starkvil theopenedbox tequila revist nbpc giver hinder elan wassup kendrick eickhoff improvis kidnapp inept kristincavallari ju overpaid cosmopolitan familyprotect preseason aja fi fec infam ps varsiti crucifi previous teleport smelli contemporari guadalup atruthseek superman harvardbiz keepyourpromis terigright pr programsnot narrat crem rightwing guntrust forest kiev derang spieth mymortalkombatfat bakr morningstar anata dolli outshon nffc burger jada lbj charlatan topic hondacent interst zibra vapour oscarss lakissfootbal pinkett brentwood wen truthmattersyo enorm weve pandora pandoramus capabl jamul watter jess globetrot cyclist approxim accumul sandbag baingpatriot poe exert frown anthonywoodboy jessiejanedu ownership polio thrash freericki booksel idomeni lr knot gasser policewoman truthbomb okkinsama omaha moe syrianredcresc mamoura bloudan humanitarian eritrean defam chokehold often heidelberg waheguru satnam libertyheadlin zo candyland whee campsit garner rg hdtvcustom coordin drumarjohnson swarm stopper najib parklandstudentsspeak firstgifcomesupforyournam volatil quaeda saltnpepa tina safarova split timetravelerproblem ourgift theyar mustprotect theworld twittergoon oshkosh lockhe rundown boko haram marshmallow flotilla adnan sy saturdayschmooz ima lightn salimmehaj withouttheinterneti louisan garagiola iwaswinninguntil imalwaysokwith saukrat teachersloungeconvobelik stat kurtz unfollow gaggl aniston buildup windfal ewan gregoriodownlow transcript vpdebat commend hillarynothnx mitten olivianuzzi umar mech sonboli interpol dishonest themuslimissu californiaprimari caprimari crystal peplamb onenationundergod desk belgium neckbon radiat treksgiv lov usgao fcc multicultur refram instanc preauthor cigna minguu munich songcontest tunatuesday simontobinukip shellydarwin cathpickl terencescart pond gim bloodsh nogunsforcrimin penitentiari finn tw ppp dossier electionnasti holograph niggapleas kidcudi drakevspushat kudi arhokum anemia shoebat reduct manziel beanz carrick kaepermick wrongdo wud likeawarrior shoplift sunbeam brilliantli shun supper kleptocrat conduit gorka molten sr goodwin gettin compens usiranrel iransanct israeltheregion stunner storag dorbar structur waterg hyperbol mlg esquir schlong apokiliptickao bigwig adolesc frfr bcrecordlabel rapel townhallcom kurtschlicht psn absolv commonplac fang ouch genit presidentscup constant unbeli joniturnerlaw tock solomon homewood widen sultri ramp worldwid northwestern nordicnoirtv kangaroo arnedahl timidli cuddl cs rogu yelp mermaid injunct temporari hortiblrli twidx refugerestroom incognitopatrio hrg uninform therealdjbeanz sarahhuckabeesand thehypemagazin reign jake gyllenha redempt dementia frequent adot doggett congressmen hella clariti reced floodwat clegg hank autismawar moorish autist berryessa lineback cleat alysiastern altura brethren sisthren racisminamerica blackpeopletwitt sexiest emilia defilippo ataturk johnsonvil klement foe sli cornrow finna airborn renam firstladyrulebook lipstick harbour nearbi duel booti darien nycc tiathegem sfo asiana veil termlimit wiggerslynn ajtippett prayforsyria boycotthamilton historyishappeninginmanhattan fleetwood jimmylemon mfer chevrolet cheriealamod whatittakestobephenom salvat zeke ev maverick jendeplor overview hustl begun climatemarch wellesley yourblackworld mwb russellsquar londonistan enrich wonderwomentech ditcent joeperezsport fourlongyear chalk sexist chiron moonlight rebuild kamilahbrock horryfi ayycabey fold shelbyholliday kevinkellyrecon mariabartiromo morningsmaria cori barbado thevoicenew ang ballroom tribun flat creepi sweetwat shale spca tennant sabaltrailpipelin bigoil fridayfeel novelti encrypt salvysplash withhold sandctuari mediabuzz swedenincid horowitz schiff indic jumper ibd joc justsayin webseri heyxorjetv trayvonmartin theyoungturk sethrich hil ibdeditori crisp pederson trumpchicken iom zwaan iamjamena nyafromfir mznatturn webreaktrax boogabradshaw indieadvanc freddieallenjr stacybrownmedia newswir nnpa speaksabigail susienattibre arlethapappa lisik judgejoebrowntv brunswick carmelsosexi gerri wrno pharaohtrey jenbcurli acpfonlin confli gope gvprayerwarrior wolverin hurst stretch fairyland cruzinahead brainer richer truckload purdi podemo matthewkick corrinebrown handstand brookhaven zadeski derogatori makeitgohard infract xxlmagazin madman bratton shutdowncityhallnyc maplewood hardwar ordin minoritywear jaivsjael mourn malkiabektemba abovethelaw awak seren vetsforberni mcniec joust triathlon sdpd elizstraitor henwood argentinian breather cylybu royparrish washwizard mccainthat shep ocra propheci jude idada exxon poker vinefam penal tsipra provinci oxrgan arielthegoddess supernjoro ardmor mindsexguru nasir incit graft johnni depp casual boobu nicer embolden myer fortmyer newmeaningsforemoji brandermil bostonherald blockad proteg outlinu barr scottjon mitti coquett maloney cohentisha vestonash hysterica chappel sisi donovan omb trumpgirlstrong cl shorebird pcl repgutierrez immig hachiko pepper dawg sandwich iftwitterwereaman bunniboila ambridg veeeeri prix joyner commentari mistrial lasen mystifi romania banker justonceidliketo defiant runoff biker whenimoldandgrey danvil timber maness mortgag prank hollywe pollan ecu dominiqu ker genesi nicknam nonwhit machado mysteryofsoul baronderosa delco getti jointaddress honolulu notsureyourealizethat scottadamssay goldwin micdotcom mayer patriziarametta carmentpf monicakalo trainer ot keeper jacobawohl ragtim irrelevan sampl lopsid wapo perfectslid drummer tombradi factor navys maran saada pitchman oneweirdperson deepakkanungo redrightrepub hearth glennham folli hillaryshealth linchpin bigpapi redsox rat unsc ceasefir roam immort swoosh goalsforreallif swannyqld itsbouquet sioa applaus edmonton asaghostiwould pinewood gossip saturdayschool statut consol psychot formyacceptancespeech crib olbermann idd gardena outreach sarepta muscl andliberalsstillnot extraordinari dia articlev inadequ blitz vvsd oceanfront rudygiuliani caitlynjonestv zakzal djjohnnyo tejada shortstop elvatoteporocho kruger jeremycorbyn rubbish blackamericaweb teneo camilleechavez nascardivers rncincl gopincl gopconvent salesian glen profoundli coloradospr keke pasoan doodl crazycatrescu embarrass protool quarterback gnurbert unfair djdisspar kayewhitehead sc nervedj cm coleman began experian jbwredsox votesubba beacon tremend deneenborelli justintholljr tomborelli hayek prejudic dystrophi muscular allmalereboot opmd musculardystrophysuck circu rejectedstatueoflibertysign stench unbear woodebrown tourney turnaround atroc sanbernardino saturdayschoolbmor flare itch jock cardiac sojustmoth revoltforbreakfast notrump nonazi yulin arabia grandson addasongruinamovi jobopp paidgig genr harrow blizzard sankofabrown guam unfaz rippl skynew overseen survivalsitu rahzelthelegend downsiz camillu leftov allah goofi councilwoman dellavedova cramp cowardli allenwestrepub simpli shill nbpoc imperfect romanc kevinstabinski stabinski fabio walru winehous orb jasoninthehous deadbeat wauwatosa germoney databs counter mtx micromobil midland gmr reasoniamnotasuperhero lag doral afeni immigrat blaubok glanc newman thingi politburo westmoreland rafael sudanes sympath reunit discount fairli kit wth afroallflow stumbl sadatx ist batch puyallup lyon flow ovomit vengeanceisour cmdorsey canyon bracelet gonzaga couch opiat boulder firekushn wedg brotherali lungu zambian giantscamp furqa murad gangster bree needvil poke retrospect rahzel sadat discoveri scalf uncw prayfortheworld vicent taller texasprimari belov caray huffman jimbrown underprivileg cumberland johnkasich washingtondctea youngcon youngdem blatt novato psa jenk barrefa ppchistori yellowston pixel greensboro pax chieu vo retire azealiagotsuspendedparti sci burton fred firmli sweatpant wikileaksemail incrediblenew officialhyp justinamash malpartisan networksmanag crisprtek warninglabelsforpeopl congresswomen prone intermitt petscii amidala labour misslizzynj khankne minneapolisunrest pivot floyd wr zimmerman repertori optimist boycottnfl keeblerqueen realist nerdholiday cadet tone unturn preckwinkl asshol falldepressionreason shirqat nycmayor patriotress teloyear therapist neverforget format stinkin macedonian innov ce liddozulux clintoncash clintonfound milleni gameshow herbo countin edibleband persimmon pol amex tat mon provinc kirkuk mostli humil brzezinski scrape mole infin lacey omer esea ginsberg comeyday bother malaysian chromosom incestio grdhyattdenv tpusa antifascist stopesea repstutzman asik pothol profess mcconaughey sternsmarilyn rightlynew notebook hometown ransack rebound sdsu lgbtunit ourseason drivingwhileblack fairtax hippi sfntweet bobbyfatz legoland stitch hysterectomi surgic noko ballist howicopewithidiot lunat olsen katesteinl obscen gestur ifiwereahermit commoncor undecidedvot essenti telekinesi taiz snyder snoopspremium alzassoci congculberson neurosci tub ethnic jaywalk senwarren vulner surpric muggl raquel regalado mybestholidaymemori awri gimenez marxism foolproof frivol implos beingsoular wildlif efit looni blackchristma ase ramarley consumpt hawaiian dwyan ld kafirkati touchmytweet johnjwso msonnatop papoos marieehad unitetheright polnewsforev ellenstreiff overheardatthewishingwel montag chopnotslopapp somer huffpost videogam thingseveryboywantstohear hattiesburg hh repealobamacar schwarzenegg pregam bretagn squid hajihuntinggirl johncony ounc cynthia loosen reflect jcolenc implant casebolt precaut librarian headphon tinni kpfk jeopard tuesdaymotiv emergenc widespread harm thedeplor samdubos wagnergirl riddanc tasteless leaf conyer melanoma decod drunkstepfath tumblewe airboat targaryen badtard grrm peel smgdh bacteria neocon asburi smoki twp amethyst gin rooftop ahmalcolm necessarybiographi atchison killercop cnnleak friggen implement nerd cougar credibl stockpil inventori intrigu bawl oblig gordhan disbar miscondu zullnero patrio vuitton buf eerili hello foothold adel scur spectr itun potent badadviceshow contrit whenitimetravel blackexel affton whirl iwasjustjok defac hasnt jeffreyguterman danaketh jaredwyand unlockingthetruth uncov immigrationreform noamnesti securethebord tbi redmeat peeper unpopular luci harlan idwintheworldseriesof newport suurious burundi feistyoldguy seaboard tonit colonoscopi cardiovascular micheauxfilm malpractic med joli untangl inaugurationday colossu uneasi votepedro pedro stonetear jillnothil wp posteveryth angelina iceland backstreet teamtrump cbp terrain yorba borderpatrol iamhous mrphilipshelley househead heroic repkathleenric wikipedia creepyclown fucken hume joh fastandfuri brianterri mensch louis theorist conspiraci aghast lainieyenni pizdapalac essenc michaelbrown lawn creato amateur rediff yew kuan chd ufo alley kirsti occupiedpalestin ramallah tsarusrex frontier faulkner roginski timcast asknefert niadel kekefleiss pjw confisc ire fiesta cmu desktop davidmcguireesq nun tomfitton policeman frenzi nonucleariran forcibl transcanada ratherhavetheboxthan kyle monfort brockton juvil omerica kima studio marker strain voterfraud snipe dir fla dallaspoliceshoot rooney watchcap kommers belaru camo enclosur bredlow velcro gadsden msnnew mercuri culpep gunsgear slimi aboutlastnight hallow pontiac mykelti lucif farrakhan crosbi hillaryhatesamerica genesstr gess zuma chel hornsbi curtisandeboni monopoli unjust unaccount williamson patreon fascism igivehugswhen gush departmentshould agpambondi waysandmeansmarkup habitat der kamara carlyfiorina bilk carpet larryn figurin culpepp retweetifi eichenwald keat actuant washroom memphitz disablist assessor pip makeamericahateagain mynoseknowsal receipt dealin obamafarewel amnesti indonesian cutter antioch compos pslawless theryanadam bryanadam secondari bakin wakin hr signmytwitteryearbook endusuri dilut blitzer chaffetz myexecutiveord getoutnow congr roadshow ajaforcongress makecaliforniagreatagain connor mannix hitter tyranni woodsh boycottunit boe persuad renown housewif cashier rembrandt libertarian noconfeder michellerm clearanc stephenson boogi bihhhh hangov votecoribush debatenight keidel ingredi loath trumpenasong facial hipster imageri multipli mathematician rubysayzz mybrianleyh fuctupmind thegreatfeath deafen illegitimatepresid bingo aboout ygarttd sorr inconveni timetravelnman linkedin albert tweetsfromthetub povdoc password brandontatebrown pennysnest greektown makeamovielazi justinbieb merrick laurynhil milder ngiro niyo imvugo kagam rwanda inova ama burden avosecret jungl prishtinsight floradelamata djiko portion inothernew woma groceri despond gunsoffforsumm diverg decreas timallenr firemcmast firemuel automobil irgc levin manchin haroldwnelson mcd lovin gno realdlhughley snoopdogg ricki tendon onesi pj biopic accommod atv realdona voteblu votingmatt savemichigan unseal achil liaison torn ronni minim isr southchinasea sail moviei pokemongo nosed pois askjeremi databas beam avocado andyvblu federateearth lionfood thuglif thugbibl realthugmus dwstweet stknutsen gotruelytrump trumpspeaktruth elianabenador danscavino drmartyfox elimin singlesurvivaltip spider pee bureaucraci resignationinterest oddli clickbaitsyllabu jonahnro pierc despis stagger vernor noroviru asid momitforward celebritysong defianc theolog intoler csi comma lite romper mistypass tsunami constantli kurdistan maman schindler retel warsaw dav raisetheag govcuomo sumatra iamomarnoah reiner engulf newsblog insurrectnew cliff thechainsmok editor proactiv buzzfeedoz maymacworldtour nationalbestfriendsday thomson themarkromano bassfishinbab bandon sonofbaldwin uniti hotworldpow bryce sunflow akin bulgarian schoolsnotprison autochthon idlenomor firstnat ghani roberta vinci dividend gridlock reli den aight pmsing bitcoin straw upend florenc cent pnc atltico strasbourg orthodox hotdizzi hitta morgantonnew taker prettygirlsliketrapmus bumpin colleyvil leicest indigenousnew inteligenteco consist indienaj growingupze hashtagorels curbyourtag berth clemson watson inc qt davidbewart candyceleb balboa spenceratuf relay idec defici unawar quintana ab lifelin spiral desireto rescuer ambul opalayo venezuelanlivesmattertoo groun wardrob hammond khartoum facil imvotingda sa sunris ohiostateattack diagram venn choreographi conglomer keaton chap midlothian draftfest charger govmnt cigarett alameda khizr cue turncoat theplumlineg rockabilli fitbit driickygraham nepot sunblock chriscuomo jacket whotfisvon feinstein bleepthepolic scald simmon gaudio dino cred bordow mayluusstr essay sandberg sheryl tuckercarlson sapd somalia charlottesviil therealstylesp tariqtour megabu upd scuffl pacman chore insteadofmoneypaymein wouldhaveabetterday baconton pharmaci chrisbragdon quickli playground tsa snuck booksforchristma sacredresist ino heartwarm beyhiv chicagotribun marchetto silvano historian guzman blklivesmatt outdoor mistaraja daboiic ruthless felicia televis pelleck carl finest terrorizem colt starter tnf politicalshort dispath muslimsreportstuff settler fetish videogameaband comb realandrewk trustissu blackhistori iuic lest patriotact beagoodfriendbi cibulkova offlin nationalfreedomday flyyourflag glo bye inferior aldrich babysav marybeth wiprimari gradkowski bruce vick esiason semitrail crumb wavot walabor justanotherdayinwa cfmeu wapol nahan wa chosen servitud classi extinguish jeep lacklust hombr benson briana hoodi iamchrisstapl detour dumpl blackownedstor doll frohawk curli rafika advert basementdwel smarter snob elitist vector trumpet noondevo ifiwereacop imamisfitbecaus voinovich votetrumpusa legitim retard ludacri gordo atom mobster pioneer wealthiest zoeslusar businessman norht calf younger orca chicagobl dearborn iwata satoru pump fiasco lupe isis ik sqeezi brake autonom terrarium twitterpol tuna userid uncondit dhl docdarnel pisorgpl bolster nightlin idl unequivoc cka muthaf bruceburt kimkimberl taylorstak wtfnewsamerica digitaltrend yuba maul addtl thur kimdotcom djtsavesamerica nationalpuppyday assatashakur ego clintony theundef weaselzipp verifiedrequest unambigu horseshit capetownbrown z anonym pusha progressivearmi bridgeton shortfal regulatori tunup melanoidn upper excav franktmcveeti craft nana suff weirder yannow eisenhow sledgehamm tibetan arranf stranahan muddi wolfpack thorninyoursid wewillnotforgetbenghazi subdu ongo wray desanti straighten confederaci bt rtoberl rtd setback communipaw jonkarl vlasto recus ether cortesstev vonn conquer hanker rural yorkshir bower sundanc shareblu disobedi ldimag bing keepingitr povertypimp gibson cervelli inter ufpnew pokjourn bookstor pan narrow intend nflboycott scprimari londonattack ranch eeewww humoritarian gcse greatli normandi tuesdaythought dreg dean marti issa sack baloney thereismorethanon tuition wecannotaffordsil saskatoon pad juno issara mute biafran theliesofdepress mesoscal fiddl akwx proxi impot wring footstep dissent tammani thankswalmart larryputt peer themilehighclub djmilehigh laurent swine crisprd sh stunt hanson jihadi whilewaitingforyourtextback bertha cementland yakima pokmon jimlibertarian irisheyzsmil howrout usalovegod maskanah apprehens presidenttrumpscabinet charissemsrd mmf mattfleg itsmuchbetterto schrdinger junta gigant solano trumpwa polem wbur subscrib spotifi dat markham musicmogulsbet imbecil maxi hillarysstool stool johansson scarlett indiegam fivenightsatfreddi amerkkka friendless courtney skeptic stefanmolyneux waterfront hunnid jihadist alinksi paranoid gunfreezon iwillalwayslov psycho fck tht woodrow wimbledon ifyoureinyoureout mayoroflondon thesteeldawn grandkid genflynn mogul gospel beckl petula jazzi blocklivesmatt isgift aardodson bobbyjind coc eerm dershowitz realclearpolit dvd hd ouijamovi justouijath slur nobamadotcom quarterfin metrohealth stuf denni repel matchup condotta unwelcom grandpar loyal guidelin valeri blackfemin ensu yeezyseason multiraci rejoic foi filth postgam loudoun overrun downbyseashor tishaura kander zuivercor lordaedoni petroglyph fria agua gentri fag gamerg altright envi sweepsfox alderman casasola personnel amolokaleb lambeau favr persuas wfp evangel eltonjohn iamsideequ mlkstudio lollllllajr mohamedabouswel andysolomono rokedvmagen coinab bdsjacquot ralvarezdj rkazbaar palestinefamili gazafree thisguystaint hakimyasin pooof ss silsbi stroll minder myfarewellwordswouldb warship gillibrand shelteranim anindauk tanyakasim anwarprincep mongolian edchoic litig widget tasti tummi pga choi kang whitney actuali purport mrnegromilit iwishmysmartphonecould feldman analyz apartheid bd watermark perpetu laizesfair ghalianno alcaselli animalrescu corden jerri elton harmoni baeee iowadeb ruinavideogam realjkcallaway elev deaf aftermath saddam marg dood hiya janetshoemak concacaf jamaica camel rajeneeesh zaddi ign tydolla barb carinsur peper rockin hatchet kileld propagandist karaok carpool peninsula spinster maid fluent handler hashtagshenani wishbon laser honda yessssssssss sublimin staunchli patriotging aniss anissd confetti barryaharri rinoroot quinnipiac andrewrestuccia songshannibalwoulds rockvil councillor ham satxpolic gloriou thingsiwonttellmydad happyfathersday lrihendri theralphretort cattl pavedark notmypresidentelect peotu makefrancesafeagain mfga marinelepen aunomdupeupl mlp dr kaliefbrowd unattain truckitrich angelacarwil truthaboutcoloni abernathi crackra bend spineless mayfield iacaucu parri curti henningsen herembryo vergara sofia myanmar northsid alp hindu diagnos adsnn howland homeschool notmysuperbowlchamp swimmer njorodg cambril alic novelist pulitz adn racquet montgomeri radioacr unsung becomeasponsor zerohedg palmeremmanuel watcher leah cp rambo tyse misbehavior truste sacramentok syp usd trevant mahershala buzz deadpundit lgbtu conven apprentic papia icegov passov afloat graviti terri ravensymon nerf cupid hormon weknowwhatsbest gungrab imstilllookingfor sisterpatriot tkeyahcryst anneliesevdp disneychannel sheetz schiavo andthenidroppedthem taxi lowdown dixi moan dangl woe noncitizen soften saysbush consortiumnew noiralley rea rins tugboat framer ektrit eclips astronom ezzour deir ofben motherm daddl myamazonwishlish kislin queentenkamenin stairwel aft gonzal arceneaux deepstat obamahoax obamaworstpresid lyin democracyawaken ufcw sawgrass summat lauri graffiti freestaci downtoni boyband crusti valencia hazmat tray leonard fournett nec weakest telegraph eater caretak thaw avalanch spectacular helpless stl incoher jacksonstateshoot legit descend theblazelavern tcmparti scenarist duquesn champselyse skateboard cerrito enhanc catalishu bittersweet rato dailysign kelseyjhark dropouthillari creation jamesbaldwin lnyhbt shorelin afterbirth soup awkwardquestionsformydoctor amphitheatr revolt repjohnlewi tweepaquot swissmistress nyefestdc woodland rasta samaritanspurs alternativenamesforwrit alabamasen allit jadapsmith inblackmecca strap seger neurosurgeon pharmacist rantfortoday griffjenkin jamiebroadnax collap concord hover unlikelywikileak chicagoan rasthafarey therealcornett jaydabf goddesspennyb haul falconheightsshoot revisit allafrica lisamurkowski incorpor waffl buckhead blsdata nonfarm brianwilliam banknot desmond khlo worldautismawarenessday yooshaun anotherfollowtrain teamfollowback followtrick mgwv liberalmedia emori mediabia equival bafta yeet flung norleansdaili fatphob midfield holden rum daviddaquin ashley handbook medalist shove vladimir entiti tsarnaevsapolog tenth gross lifezett recess kingbeyb foreword thetrudz californiamovi wanda mazi capac nielsen kirstjen dhsgov unlv passionwel serenawilliam baltimorecogop switchboard sahara cudel theori firew fairground jeffflak chose doozi gluten thors leo paulinehansonoz heartless pursu opera aggrav hybrid cee mero desu icantbreath nyer strangul nowomanev carrieksada disconnect tlot newsroom tug fridg restock geni redbul constitutionalist scaffold sidewalk swisscom slander uphold homebusi ackbar mcrib bigami celicourt powder motherfuck politicspeach melodijoy cope sinow galatian albanian navajo ericgarn futurist tabqa outer reinhold horrend dogbreednovel braveri finallevel onisha lyn rebekah jessi ri quicker evan gambl popmech melvin leland yearli maxim purs shoebox tue coreybigg appomatox aso curtail fumig bug niv eveshead riley crise djwaynewilliam jessesndr zephyrteachout stylista lionelmedia redick discontinu theyv reel keurig elliott mtg regain cram worstwaytospendtheholiday sportsperson suppress vacant cedillo gregg votingblack brunch gotv votingwhileblack howardu colorofchang werleman cj fredbookmann copolit ordinari tier freeassang plaintiff hardbal illegitim hannah rapecultur hillaryit cradl wilcox stakeout honker obey pjstrikeforc albania palin unarmedit oneal cardiomyopathi dilat crave isquiteachalleng deed malfunct moreland ballard landfal jeffrey slough ebey wax debatequestionswewanttohear saveaca pri visitor dispos apologis valuat twilightzon fatigu mujuru mugab crouch jonathan polish grope clintonprivileg sincmurr plagu preval sat mclachlin neutral ficklin battleforberkeley freedomr berkeleyprotest parliamentari khamenei puppet kochsuck mansfield regift ogl zimbabw autom cheetah prior rangel provis furtiv skank patholog financ bergdahl mybestfriendisntallow peacekeep chaunexpect sinai unli rodstryk ahh repostregramapp payday lender fukushima costli cuppa colonel protection soil raw shepherd marley damian sadli dejesu grapevin tln baselin addit secessio gunshot fedupwithswamp gaskillrebecca gruber bengazi errand bigelow kathryn boyega freeredfawn roun hackenburg porcupin fitzhunt canberra hoist soni georgiadirtroad wuworldwidedj beehiv wublitz transform globalist klralm juliansvendsen emul shackgener blackberri hoe coolin stink peddl blowout laker klay thingsiyellwhenicum bait aboard hellbent crimmuh plu ethanol unborn gringogang sg incept mankind holybook radicalislam bostonbomb shutupamanda atlanti lebowski unsur mst goodyear nwsphoenix whenimsotallytob euless islamicst broccoli firebal replic dilma ibtbanksi nodeb nov liveindi merced han greenlight abff uniform mischief kil refugeeweek refugeeswelcom refugeecrisi snohomish dunshe tan smarthom ripper arrieta cdu quarterli chest beverli macbeth neverhillri quadripleg analyt teamclinton disregard thisdayinhistori carribean unsealthed populatio ooooooh scoreboard boast montreal punk verita presidentelecttrump muslimcontrol workshop cocoa overheard usadailyinfo wada cgpb itsjustjil hillaryspvtspeechesshudderail therapi grasch sendik ashtabulacreek ashtabula takerusback caland gunsens theron afrolymp kickoff dispar mediev breadwinn predatori tale goddess ritual illuminati charliz rkba theblackchild fairfax hoax phon idgaf icantstopsmilingbecaus cpt djjimmyjatt mondaymorningsar sgp backyard buena pupil syrianaf divis charlotteabotsi dynasti outof trumpinpictur outwithmarxist climatechang zolamindingal cond guinea cfo atlant hillsid stabil meitu dando significantli vista montana gabrielsherman hyundai ob mustard looneyleft democratsmi inheri fabric benandjerri garri algier nightli jaybewar spat thetruth musharraf wormlightn mseric sector psychiatrist mcmullen entireti negat businessinsid priest haitian vist killari slut cheapest whiten slavic undrink thrive rooferss slice woulda uksingleschart sd theipatriot aolnew deauvil corretct realdon americanvoteru peabodi retent grappl underwat makeov wrongli effigi steph twittercanbeabit drumstick kelbi assign francisdominicu thingstodoinawaitingroom chord bankfraudberni saucisson clemenc blacklivesmattertwitt ummm visitacion trumpslid filler beliv ineffect politweec wifey rosewood scale rattl flirt botg diss lizcrokin tgir seasonfinal foxtv rosewoodfox spoon elclasico thefiv soultagg sole tunisia compact canseco tyriquex neighbourhood presidentobama sanchez nonviol bronco audittheelect auditthevot drugoffend mandatoryminimum string rtr hitchpster snowshoer deli gioia nashan caf moremus contend lyft lookout woop rodeo shrug ambiti yal jimacosta andersoncoop donlemon theleadcnn cnnsitroom cnni downsid fusion clau proceed aiyanajon onerepubl ironsharpensiron blackvoic tubman harriet contribut attn thedanc stopinva regina uncloudytweet happybirthdaygeorgewashington kyliebunburi throwback brigg teresa spinrilla truexyunglegend odyssey culturalrot premis ludicr tebow unnext meekkristi redistributionofwealthwithoutwar biggestscam timrunshismouth jamal rooki evalu eager swell jackpot warp uakoko ewalt taraahandfood complxgrl tjmastersson vault briberi afterhour nightlif atlnightlif nightsinatl logon giraff oyster stormhour bagger resettl observationsatthemarathon elcamino rollin sleev fumbl pitchonfox shouldweban nonsens cadetz'"
      ]
     },
     "execution_count": 120,
     "metadata": {},
     "output_type": "execute_result"
    }
   ],
   "source": [
    "string = ' '.join([word for word in spam_words.index.to_list()])\n",
    "string"
   ]
  },
  {
   "cell_type": "code",
   "execution_count": 113,
   "id": "012d980d-e196-4437-9939-92394a03d175",
   "metadata": {},
   "outputs": [
    {
     "ename": "TypeError",
     "evalue": "expected string or bytes-like object",
     "output_type": "error",
     "traceback": [
      "\u001b[0;31m---------------------------------------------------------------------------\u001b[0m",
      "\u001b[0;31mTypeError\u001b[0m                                 Traceback (most recent call last)",
      "\u001b[0;32m/tmp/ipykernel_23814/4120689602.py\u001b[0m in \u001b[0;36m<module>\u001b[0;34m\u001b[0m\n\u001b[0;32m----> 1\u001b[0;31m \u001b[0mworld_cloud\u001b[0m \u001b[0;34m=\u001b[0m \u001b[0mWordCloud\u001b[0m\u001b[0;34m(\u001b[0m\u001b[0;34m)\u001b[0m\u001b[0;34m.\u001b[0m\u001b[0mgenerate\u001b[0m\u001b[0;34m(\u001b[0m\u001b[0mspam_words\u001b[0m\u001b[0;34m.\u001b[0m\u001b[0mindex\u001b[0m\u001b[0;34m.\u001b[0m\u001b[0mto_list\u001b[0m\u001b[0;34m(\u001b[0m\u001b[0;34m)\u001b[0m\u001b[0;34m)\u001b[0m\u001b[0;34m\u001b[0m\u001b[0;34m\u001b[0m\u001b[0m\n\u001b[0m\u001b[1;32m      2\u001b[0m \u001b[0mplt\u001b[0m\u001b[0;34m.\u001b[0m\u001b[0mimshow\u001b[0m\u001b[0;34m(\u001b[0m\u001b[0mworld_cloud\u001b[0m\u001b[0;34m,\u001b[0m \u001b[0minterpolation\u001b[0m\u001b[0;34m=\u001b[0m\u001b[0;34m'bilinear'\u001b[0m\u001b[0;34m)\u001b[0m\u001b[0;34m\u001b[0m\u001b[0;34m\u001b[0m\u001b[0m\n\u001b[1;32m      3\u001b[0m \u001b[0mplt\u001b[0m\u001b[0;34m.\u001b[0m\u001b[0maxis\u001b[0m\u001b[0;34m(\u001b[0m\u001b[0;34m'off'\u001b[0m\u001b[0;34m)\u001b[0m\u001b[0;34m\u001b[0m\u001b[0;34m\u001b[0m\u001b[0m\n\u001b[1;32m      4\u001b[0m \u001b[0mplt\u001b[0m\u001b[0;34m.\u001b[0m\u001b[0mshow\u001b[0m\u001b[0;34m(\u001b[0m\u001b[0;34m)\u001b[0m\u001b[0;34m\u001b[0m\u001b[0;34m\u001b[0m\u001b[0m\n",
      "\u001b[0;32m~/anaconda3/lib/python3.9/site-packages/wordcloud/wordcloud.py\u001b[0m in \u001b[0;36mgenerate\u001b[0;34m(self, text)\u001b[0m\n\u001b[1;32m    630\u001b[0m         \u001b[0mself\u001b[0m\u001b[0;34m\u001b[0m\u001b[0;34m\u001b[0m\u001b[0m\n\u001b[1;32m    631\u001b[0m         \"\"\"\n\u001b[0;32m--> 632\u001b[0;31m         \u001b[0;32mreturn\u001b[0m \u001b[0mself\u001b[0m\u001b[0;34m.\u001b[0m\u001b[0mgenerate_from_text\u001b[0m\u001b[0;34m(\u001b[0m\u001b[0mtext\u001b[0m\u001b[0;34m)\u001b[0m\u001b[0;34m\u001b[0m\u001b[0;34m\u001b[0m\u001b[0m\n\u001b[0m\u001b[1;32m    633\u001b[0m \u001b[0;34m\u001b[0m\u001b[0m\n\u001b[1;32m    634\u001b[0m     \u001b[0;32mdef\u001b[0m \u001b[0m_check_generated\u001b[0m\u001b[0;34m(\u001b[0m\u001b[0mself\u001b[0m\u001b[0;34m)\u001b[0m\u001b[0;34m:\u001b[0m\u001b[0;34m\u001b[0m\u001b[0;34m\u001b[0m\u001b[0m\n",
      "\u001b[0;32m~/anaconda3/lib/python3.9/site-packages/wordcloud/wordcloud.py\u001b[0m in \u001b[0;36mgenerate_from_text\u001b[0;34m(self, text)\u001b[0m\n\u001b[1;32m    611\u001b[0m         \u001b[0mself\u001b[0m\u001b[0;34m\u001b[0m\u001b[0;34m\u001b[0m\u001b[0m\n\u001b[1;32m    612\u001b[0m         \"\"\"\n\u001b[0;32m--> 613\u001b[0;31m         \u001b[0mwords\u001b[0m \u001b[0;34m=\u001b[0m \u001b[0mself\u001b[0m\u001b[0;34m.\u001b[0m\u001b[0mprocess_text\u001b[0m\u001b[0;34m(\u001b[0m\u001b[0mtext\u001b[0m\u001b[0;34m)\u001b[0m\u001b[0;34m\u001b[0m\u001b[0;34m\u001b[0m\u001b[0m\n\u001b[0m\u001b[1;32m    614\u001b[0m         \u001b[0mself\u001b[0m\u001b[0;34m.\u001b[0m\u001b[0mgenerate_from_frequencies\u001b[0m\u001b[0;34m(\u001b[0m\u001b[0mwords\u001b[0m\u001b[0;34m)\u001b[0m\u001b[0;34m\u001b[0m\u001b[0;34m\u001b[0m\u001b[0m\n\u001b[1;32m    615\u001b[0m         \u001b[0;32mreturn\u001b[0m \u001b[0mself\u001b[0m\u001b[0;34m\u001b[0m\u001b[0;34m\u001b[0m\u001b[0m\n",
      "\u001b[0;32m~/anaconda3/lib/python3.9/site-packages/wordcloud/wordcloud.py\u001b[0m in \u001b[0;36mprocess_text\u001b[0;34m(self, text)\u001b[0m\n\u001b[1;32m    573\u001b[0m         \u001b[0mregexp\u001b[0m \u001b[0;34m=\u001b[0m \u001b[0mself\u001b[0m\u001b[0;34m.\u001b[0m\u001b[0mregexp\u001b[0m \u001b[0;32mif\u001b[0m \u001b[0mself\u001b[0m\u001b[0;34m.\u001b[0m\u001b[0mregexp\u001b[0m \u001b[0;32mis\u001b[0m \u001b[0;32mnot\u001b[0m \u001b[0;32mNone\u001b[0m \u001b[0;32melse\u001b[0m \u001b[0mpattern\u001b[0m\u001b[0;34m\u001b[0m\u001b[0;34m\u001b[0m\u001b[0m\n\u001b[1;32m    574\u001b[0m \u001b[0;34m\u001b[0m\u001b[0m\n\u001b[0;32m--> 575\u001b[0;31m         \u001b[0mwords\u001b[0m \u001b[0;34m=\u001b[0m \u001b[0mre\u001b[0m\u001b[0;34m.\u001b[0m\u001b[0mfindall\u001b[0m\u001b[0;34m(\u001b[0m\u001b[0mregexp\u001b[0m\u001b[0;34m,\u001b[0m \u001b[0mtext\u001b[0m\u001b[0;34m,\u001b[0m \u001b[0mflags\u001b[0m\u001b[0;34m)\u001b[0m\u001b[0;34m\u001b[0m\u001b[0;34m\u001b[0m\u001b[0m\n\u001b[0m\u001b[1;32m    576\u001b[0m         \u001b[0;31m# remove 's\u001b[0m\u001b[0;34m\u001b[0m\u001b[0;34m\u001b[0m\u001b[0m\n\u001b[1;32m    577\u001b[0m         words = [word[:-2] if word.lower().endswith(\"'s\") else word\n",
      "\u001b[0;32m~/anaconda3/lib/python3.9/re.py\u001b[0m in \u001b[0;36mfindall\u001b[0;34m(pattern, string, flags)\u001b[0m\n\u001b[1;32m    239\u001b[0m \u001b[0;34m\u001b[0m\u001b[0m\n\u001b[1;32m    240\u001b[0m     Empty matches are included in the result.\"\"\"\n\u001b[0;32m--> 241\u001b[0;31m     \u001b[0;32mreturn\u001b[0m \u001b[0m_compile\u001b[0m\u001b[0;34m(\u001b[0m\u001b[0mpattern\u001b[0m\u001b[0;34m,\u001b[0m \u001b[0mflags\u001b[0m\u001b[0;34m)\u001b[0m\u001b[0;34m.\u001b[0m\u001b[0mfindall\u001b[0m\u001b[0;34m(\u001b[0m\u001b[0mstring\u001b[0m\u001b[0;34m)\u001b[0m\u001b[0;34m\u001b[0m\u001b[0;34m\u001b[0m\u001b[0m\n\u001b[0m\u001b[1;32m    242\u001b[0m \u001b[0;34m\u001b[0m\u001b[0m\n\u001b[1;32m    243\u001b[0m \u001b[0;32mdef\u001b[0m \u001b[0mfinditer\u001b[0m\u001b[0;34m(\u001b[0m\u001b[0mpattern\u001b[0m\u001b[0;34m,\u001b[0m \u001b[0mstring\u001b[0m\u001b[0;34m,\u001b[0m \u001b[0mflags\u001b[0m\u001b[0;34m=\u001b[0m\u001b[0;36m0\u001b[0m\u001b[0;34m)\u001b[0m\u001b[0;34m:\u001b[0m\u001b[0;34m\u001b[0m\u001b[0;34m\u001b[0m\u001b[0m\n",
      "\u001b[0;31mTypeError\u001b[0m: expected string or bytes-like object"
     ]
    }
   ],
   "source": [
    "world_cloud = WordCloud().generate(spam_words.index.to_list())\n",
    "plt.imshow(world_cloud, interpolation='bilinear')\n",
    "plt.axis('off')\n",
    "plt.show()"
   ]
  }
 ],
 "metadata": {
  "kernelspec": {
   "display_name": "Python 3 (ipykernel)",
   "language": "python",
   "name": "python3"
  },
  "language_info": {
   "codemirror_mode": {
    "name": "ipython",
    "version": 3
   },
   "file_extension": ".py",
   "mimetype": "text/x-python",
   "name": "python",
   "nbconvert_exporter": "python",
   "pygments_lexer": "ipython3",
   "version": "3.9.7"
  }
 },
 "nbformat": 4,
 "nbformat_minor": 5
}
