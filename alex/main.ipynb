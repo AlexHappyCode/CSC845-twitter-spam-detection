{
 "cells": [
  {
   "cell_type": "markdown",
   "id": "bb9e42d8-6db2-4fc9-bc6d-1e1c1b1cc300",
   "metadata": {},
   "source": [
    "# Imports"
   ]
  },
  {
   "cell_type": "code",
   "execution_count": 29,
   "id": "82ee8e78-5d57-4211-b48c-f1611d4f4033",
   "metadata": {},
   "outputs": [],
   "source": [
    "import os\n",
    "import sys\n",
    "import numpy as np\n",
    "import pandas as pd\n",
    "from pandas import DataFrame\n",
    "import matplotlib.pyplot as plt"
   ]
  },
  {
   "cell_type": "code",
   "execution_count": 3,
   "id": "671ab9f7-d074-4f2e-b303-b3a22beca7f0",
   "metadata": {},
   "outputs": [
    {
     "name": "stdout",
     "output_type": "stream",
     "text": [
      "/home/berimbolo/AdvancedComputerNetworks/CSC845-twitter-spam-detection/alex\n"
     ]
    }
   ],
   "source": [
    "print(os.getcwd())\n",
    "TEST_DATA = 'datasets/train.csv'\n",
    "EXAMPLE_FILE = 'datasets/SpamData/01_Processing/practice_email.txt'"
   ]
  },
  {
   "cell_type": "markdown",
   "id": "f675bc46-c134-49c5-a24e-4023d4797ca3",
   "metadata": {},
   "source": [
    "# Reading Test Data"
   ]
  },
  {
   "cell_type": "code",
   "execution_count": 6,
   "id": "e5dc227b-fe80-41a3-bb6e-9eb0382089e6",
   "metadata": {},
   "outputs": [],
   "source": [
    "data = pd.read_csv(TEST_DATA)\n",
    "tweets = DataFrame(data, columns=['Tweet'])\n",
    "followings = DataFrame(data, columns=['following'])"
   ]
  },
  {
   "cell_type": "markdown",
   "id": "eade1224-8772-4878-af64-08d19c1c791b",
   "metadata": {},
   "source": [
    "# Plotting Data"
   ]
  },
  {
   "cell_type": "code",
   "execution_count": 28,
   "id": "5589b95c-6204-44e8-bb6f-f953b412f0fa",
   "metadata": {},
   "outputs": [
    {
     "data": {
      "text/plain": [
       "'Good Morning Love  @LeeBrown_V'"
      ]
     },
     "execution_count": 28,
     "metadata": {},
     "output_type": "execute_result"
    }
   ],
   "source": [
    "data['Tweet'].iloc[0]"
   ]
  },
  {
   "cell_type": "code",
   "execution_count": 31,
   "id": "b606dc09-eafe-46a7-83a9-462ffdcb0a2f",
   "metadata": {},
   "outputs": [
    {
     "data": {
      "text/plain": [
       "'utf-8'"
      ]
     },
     "execution_count": 31,
     "metadata": {},
     "output_type": "execute_result"
    }
   ],
   "source": [
    "sys.getfilesystemencoding()"
   ]
  },
  {
   "cell_type": "markdown",
   "id": "7209c2cf-e58f-4e47-9b9d-b01aa012f1cd",
   "metadata": {},
   "source": [
    "# Generator Function"
   ]
  }
 ],
 "metadata": {
  "kernelspec": {
   "display_name": "Python 3 (ipykernel)",
   "language": "python",
   "name": "python3"
  },
  "language_info": {
   "codemirror_mode": {
    "name": "ipython",
    "version": 3
   },
   "file_extension": ".py",
   "mimetype": "text/x-python",
   "name": "python",
   "nbconvert_exporter": "python",
   "pygments_lexer": "ipython3",
   "version": "3.9.7"
  }
 },
 "nbformat": 4,
 "nbformat_minor": 5
}
