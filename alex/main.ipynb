{
 "cells": [
  {
   "cell_type": "markdown",
   "id": "bb9e42d8-6db2-4fc9-bc6d-1e1c1b1cc300",
   "metadata": {},
   "source": [
    "# Imports"
   ]
  },
  {
   "cell_type": "code",
   "execution_count": 8,
   "id": "82ee8e78-5d57-4211-b48c-f1611d4f4033",
   "metadata": {},
   "outputs": [],
   "source": [
    "import os\n",
    "import numpy as np\n",
    "import pandas as pd"
   ]
  },
  {
   "cell_type": "code",
   "execution_count": 10,
   "id": "671ab9f7-d074-4f2e-b303-b3a22beca7f0",
   "metadata": {},
   "outputs": [
    {
     "name": "stdout",
     "output_type": "stream",
     "text": [
      "/home/berimbolo/CSC845-twitter-spam-detection/alex\n"
     ]
    }
   ],
   "source": [
    "print(os.getcwd())\n",
    "EXAMPLE_FILE = 'datasets/SpamData/01_Processing/practice_email.txt'"
   ]
  },
  {
   "cell_type": "markdown",
   "id": "f675bc46-c134-49c5-a24e-4023d4797ca3",
   "metadata": {},
   "source": [
    "# Reading Files"
   ]
  },
  {
   "cell_type": "code",
   "execution_count": 23,
   "id": "4aabea88-1d11-4196-9812-0bd112a705bf",
   "metadata": {},
   "outputs": [
    {
     "name": "stdout",
     "output_type": "stream",
     "text": [
      "\n",
      "\n",
      "Dear Mr Still\n",
      "\n",
      "\n",
      "\n",
      "Good tidings to you and all your staff for the festive season ahead (Christmas).\n",
      "\n",
      "Now to the crux of the matter-in-hand: I am a fully qualified Santa Claus and am wondering whether you might consider me to run my own \"Santa's Grotto\" in your store.\n",
      "\n",
      "But WAIT! You're probably thinking: \"What makes him so special?\"\n",
      "\n",
      "Well, first of all, I have made several changes to the characterisation of Father Christmas. Rather than greeting the children with shouts of \"Ho, ho, ho!\" I prefer to whisper the phrase \"Dependence is not unfathomable in this cruel world we live in\". In addition, my gifts are ALL hand-made, ranging from felt hoops to vanilla-pod holders.\n",
      "\n",
      "You will note also, from the enclosed sketch, that I have radically redesigned Santa's outfit and have renamed my character \"Lord Buckles\". Would you be interested in employing me? I promise NEVER to let you down.\n",
      "\n",
      "I look forward to hearing from you.\n",
      "\n",
      "\n",
      "\n",
      "Best wishes\n",
      "\n",
      "Robin Cooper\n",
      "\n",
      "[Excerpt from the book: The Timewaster Letters by Robin Cooper]\n",
      "\n"
     ]
    }
   ],
   "source": [
    "stream = open(EXAMPLE_FILE, encoding='latin-1')\n",
    "\n",
    "is_body = False\n",
    "lines = []\n",
    "\n",
    "for line in stream:\n",
    "    if is_body:\n",
    "        lines.append(line)\n",
    "    elif line == '\\n':\n",
    "        is_body = True\n",
    "\n",
    "stream.close()\n",
    "\n",
    "email_body = '\\n'.join(lines)\n",
    "print(email_body)"
   ]
  },
  {
   "cell_type": "markdown",
   "id": "7209c2cf-e58f-4e47-9b9d-b01aa012f1cd",
   "metadata": {},
   "source": [
    "# Generator Function"
   ]
  },
  {
   "cell_type": "code",
   "execution_count": 25,
   "id": "fa12b513-c5d6-41a4-b62b-1bd17cf9dd39",
   "metadata": {},
   "outputs": [],
   "source": [
    "def generate_squares(N):\n",
    "    for my_number in range(N):\n",
    "        yield my_number ** 2"
   ]
  },
  {
   "cell_type": "code",
   "execution_count": 28,
   "id": "1db90a42-c5fe-48b8-becb-866a02498b0e",
   "metadata": {},
   "outputs": [
    {
     "name": "stdout",
     "output_type": "stream",
     "text": [
      "0 ->1 ->4 ->9 ->16 ->"
     ]
    }
   ],
   "source": [
    "for i in generate_squares(5):\n",
    "    print(i, end=' ->')"
   ]
  },
  {
   "cell_type": "markdown",
   "id": "3a0bc028-1f24-4af4-87f4-196df97ace65",
   "metadata": {},
   "source": [
    "# Email body Extraction"
   ]
  },
  {
   "cell_type": "code",
   "execution_count": null,
   "id": "7d1e037e-a8ff-4aaa-a50e-19fc6d668d4a",
   "metadata": {},
   "outputs": [],
   "source": [
    "def email_body_generator()"
   ]
  }
 ],
 "metadata": {
  "kernelspec": {
   "display_name": "Python 3 (ipykernel)",
   "language": "python",
   "name": "python3"
  },
  "language_info": {
   "codemirror_mode": {
    "name": "ipython",
    "version": 3
   },
   "file_extension": ".py",
   "mimetype": "text/x-python",
   "name": "python",
   "nbconvert_exporter": "python",
   "pygments_lexer": "ipython3",
   "version": "3.9.7"
  }
 },
 "nbformat": 4,
 "nbformat_minor": 5
}
