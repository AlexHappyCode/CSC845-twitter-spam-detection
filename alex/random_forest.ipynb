{
 "cells": [
  {
   "cell_type": "markdown",
   "id": "d25bfd1c-94f8-4449-b425-c9b045a85261",
   "metadata": {},
   "source": [
    "# Initialization"
   ]
  },
  {
   "cell_type": "code",
   "execution_count": 24,
   "id": "17e7557d-9d41-438f-8e75-0d3707fb80c3",
   "metadata": {},
   "outputs": [],
   "source": [
    "import pandas as pd\n",
    "import numpy as np\n",
    "from functools import reduce\n",
    "import matplotlib.pyplot as plt\n",
    "\n",
    "# nltk packages\n",
    "import nltk\n",
    "from nltk.stem import PorterStemmer\n",
    "from nltk.corpus import stopwords\n",
    "from nltk.tokenize import word_tokenize"
   ]
  },
  {
   "cell_type": "code",
   "execution_count": 25,
   "id": "f3ef02b4-8f08-4ba1-a5b1-7150f31ab90c",
   "metadata": {
    "tags": []
   },
   "outputs": [],
   "source": [
    "TRAIN_PATH = 'UtkMl_dataset/train.csv'\n",
    "TEST_PATH = 'datasets/test.csv'\n",
    "\n",
    "VOCAB_SIZE = 2500"
   ]
  },
  {
   "cell_type": "markdown",
   "id": "5b712a13-0980-448a-8005-98237bae551f",
   "metadata": {},
   "source": [
    "## Read Data\n",
    "\n",
    "INDEX, DOC_ID, WORD_ID, LABEL"
   ]
  },
  {
   "cell_type": "code",
   "execution_count": 26,
   "id": "3350cad1-b9b5-4e16-beeb-e8f63c763712",
   "metadata": {},
   "outputs": [],
   "source": [
    "sparse_train_data = np.loadtxt('trainning_data.txt', delimiter=' ', dtype=str)\n",
    "sparse_test_data = np.loadtxt('test_data.txt', delimiter=' ', dtype=str)\n",
    "\n",
    "'''grouped_data columns: DOC_ID, WORD_ID, LABEL, OCCURENCE indexed from vocab'''\n",
    "grouped_data = np.loadtxt('grouped_data.txt', delimiter=' ', dtype=str)"
   ]
  },
  {
   "cell_type": "code",
   "execution_count": 27,
   "id": "bff83082-ad8c-4c0c-ac96-b41410a596a7",
   "metadata": {},
   "outputs": [
    {
     "data": {
      "text/html": [
       "<div>\n",
       "<style scoped>\n",
       "    .dataframe tbody tr th:only-of-type {\n",
       "        vertical-align: middle;\n",
       "    }\n",
       "\n",
       "    .dataframe tbody tr th {\n",
       "        vertical-align: top;\n",
       "    }\n",
       "\n",
       "    .dataframe thead th {\n",
       "        text-align: right;\n",
       "    }\n",
       "</style>\n",
       "<table border=\"1\" class=\"dataframe\">\n",
       "  <thead>\n",
       "    <tr style=\"text-align: right;\">\n",
       "      <th></th>\n",
       "      <th>Tweet</th>\n",
       "      <th>following</th>\n",
       "      <th>followers</th>\n",
       "      <th>actions</th>\n",
       "      <th>is_retweet</th>\n",
       "      <th>location</th>\n",
       "      <th>Type</th>\n",
       "      <th>Unnamed: 7</th>\n",
       "    </tr>\n",
       "  </thead>\n",
       "  <tbody>\n",
       "    <tr>\n",
       "      <th>0</th>\n",
       "      <td>Good Morning Love  @LeeBrown_V</td>\n",
       "      <td>0.0</td>\n",
       "      <td>0.0</td>\n",
       "      <td>0.0</td>\n",
       "      <td>0.0</td>\n",
       "      <td>Pennsylvania, USA</td>\n",
       "      <td>Quality</td>\n",
       "      <td>NaN</td>\n",
       "    </tr>\n",
       "    <tr>\n",
       "      <th>1</th>\n",
       "      <td>'@realDonaldTrump @USNavy RIP TO HEROES'</td>\n",
       "      <td>42096.0</td>\n",
       "      <td>61060.0</td>\n",
       "      <td>5001.0</td>\n",
       "      <td>0.0</td>\n",
       "      <td>South Padre Island, Texas</td>\n",
       "      <td>Spam</td>\n",
       "      <td>NaN</td>\n",
       "    </tr>\n",
       "    <tr>\n",
       "      <th>2</th>\n",
       "      <td>Haven't been following the news but I understa...</td>\n",
       "      <td>0.0</td>\n",
       "      <td>0.0</td>\n",
       "      <td>NaN</td>\n",
       "      <td>0.0</td>\n",
       "      <td>Will never be broke ever again</td>\n",
       "      <td>Quality</td>\n",
       "      <td>NaN</td>\n",
       "    </tr>\n",
       "    <tr>\n",
       "      <th>3</th>\n",
       "      <td>pic.twitter.com/dy9q4ftLhZ What to do with pap...</td>\n",
       "      <td>0.0</td>\n",
       "      <td>0.0</td>\n",
       "      <td>0.0</td>\n",
       "      <td>0.0</td>\n",
       "      <td>Mundo</td>\n",
       "      <td>Quality</td>\n",
       "      <td>NaN</td>\n",
       "    </tr>\n",
       "    <tr>\n",
       "      <th>4</th>\n",
       "      <td>#DidYouKnow ► Mahatma Gandhi made a brief visi...</td>\n",
       "      <td>17800.0</td>\n",
       "      <td>35100.0</td>\n",
       "      <td>NaN</td>\n",
       "      <td>0.0</td>\n",
       "      <td>Nottingham, England</td>\n",
       "      <td>Quality</td>\n",
       "      <td>NaN</td>\n",
       "    </tr>\n",
       "    <tr>\n",
       "      <th>...</th>\n",
       "      <td>...</td>\n",
       "      <td>...</td>\n",
       "      <td>...</td>\n",
       "      <td>...</td>\n",
       "      <td>...</td>\n",
       "      <td>...</td>\n",
       "      <td>...</td>\n",
       "      <td>...</td>\n",
       "    </tr>\n",
       "    <tr>\n",
       "      <th>14894</th>\n",
       "      <td>#AllWentWrongWhen I told my hair stylist to \"g...</td>\n",
       "      <td>695.0</td>\n",
       "      <td>533.0</td>\n",
       "      <td>868.0</td>\n",
       "      <td>1.0</td>\n",
       "      <td>United States</td>\n",
       "      <td>Spam</td>\n",
       "      <td>NaN</td>\n",
       "    </tr>\n",
       "    <tr>\n",
       "      <th>14895</th>\n",
       "      <td>They don't have to like you, and you don't hav...</td>\n",
       "      <td>0.0</td>\n",
       "      <td>0.0</td>\n",
       "      <td>0.0</td>\n",
       "      <td>0.0</td>\n",
       "      <td>NaN</td>\n",
       "      <td>Quality</td>\n",
       "      <td>NaN</td>\n",
       "    </tr>\n",
       "    <tr>\n",
       "      <th>14896</th>\n",
       "      <td>#Miami Graham Nash Live at Parker Playhouse  #...</td>\n",
       "      <td>5647.0</td>\n",
       "      <td>15091.0</td>\n",
       "      <td>5823.0</td>\n",
       "      <td>0.0</td>\n",
       "      <td>United States</td>\n",
       "      <td>Spam</td>\n",
       "      <td>NaN</td>\n",
       "    </tr>\n",
       "    <tr>\n",
       "      <th>14897</th>\n",
       "      <td>@bethannhamilton is in the business of one-upp...</td>\n",
       "      <td>0.0</td>\n",
       "      <td>0.0</td>\n",
       "      <td>NaN</td>\n",
       "      <td>0.0</td>\n",
       "      <td>Southgate, MI</td>\n",
       "      <td>Quality</td>\n",
       "      <td>NaN</td>\n",
       "    </tr>\n",
       "    <tr>\n",
       "      <th>14898</th>\n",
       "      <td>Chasing Success  by  Space Cadetz  Listen up...</td>\n",
       "      <td>1219.0</td>\n",
       "      <td>957.0</td>\n",
       "      <td>4077.0</td>\n",
       "      <td>1.0</td>\n",
       "      <td>United States</td>\n",
       "      <td>Spam</td>\n",
       "      <td>NaN</td>\n",
       "    </tr>\n",
       "  </tbody>\n",
       "</table>\n",
       "<p>14899 rows × 8 columns</p>\n",
       "</div>"
      ],
      "text/plain": [
       "                                                   Tweet  following  \\\n",
       "0                         Good Morning Love  @LeeBrown_V        0.0   \n",
       "1               '@realDonaldTrump @USNavy RIP TO HEROES'    42096.0   \n",
       "2      Haven't been following the news but I understa...        0.0   \n",
       "3      pic.twitter.com/dy9q4ftLhZ What to do with pap...        0.0   \n",
       "4      #DidYouKnow ► Mahatma Gandhi made a brief visi...    17800.0   \n",
       "...                                                  ...        ...   \n",
       "14894  #AllWentWrongWhen I told my hair stylist to \"g...      695.0   \n",
       "14895  They don't have to like you, and you don't hav...        0.0   \n",
       "14896  #Miami Graham Nash Live at Parker Playhouse  #...     5647.0   \n",
       "14897  @bethannhamilton is in the business of one-upp...        0.0   \n",
       "14898    Chasing Success  by  Space Cadetz  Listen up...     1219.0   \n",
       "\n",
       "       followers  actions  is_retweet                        location  \\\n",
       "0            0.0      0.0         0.0               Pennsylvania, USA   \n",
       "1        61060.0   5001.0         0.0       South Padre Island, Texas   \n",
       "2            0.0      NaN         0.0  Will never be broke ever again   \n",
       "3            0.0      0.0         0.0                           Mundo   \n",
       "4        35100.0      NaN         0.0             Nottingham, England   \n",
       "...          ...      ...         ...                             ...   \n",
       "14894      533.0    868.0         1.0                   United States   \n",
       "14895        0.0      0.0         0.0                             NaN   \n",
       "14896    15091.0   5823.0         0.0                   United States   \n",
       "14897        0.0      NaN         0.0                   Southgate, MI   \n",
       "14898      957.0   4077.0         1.0                   United States   \n",
       "\n",
       "          Type  Unnamed: 7  \n",
       "0      Quality         NaN  \n",
       "1         Spam         NaN  \n",
       "2      Quality         NaN  \n",
       "3      Quality         NaN  \n",
       "4      Quality         NaN  \n",
       "...        ...         ...  \n",
       "14894     Spam         NaN  \n",
       "14895  Quality         NaN  \n",
       "14896     Spam         NaN  \n",
       "14897  Quality         NaN  \n",
       "14898     Spam         NaN  \n",
       "\n",
       "[14899 rows x 8 columns]"
      ]
     },
     "execution_count": 27,
     "metadata": {},
     "output_type": "execute_result"
    }
   ],
   "source": [
    "data = pd.read_csv(TRAIN_PATH)\n",
    "data"
   ]
  },
  {
   "cell_type": "code",
   "execution_count": 28,
   "id": "2f919952-1738-4852-b6e1-cfc84bccb89f",
   "metadata": {},
   "outputs": [
    {
     "data": {
      "text/html": [
       "<div>\n",
       "<style scoped>\n",
       "    .dataframe tbody tr th:only-of-type {\n",
       "        vertical-align: middle;\n",
       "    }\n",
       "\n",
       "    .dataframe tbody tr th {\n",
       "        vertical-align: top;\n",
       "    }\n",
       "\n",
       "    .dataframe thead th {\n",
       "        text-align: right;\n",
       "    }\n",
       "</style>\n",
       "<table border=\"1\" class=\"dataframe\">\n",
       "  <thead>\n",
       "    <tr style=\"text-align: right;\">\n",
       "      <th></th>\n",
       "      <th>WORD_ID</th>\n",
       "      <th>VOCAB_WORD</th>\n",
       "    </tr>\n",
       "  </thead>\n",
       "  <tbody>\n",
       "    <tr>\n",
       "      <th>0</th>\n",
       "      <td>0</td>\n",
       "      <td>http</td>\n",
       "    </tr>\n",
       "    <tr>\n",
       "      <th>1</th>\n",
       "      <td>1</td>\n",
       "      <td>trump</td>\n",
       "    </tr>\n",
       "    <tr>\n",
       "      <th>2</th>\n",
       "      <td>2</td>\n",
       "      <td>news</td>\n",
       "    </tr>\n",
       "    <tr>\n",
       "      <th>3</th>\n",
       "      <td>3</td>\n",
       "      <td>get</td>\n",
       "    </tr>\n",
       "    <tr>\n",
       "      <th>4</th>\n",
       "      <td>4</td>\n",
       "      <td>new</td>\n",
       "    </tr>\n",
       "    <tr>\n",
       "      <th>...</th>\n",
       "      <td>...</td>\n",
       "      <td>...</td>\n",
       "    </tr>\n",
       "    <tr>\n",
       "      <th>2495</th>\n",
       "      <td>2495</td>\n",
       "      <td>moto</td>\n",
       "    </tr>\n",
       "    <tr>\n",
       "      <th>2496</th>\n",
       "      <td>2496</td>\n",
       "      <td>yell</td>\n",
       "    </tr>\n",
       "    <tr>\n",
       "      <th>2497</th>\n",
       "      <td>2497</td>\n",
       "      <td>butter</td>\n",
       "    </tr>\n",
       "    <tr>\n",
       "      <th>2498</th>\n",
       "      <td>2498</td>\n",
       "      <td>lack</td>\n",
       "    </tr>\n",
       "    <tr>\n",
       "      <th>2499</th>\n",
       "      <td>2499</td>\n",
       "      <td>preciou</td>\n",
       "    </tr>\n",
       "  </tbody>\n",
       "</table>\n",
       "<p>2500 rows × 2 columns</p>\n",
       "</div>"
      ],
      "text/plain": [
       "      WORD_ID VOCAB_WORD\n",
       "0           0       http\n",
       "1           1      trump\n",
       "2           2       news\n",
       "3           3        get\n",
       "4           4        new\n",
       "...       ...        ...\n",
       "2495     2495       moto\n",
       "2496     2496       yell\n",
       "2497     2497     butter\n",
       "2498     2498       lack\n",
       "2499     2499    preciou\n",
       "\n",
       "[2500 rows x 2 columns]"
      ]
     },
     "execution_count": 28,
     "metadata": {},
     "output_type": "execute_result"
    }
   ],
   "source": [
    "vocab = pd.read_csv('vocab.csv')\n",
    "vocab"
   ]
  },
  {
   "cell_type": "markdown",
   "id": "a3789215-bb25-4f42-8300-36ed03b1f9b5",
   "metadata": {},
   "source": [
    "## Functions for decisions\n",
    "\n",
    "True -> Spam \\\n",
    "False -> Not Spam"
   ]
  },
  {
   "cell_type": "code",
   "execution_count": 29,
   "id": "f27ad756-dfc8-4de4-867e-14c5b85bddae",
   "metadata": {},
   "outputs": [],
   "source": [
    "# Function that checks against followers vs followees\n",
    "\n",
    "# Returns true if following zero people\n",
    "\n",
    "# Returns the ratio of followers to following\n",
    "def _percent_followers_following(row):\n",
    "    return row.followers / row.following\n",
    "    \n",
    "# big enough ratio to satisfy min_percent\n",
    "def min_percent_followers(row, min_percent=.7):\n",
    "    if row.following == 0: return True\n",
    "    return _percent_followers_following(row) > min_percent\n",
    "\n",
    "# Enough followers\n",
    "def enough_followers(row, minimum_followers=10):\n",
    "    return row.followers > minimum_followers\n",
    "\n",
    "# is retweet\n",
    "def is_retweet(row)-> bool:\n",
    "    return True if row.is_retweet else False\n",
    "    "
   ]
  },
  {
   "cell_type": "markdown",
   "id": "e46f3e42-b3ce-4568-96e2-185c408336b3",
   "metadata": {},
   "source": [
    "## Creating a decision trees (without using spam words as a feature)"
   ]
  },
  {
   "cell_type": "code",
   "execution_count": 30,
   "id": "6e256be4-7cee-4317-8644-8aa82f7d097a",
   "metadata": {},
   "outputs": [],
   "source": [
    "''' \n",
    "Decision Tree -- 1\n",
    "\n",
    "returns whether true (spam) or false (not spam)\n",
    "\n",
    "Structure:\n",
    "\n",
    "1. Enough Followers\n",
    "2. Minimum Percent Followers\n",
    "\n",
    "''' \n",
    "\n",
    "# Testing tree one\n",
    "def tree1(row):\n",
    "    \n",
    "    # First check if enough followers\n",
    "    if(not enough_followers(row)):\n",
    "        return False\n",
    "    \n",
    "    if(not min_percent_followers(row)):\n",
    "        return False\n",
    "    \n",
    "    return True\n",
    "    \n",
    "    # Then check if Ratio of followers to following is high enough"
   ]
  },
  {
   "cell_type": "code",
   "execution_count": 31,
   "id": "a440c5f3-7e63-4ce1-be57-a966de315cfa",
   "metadata": {},
   "outputs": [],
   "source": [
    "''' \n",
    "Decision Tree -- 2\n",
    "\n",
    "returns whether true (spam) or false (not spam)\n",
    "\n",
    "Structure:\n",
    "\n",
    "1. Minimum Percent Followers\n",
    "2. Enough Followers\n",
    "\n",
    "''' \n",
    "def tree2(row):\n",
    "     \n",
    "    # First check if enough followers\n",
    "    if(not enough_followers(row)):\n",
    "        return False\n",
    "    \n",
    "    if(not min_percent_followers(row)):\n",
    "        return False\n",
    "    \n",
    "    return True   "
   ]
  },
  {
   "cell_type": "code",
   "execution_count": 32,
   "id": "64e68277-f5ef-47ab-9503-abcb7ee19014",
   "metadata": {},
   "outputs": [],
   "source": [
    "''' \n",
    "Decision Tree -- 3\n",
    "\n",
    "returns whether true (spam) or false (not spam)\n",
    "\n",
    "Structure:\n",
    "\n",
    "     enough_followers\n",
    "    /            \\\n",
    "is_retweet    is_retweet\n",
    "\n",
    "''' \n",
    "def tree3(row):\n",
    "     \n",
    "    if min_percent_followers(row):\n",
    "        return True if is_retweet(row) else False\n",
    "    \n",
    "    else:\n",
    "        return is_retweet(row)\n"
   ]
  },
  {
   "cell_type": "code",
   "execution_count": 33,
   "id": "93e57e93-7a12-4fe7-9fef-fa28a9b5d6e0",
   "metadata": {},
   "outputs": [],
   "source": [
    "''' \n",
    "Decision Tree -- 4\n",
    "\n",
    "returns whether true (spam) or false (not spam)\n",
    "\n",
    "Structure:\n",
    "\n",
    "           is_retweet\n",
    "           /         \\\n",
    " Enough_Followers  Enough_Followers\n",
    "''' \n",
    "\n",
    "def tree4(row):\n",
    "    # First check if enough followers\n",
    "    if is_retweet(row):\n",
    "        return True if enough_followers(row) else False\n",
    "    else: # not enough follower\n",
    "        return True if enough_followers(row) else False\n",
    "        "
   ]
  },
  {
   "cell_type": "code",
   "execution_count": 34,
   "id": "de271583-8dff-44ee-9205-4db4fd925660",
   "metadata": {},
   "outputs": [],
   "source": [
    "''' \n",
    "Decision Tree -- 5\n",
    "\n",
    "returns whether true (spam) or false (not spam)\n",
    "\n",
    "Structure:\n",
    "\n",
    "           is_retweet\n",
    "           /         \\\n",
    " Enough_Followers  minimum_percent_followers\n",
    "''' \n",
    "\n",
    "def tree5(row):\n",
    "    # First check if enough followers\n",
    "    if is_retweet(row):\n",
    "        return True if enough_followers(row) else False\n",
    "    else: # not enough follower\n",
    "        return True if min_percent_followers(row) else False\n",
    "        "
   ]
  },
  {
   "cell_type": "code",
   "execution_count": 35,
   "id": "95e1c777-0a92-4301-afd4-4f7923972bbb",
   "metadata": {},
   "outputs": [],
   "source": [
    "''' \n",
    "Decision Tree -- 5\n",
    "\n",
    "returns whether true (spam) or false (not spam)\n",
    "\n",
    "Structure:\n",
    "\n",
    "           is_retweet\n",
    "           /         \\\n",
    " Enough_Followers  minimum_percent_followers\n",
    "''' \n",
    "\n",
    "def tree5(row):\n",
    "    # First check if enough followers\n",
    "    if is_retweet(row):\n",
    "        return True if enough_followers(row) else False\n",
    "    else: # not enough follower\n",
    "        return True if min_percent_followers(row) else False\n",
    "        "
   ]
  },
  {
   "cell_type": "code",
   "execution_count": 36,
   "id": "eac0bf58-1405-4739-a02d-205a92589c63",
   "metadata": {},
   "outputs": [],
   "source": [
    "''' \n",
    "Decision Tree -- 6\n",
    "\n",
    "returns whether true (spam) or false (not spam)\n",
    "\n",
    "Structure:\n",
    "           is_retweet\n",
    "           /         \\\n",
    " Enough_Followers  minimum_percent_followers\n",
    "''' \n",
    "\n",
    "def tree6(row):\n",
    "    # First check if enough followers\n",
    "    if enough_followers(row):\n",
    "        return min_percent_followers(row)\n",
    "    else: # not enough follower\n",
    "        return True\n",
    "        "
   ]
  },
  {
   "cell_type": "code",
   "execution_count": 37,
   "id": "5d55b6d0-4b0f-4a06-9623-6a4fbb5cc3f7",
   "metadata": {},
   "outputs": [],
   "source": [
    "first_trees = [tree1, tree2, tree3, tree4, tree5]"
   ]
  },
  {
   "cell_type": "markdown",
   "id": "99728955-c3e5-4706-9df5-622b2d4b0642",
   "metadata": {},
   "source": [
    "## Running our random forest to create a dataframe with results"
   ]
  },
  {
   "cell_type": "code",
   "execution_count": 38,
   "id": "1837e111-a975-42cf-a12b-b5dcb0754374",
   "metadata": {},
   "outputs": [],
   "source": [
    "''' Functinon for Creating dataframe '''\n",
    "# Let's convert to a function that inputs data\n",
    "def random_forest(data, trees):\n",
    "\n",
    "    columns = ['Tweet', 'Spam Count','Ham Count', 'Classification', 'Actual']\n",
    "    res_df = pd.DataFrame(columns=columns)\n",
    "\n",
    "    ham_count = 0\n",
    "    spam_count = 0\n",
    "    res = []\n",
    "\n",
    "    # Indices\n",
    "    rowIdx = 0\n",
    "    spamIdx = 1\n",
    "    hamIdx = 2\n",
    "    classificationIdx = 3\n",
    "\n",
    "    for i, sample in enumerate(range(data.shape[0])):\n",
    "        # [tweetId, spam, ham, Final Classification]\n",
    "        sample_results = [data.iloc[i][0], 0, 0, \"Uninitialized\"]\n",
    "\n",
    "        for tree in trees:\n",
    "            if tree(data.iloc[sample]):\n",
    "                sample_results[spamIdx] += 1  # spam++\n",
    "            else:\n",
    "                sample_results[hamIdx] += 1 # ham++\n",
    "\n",
    "        # Final Classification\n",
    "        if sample_results[spamIdx] > sample_results[hamIdx]:\n",
    "            sample_results[classificationIdx] = 'Spam'\n",
    "        else:\n",
    "            sample_results[classificationIdx] = 'Ham'\n",
    "\n",
    "        # appending sample results to dataframe\n",
    "        sample_results.append('Spam' if data.iloc[i].Type == 'Spam' else 'Ham')\n",
    "\n",
    "        # add to dataframe\n",
    "        res_df.loc[len(res_df)] = sample_results\n",
    "        \n",
    "    return res_df"
   ]
  },
  {
   "cell_type": "markdown",
   "id": "acc8c0cc-fc2d-42f5-9d8e-544182fd3b7f",
   "metadata": {},
   "source": [
    "# Using a random subset of samples, create a decision tree that places the sample as the correct classification"
   ]
  },
  {
   "cell_type": "code",
   "execution_count": 39,
   "id": "0203635e-c351-4985-873e-32efc6924504",
   "metadata": {},
   "outputs": [],
   "source": [
    "subset_data = data.sample(50)"
   ]
  },
  {
   "cell_type": "code",
   "execution_count": 40,
   "id": "25b9c3be-2276-45fa-89a2-f27e0b090948",
   "metadata": {},
   "outputs": [],
   "source": [
    "''' run the random forest algorithm '''\n",
    "\n",
    "res_df = random_forest(subset_data, first_trees)"
   ]
  },
  {
   "cell_type": "markdown",
   "id": "f44bb339-1978-4dfb-bf6f-8f9c63d16b57",
   "metadata": {},
   "source": [
    "## Check results against actual data classificaitons\n",
    "We do this  by counting the number of mismatches"
   ]
  },
  {
   "cell_type": "code",
   "execution_count": 41,
   "id": "a028e223-0b08-4022-b3e4-9380ec431922",
   "metadata": {},
   "outputs": [
    {
     "name": "stdout",
     "output_type": "stream",
     "text": [
      "num mismatches: 8\n",
      "total samples: 50\n",
      "percent right: 0.84\n"
     ]
    }
   ],
   "source": [
    "mismatches = 0\n",
    "for i in range(res_df.shape[0]):\n",
    "    if res_df.iloc[i].Classification != res_df.iloc[i].Actual:\n",
    "        mismatches += 1\n",
    "        \n",
    "print('num mismatches:', mismatches)\n",
    "print('total samples:', res_df.shape[0])\n",
    "print('percent right:', 1 - mismatches/res_df.shape[0])"
   ]
  },
  {
   "cell_type": "code",
   "execution_count": 42,
   "id": "0f520b1b-79db-426a-8451-0e8807bbbacb",
   "metadata": {},
   "outputs": [],
   "source": [
    "''' \n",
    "function that displays a pie chart with the given data\n",
    "\n",
    "parameter: df -> dataframe\n",
    "'''\n",
    "\n",
    "def pie_chart(df, mismatches):\n",
    "    category_names = ['Mismatches', 'Correct']\n",
    "    sizes = [mismatches, df.shape[0] - mismatches]\n",
    "    custom_colors = ['#74b9ff','#ff7675']\n",
    "\n",
    "    plt.figure(figsize=(2, 2), dpi=227)\n",
    "    wedges, labels, percents = plt.pie(sizes, labels=category_names, textprops={'fontsize': 10}, \n",
    "                                       startangle=40, autopct='%1.1f%%', colors=custom_colors, \n",
    "                                        explode=[0, 0.03])\n",
    "\n",
    "    # label colors\n",
    "    labels[0].set_color('lightblue')\n",
    "    labels[1].set_color('pink')\n",
    "\n",
    "    # display pie chart\n",
    "    plt.show()"
   ]
  },
  {
   "cell_type": "code",
   "execution_count": 43,
   "id": "5318ea62-08e0-4984-b14d-f9b75ae85e10",
   "metadata": {},
   "outputs": [
    {
     "data": {
      "image/png": "[encoded data removed]",
      "text/plain": [
       "<Figure size 454x454 with 1 Axes>"
      ]
     },
     "metadata": {},
     "output_type": "display_data"
    }
   ],
   "source": [
    "pie_chart(res_df, mismatches)"
   ]
  },
  {
   "cell_type": "markdown",
   "id": "e35cc3a8-c1ac-4779-91f7-fcb099dc7afc",
   "metadata": {},
   "source": [
    "### Can we get the number of times a word appears in spam tweet?\n",
    "\n",
    "then we can decide if the tweet is spam if more words are spam"
   ]
  },
  {
   "cell_type": "code",
   "execution_count": 44,
   "id": "b3c84b71-584c-49c6-a2cd-92bfc66db7b0",
   "metadata": {},
   "outputs": [
    {
     "data": {
      "text/html": [
       "<div>\n",
       "<style scoped>\n",
       "    .dataframe tbody tr th:only-of-type {\n",
       "        vertical-align: middle;\n",
       "    }\n",
       "\n",
       "    .dataframe tbody tr th {\n",
       "        vertical-align: top;\n",
       "    }\n",
       "\n",
       "    .dataframe thead th {\n",
       "        text-align: right;\n",
       "    }\n",
       "</style>\n",
       "<table border=\"1\" class=\"dataframe\">\n",
       "  <thead>\n",
       "    <tr style=\"text-align: right;\">\n",
       "      <th></th>\n",
       "      <th>VOCAB_WORD</th>\n",
       "    </tr>\n",
       "    <tr>\n",
       "      <th>WORD_ID</th>\n",
       "      <th></th>\n",
       "    </tr>\n",
       "  </thead>\n",
       "  <tbody>\n",
       "    <tr>\n",
       "      <th>0</th>\n",
       "      <td>http</td>\n",
       "    </tr>\n",
       "    <tr>\n",
       "      <th>1</th>\n",
       "      <td>trump</td>\n",
       "    </tr>\n",
       "    <tr>\n",
       "      <th>2</th>\n",
       "      <td>news</td>\n",
       "    </tr>\n",
       "    <tr>\n",
       "      <th>3</th>\n",
       "      <td>get</td>\n",
       "    </tr>\n",
       "    <tr>\n",
       "      <th>4</th>\n",
       "      <td>new</td>\n",
       "    </tr>\n",
       "    <tr>\n",
       "      <th>...</th>\n",
       "      <td>...</td>\n",
       "    </tr>\n",
       "    <tr>\n",
       "      <th>2495</th>\n",
       "      <td>moto</td>\n",
       "    </tr>\n",
       "    <tr>\n",
       "      <th>2496</th>\n",
       "      <td>yell</td>\n",
       "    </tr>\n",
       "    <tr>\n",
       "      <th>2497</th>\n",
       "      <td>butter</td>\n",
       "    </tr>\n",
       "    <tr>\n",
       "      <th>2498</th>\n",
       "      <td>lack</td>\n",
       "    </tr>\n",
       "    <tr>\n",
       "      <th>2499</th>\n",
       "      <td>preciou</td>\n",
       "    </tr>\n",
       "  </tbody>\n",
       "</table>\n",
       "<p>2500 rows × 1 columns</p>\n",
       "</div>"
      ],
      "text/plain": [
       "        VOCAB_WORD\n",
       "WORD_ID           \n",
       "0             http\n",
       "1            trump\n",
       "2             news\n",
       "3              get\n",
       "4              new\n",
       "...            ...\n",
       "2495          moto\n",
       "2496          yell\n",
       "2497        butter\n",
       "2498          lack\n",
       "2499       preciou\n",
       "\n",
       "[2500 rows x 1 columns]"
      ]
     },
     "execution_count": 44,
     "metadata": {},
     "output_type": "execute_result"
    }
   ],
   "source": [
    "vocab = vocab.set_index('WORD_ID')\n",
    "vocab"
   ]
  },
  {
   "cell_type": "code",
   "execution_count": 45,
   "id": "5eb398e1-3737-4654-bdd8-48751fea282b",
   "metadata": {},
   "outputs": [],
   "source": [
    "''' this is just to get the words from the sparse matrix by tweet_id '''\n",
    "\n",
    "def get_sparse_rows(grouped_data, idx):\n",
    "    res = []\n",
    "    for row in grouped_data:\n",
    "        if row[0] == str(idx):\n",
    "            res.append([row])\n",
    "            res[-1].append(vocab.iloc[int(row[1])][0])\n",
    "    return res"
   ]
  },
  {
   "cell_type": "code",
   "execution_count": 46,
   "id": "6fcfa006-f083-4958-9edd-c3f022839783",
   "metadata": {},
   "outputs": [],
   "source": [
    "#get_sparse_rows(grouped_data, four_samples.index[0])"
   ]
  },
  {
   "cell_type": "markdown",
   "id": "5ab11654-bd1f-4ace-9dde-4709501e33b8",
   "metadata": {},
   "source": [
    "## Loading text and converting to dictionary"
   ]
  },
  {
   "cell_type": "code",
   "execution_count": 47,
   "id": "d5d25356-2272-427e-adf2-a93a3764efd9",
   "metadata": {},
   "outputs": [],
   "source": [
    "ham_words_stemmed_freqs_list = np.loadtxt('ham_words_stemmed.txt', delimiter=' ', dtype=str)\n",
    "spam_words_stemmed_freqs_list = np.loadtxt('spam_words_stemmed.txt', delimiter=' ', dtype=str)\n",
    "\n",
    "# convert to dictionary\n",
    "ham_words_stemmed_freqs = {}\n",
    "for pair in ham_words_stemmed_freqs_list:\n",
    "    ham_words_stemmed_freqs[pair[0]] = pair[1]\n",
    "\n",
    "spam_words_stemmed_freqs = {}\n",
    "for pair in spam_words_stemmed_freqs_list:\n",
    "    spam_words_stemmed_freqs[pair[0]] = pair[1]   "
   ]
  },
  {
   "cell_type": "code",
   "execution_count": 48,
   "id": "8942f9c7-1ffe-462e-a19c-f2d2c683fdff",
   "metadata": {},
   "outputs": [],
   "source": [
    "''' Method tokenizes, removes punctuation, removes stop words, and stems'''\n",
    "def clean_tweet(message, stemmer=PorterStemmer(), stem=False,\n",
    "                stop_words=set(stopwords.words('english'))):\n",
    "    words = word_tokenize(message.lower())\n",
    "    if stem:\n",
    "        return reduce(lambda a,b: a + [stemmer.stem(b)] if b not in stop_words and b.isalpha() else a, words, [])\n",
    "    else:\n",
    "        return reduce(lambda a,b: a + [b] if b not in stop_words and b.isalpha() else a, words, [])"
   ]
  },
  {
   "cell_type": "markdown",
   "id": "7ba3b7d8-d7e2-4f3d-9a74-8b5c87dfad4a",
   "metadata": {},
   "source": [
    "## Now We Can Make a New Tree That Compares Frequencies\n",
    "### True -> Spam\n",
    "### False -> Ham"
   ]
  },
  {
   "cell_type": "code",
   "execution_count": 49,
   "id": "7534b0ab-9086-4a07-a794-6c81aed7e793",
   "metadata": {},
   "outputs": [
    {
     "name": "stdout",
     "output_type": "stream",
     "text": [
      "['good', 'morn', 'love']\n",
      "num ham 177\n",
      "num spam 91\n"
     ]
    }
   ],
   "source": [
    "''' Testing Dict of Word Frequencies '''\n",
    "\n",
    "sample_tokens = clean_tweet(data.iloc[0].Tweet, stem=True)\n",
    "print(sample_tokens)\n",
    "print('num ham', ham_words_stemmed_freqs['good'])\n",
    "print('num spam', spam_words_stemmed_freqs['good'])"
   ]
  },
  {
   "cell_type": "code",
   "execution_count": 50,
   "id": "a23930ab-b0df-48c3-8039-f5334c140414",
   "metadata": {},
   "outputs": [
    {
     "data": {
      "text/plain": [
       "True"
      ]
     },
     "execution_count": 50,
     "metadata": {},
     "output_type": "execute_result"
    }
   ],
   "source": [
    "''' \n",
    "tree0 - Uses frequency of word appears in spam tweet versus a ham tweet\n",
    "\n",
    "    returns freq spam > freq ham (true = it is a spam tweet)\n",
    "'''\n",
    "\n",
    "def tree0(row):\n",
    "    # tokenize the tweet\n",
    "    tokens = clean_tweet(row.Tweet, stem=True)\n",
    "    \n",
    "    # tally the frequencies of all the words\n",
    "    # sum them together and compare\n",
    "    sum_spam = 0\n",
    "    sum_ham = 0\n",
    "    \n",
    "    for token in tokens:\n",
    "        if token in spam_words_stemmed_freqs:\n",
    "            sum_spam += int(spam_words_stemmed_freqs[token])\n",
    "        if token in ham_words_stemmed_freqs:\n",
    "            sum_ham += int(ham_words_stemmed_freqs[token])\n",
    "    #print(sum_spam)\n",
    "    #print(sum_ham)\n",
    "    \n",
    "    return sum_spam > sum_ham\n",
    "\n",
    "tree6(data.iloc[0])"
   ]
  },
  {
   "cell_type": "markdown",
   "id": "52443111-a1ce-45b6-af09-d891b764acad",
   "metadata": {},
   "source": [
    "## array of Trees (array of functions)"
   ]
  },
  {
   "cell_type": "code",
   "execution_count": 51,
   "id": "58e56fc8-1400-4bc3-99ad-6d4520902e38",
   "metadata": {},
   "outputs": [],
   "source": [
    "# Trees into an array, they all accept a row\n",
    "trees = [tree1, tree2, tree3, tree4, tree5, tree6]"
   ]
  },
  {
   "cell_type": "markdown",
   "id": "00ffe139-5cc7-42f5-91c6-49b8d1104b33",
   "metadata": {},
   "source": [
    "# Random Forest Algorithm"
   ]
  },
  {
   "cell_type": "code",
   "execution_count": 52,
   "id": "9d021257-5715-4d7b-8b7f-5a9a6306df6a",
   "metadata": {},
   "outputs": [],
   "source": [
    "res_df = random_forest(subset_data, trees)"
   ]
  },
  {
   "cell_type": "markdown",
   "id": "3734fa8b-7fb7-4720-823b-0f2cce863360",
   "metadata": {},
   "source": [
    "## Check results against actual data classificaitons"
   ]
  },
  {
   "cell_type": "code",
   "execution_count": 54,
   "id": "678893ad-63a1-4aaa-9a9e-a9f0eec4cbd9",
   "metadata": {},
   "outputs": [
    {
     "name": "stdout",
     "output_type": "stream",
     "text": [
      "num mismatches: 10\n",
      "total samples: 50\n",
      "percent right: 0.8\n"
     ]
    }
   ],
   "source": [
    "mismatches = 0\n",
    "for i in range(res_df.shape[0]):\n",
    "    if res_df.iloc[i].Classification != res_df.iloc[i].Actual:\n",
    "        mismatches += 1\n",
    "        \n",
    "print('num mismatches:', mismatches)\n",
    "print('total samples:', res_df.shape[0])\n",
    "print('percent right:', 1 - mismatches/res_df.shape[0])"
   ]
  },
  {
   "cell_type": "code",
   "execution_count": 55,
   "id": "1a887e22-7ddc-4498-9511-dfed7ad96ad7",
   "metadata": {},
   "outputs": [
    {
     "data": {
      "image/png": "[encoded data removed]",
      "text/plain": [
       "<Figure size 454x454 with 1 Axes>"
      ]
     },
     "metadata": {},
     "output_type": "display_data"
    }
   ],
   "source": [
    "pie_chart(res_df, mismatches)"
   ]
  }
 ],
 "metadata": {
  "kernelspec": {
   "display_name": "Python 3 (ipykernel)",
   "language": "python",
   "name": "python3"
  },
  "language_info": {
   "codemirror_mode": {
    "name": "ipython",
    "version": 3
   },
   "file_extension": ".py",
   "mimetype": "text/x-python",
   "name": "python",
   "nbconvert_exporter": "python",
   "pygments_lexer": "ipython3",
   "version": "3.9.7"
  }
 },
 "nbformat": 4,
 "nbformat_minor": 5
}
