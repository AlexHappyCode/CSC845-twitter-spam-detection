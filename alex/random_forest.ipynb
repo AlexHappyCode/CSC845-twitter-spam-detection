{
 "cells": [
  {
   "cell_type": "markdown",
   "id": "d25bfd1c-94f8-4449-b425-c9b045a85261",
   "metadata": {},
   "source": [
    "# Initialization"
   ]
  },
  {
   "cell_type": "code",
   "execution_count": 1,
   "id": "17e7557d-9d41-438f-8e75-0d3707fb80c3",
   "metadata": {},
   "outputs": [],
   "source": [
    "import pandas as pd\n",
    "import numpy as np\n",
    "import matplotlib.pyplot as plt\n",
    "\n",
    "# nltk packages\n",
    "import nltk\n",
    "from nltk.stem import PorterStemmer\n",
    "from nltk.corpus import stopwords\n",
    "from nltk.tokenize import word_tokenize"
   ]
  },
  {
   "cell_type": "code",
   "execution_count": 2,
   "id": "f3ef02b4-8f08-4ba1-a5b1-7150f31ab90c",
   "metadata": {
    "tags": []
   },
   "outputs": [],
   "source": [
    "TRAIN_PATH = 'UtkMl_dataset/train.csv'\n",
    "TEST_PATH = 'datasets/test.csv'\n",
    "\n",
    "VOCAB_SIZE = 2500"
   ]
  },
  {
   "cell_type": "markdown",
   "id": "5b712a13-0980-448a-8005-98237bae551f",
   "metadata": {},
   "source": [
    "## Read Data\n",
    "\n",
    "INDEX, DOC_ID, WORD_ID, LABEL"
   ]
  },
  {
   "cell_type": "code",
   "execution_count": 3,
   "id": "3350cad1-b9b5-4e16-beeb-e8f63c763712",
   "metadata": {},
   "outputs": [],
   "source": [
    "sparse_train_data = np.loadtxt('trainning_data.txt', delimiter=' ', dtype=str)\n",
    "sparse_test_data = np.loadtxt('test_data.txt', delimiter=' ', dtype=str)\n",
    "\n",
    "'''grouped_data columns: DOC_ID, WORD_ID, LABEL, OCCURENCE indexed from vocab'''\n",
    "grouped_data = np.loadtxt('grouped_data.txt', delimiter=' ', dtype=str)"
   ]
  },
  {
   "cell_type": "code",
   "execution_count": 4,
   "id": "bff83082-ad8c-4c0c-ac96-b41410a596a7",
   "metadata": {},
   "outputs": [
    {
     "data": {
      "text/html": [
       "<div>\n",
       "<style scoped>\n",
       "    .dataframe tbody tr th:only-of-type {\n",
       "        vertical-align: middle;\n",
       "    }\n",
       "\n",
       "    .dataframe tbody tr th {\n",
       "        vertical-align: top;\n",
       "    }\n",
       "\n",
       "    .dataframe thead th {\n",
       "        text-align: right;\n",
       "    }\n",
       "</style>\n",
       "<table border=\"1\" class=\"dataframe\">\n",
       "  <thead>\n",
       "    <tr style=\"text-align: right;\">\n",
       "      <th></th>\n",
       "      <th>Tweet</th>\n",
       "      <th>following</th>\n",
       "      <th>followers</th>\n",
       "      <th>actions</th>\n",
       "      <th>is_retweet</th>\n",
       "      <th>location</th>\n",
       "      <th>Type</th>\n",
       "      <th>Unnamed: 7</th>\n",
       "    </tr>\n",
       "  </thead>\n",
       "  <tbody>\n",
       "    <tr>\n",
       "      <th>0</th>\n",
       "      <td>Good Morning Love  @LeeBrown_V</td>\n",
       "      <td>0.0</td>\n",
       "      <td>0.0</td>\n",
       "      <td>0.0</td>\n",
       "      <td>0.0</td>\n",
       "      <td>Pennsylvania, USA</td>\n",
       "      <td>Quality</td>\n",
       "      <td>NaN</td>\n",
       "    </tr>\n",
       "    <tr>\n",
       "      <th>1</th>\n",
       "      <td>'@realDonaldTrump @USNavy RIP TO HEROES'</td>\n",
       "      <td>42096.0</td>\n",
       "      <td>61060.0</td>\n",
       "      <td>5001.0</td>\n",
       "      <td>0.0</td>\n",
       "      <td>South Padre Island, Texas</td>\n",
       "      <td>Spam</td>\n",
       "      <td>NaN</td>\n",
       "    </tr>\n",
       "    <tr>\n",
       "      <th>2</th>\n",
       "      <td>Haven't been following the news but I understa...</td>\n",
       "      <td>0.0</td>\n",
       "      <td>0.0</td>\n",
       "      <td>NaN</td>\n",
       "      <td>0.0</td>\n",
       "      <td>Will never be broke ever again</td>\n",
       "      <td>Quality</td>\n",
       "      <td>NaN</td>\n",
       "    </tr>\n",
       "    <tr>\n",
       "      <th>3</th>\n",
       "      <td>pic.twitter.com/dy9q4ftLhZ What to do with pap...</td>\n",
       "      <td>0.0</td>\n",
       "      <td>0.0</td>\n",
       "      <td>0.0</td>\n",
       "      <td>0.0</td>\n",
       "      <td>Mundo</td>\n",
       "      <td>Quality</td>\n",
       "      <td>NaN</td>\n",
       "    </tr>\n",
       "    <tr>\n",
       "      <th>4</th>\n",
       "      <td>#DidYouKnow ► Mahatma Gandhi made a brief visi...</td>\n",
       "      <td>17800.0</td>\n",
       "      <td>35100.0</td>\n",
       "      <td>NaN</td>\n",
       "      <td>0.0</td>\n",
       "      <td>Nottingham, England</td>\n",
       "      <td>Quality</td>\n",
       "      <td>NaN</td>\n",
       "    </tr>\n",
       "    <tr>\n",
       "      <th>...</th>\n",
       "      <td>...</td>\n",
       "      <td>...</td>\n",
       "      <td>...</td>\n",
       "      <td>...</td>\n",
       "      <td>...</td>\n",
       "      <td>...</td>\n",
       "      <td>...</td>\n",
       "      <td>...</td>\n",
       "    </tr>\n",
       "    <tr>\n",
       "      <th>14894</th>\n",
       "      <td>#AllWentWrongWhen I told my hair stylist to \"g...</td>\n",
       "      <td>695.0</td>\n",
       "      <td>533.0</td>\n",
       "      <td>868.0</td>\n",
       "      <td>1.0</td>\n",
       "      <td>United States</td>\n",
       "      <td>Spam</td>\n",
       "      <td>NaN</td>\n",
       "    </tr>\n",
       "    <tr>\n",
       "      <th>14895</th>\n",
       "      <td>They don't have to like you, and you don't hav...</td>\n",
       "      <td>0.0</td>\n",
       "      <td>0.0</td>\n",
       "      <td>0.0</td>\n",
       "      <td>0.0</td>\n",
       "      <td>NaN</td>\n",
       "      <td>Quality</td>\n",
       "      <td>NaN</td>\n",
       "    </tr>\n",
       "    <tr>\n",
       "      <th>14896</th>\n",
       "      <td>#Miami Graham Nash Live at Parker Playhouse  #...</td>\n",
       "      <td>5647.0</td>\n",
       "      <td>15091.0</td>\n",
       "      <td>5823.0</td>\n",
       "      <td>0.0</td>\n",
       "      <td>United States</td>\n",
       "      <td>Spam</td>\n",
       "      <td>NaN</td>\n",
       "    </tr>\n",
       "    <tr>\n",
       "      <th>14897</th>\n",
       "      <td>@bethannhamilton is in the business of one-upp...</td>\n",
       "      <td>0.0</td>\n",
       "      <td>0.0</td>\n",
       "      <td>NaN</td>\n",
       "      <td>0.0</td>\n",
       "      <td>Southgate, MI</td>\n",
       "      <td>Quality</td>\n",
       "      <td>NaN</td>\n",
       "    </tr>\n",
       "    <tr>\n",
       "      <th>14898</th>\n",
       "      <td>Chasing Success  by  Space Cadetz  Listen up...</td>\n",
       "      <td>1219.0</td>\n",
       "      <td>957.0</td>\n",
       "      <td>4077.0</td>\n",
       "      <td>1.0</td>\n",
       "      <td>United States</td>\n",
       "      <td>Spam</td>\n",
       "      <td>NaN</td>\n",
       "    </tr>\n",
       "  </tbody>\n",
       "</table>\n",
       "<p>14899 rows × 8 columns</p>\n",
       "</div>"
      ],
      "text/plain": [
       "                                                   Tweet  following  \\\n",
       "0                         Good Morning Love  @LeeBrown_V        0.0   \n",
       "1               '@realDonaldTrump @USNavy RIP TO HEROES'    42096.0   \n",
       "2      Haven't been following the news but I understa...        0.0   \n",
       "3      pic.twitter.com/dy9q4ftLhZ What to do with pap...        0.0   \n",
       "4      #DidYouKnow ► Mahatma Gandhi made a brief visi...    17800.0   \n",
       "...                                                  ...        ...   \n",
       "14894  #AllWentWrongWhen I told my hair stylist to \"g...      695.0   \n",
       "14895  They don't have to like you, and you don't hav...        0.0   \n",
       "14896  #Miami Graham Nash Live at Parker Playhouse  #...     5647.0   \n",
       "14897  @bethannhamilton is in the business of one-upp...        0.0   \n",
       "14898    Chasing Success  by  Space Cadetz  Listen up...     1219.0   \n",
       "\n",
       "       followers  actions  is_retweet                        location  \\\n",
       "0            0.0      0.0         0.0               Pennsylvania, USA   \n",
       "1        61060.0   5001.0         0.0       South Padre Island, Texas   \n",
       "2            0.0      NaN         0.0  Will never be broke ever again   \n",
       "3            0.0      0.0         0.0                           Mundo   \n",
       "4        35100.0      NaN         0.0             Nottingham, England   \n",
       "...          ...      ...         ...                             ...   \n",
       "14894      533.0    868.0         1.0                   United States   \n",
       "14895        0.0      0.0         0.0                             NaN   \n",
       "14896    15091.0   5823.0         0.0                   United States   \n",
       "14897        0.0      NaN         0.0                   Southgate, MI   \n",
       "14898      957.0   4077.0         1.0                   United States   \n",
       "\n",
       "          Type  Unnamed: 7  \n",
       "0      Quality         NaN  \n",
       "1         Spam         NaN  \n",
       "2      Quality         NaN  \n",
       "3      Quality         NaN  \n",
       "4      Quality         NaN  \n",
       "...        ...         ...  \n",
       "14894     Spam         NaN  \n",
       "14895  Quality         NaN  \n",
       "14896     Spam         NaN  \n",
       "14897  Quality         NaN  \n",
       "14898     Spam         NaN  \n",
       "\n",
       "[14899 rows x 8 columns]"
      ]
     },
     "execution_count": 4,
     "metadata": {},
     "output_type": "execute_result"
    }
   ],
   "source": [
    "data = pd.read_csv(TRAIN_PATH)\n",
    "data"
   ]
  },
  {
   "cell_type": "code",
   "execution_count": 5,
   "id": "2f919952-1738-4852-b6e1-cfc84bccb89f",
   "metadata": {},
   "outputs": [
    {
     "data": {
      "text/html": [
       "<div>\n",
       "<style scoped>\n",
       "    .dataframe tbody tr th:only-of-type {\n",
       "        vertical-align: middle;\n",
       "    }\n",
       "\n",
       "    .dataframe tbody tr th {\n",
       "        vertical-align: top;\n",
       "    }\n",
       "\n",
       "    .dataframe thead th {\n",
       "        text-align: right;\n",
       "    }\n",
       "</style>\n",
       "<table border=\"1\" class=\"dataframe\">\n",
       "  <thead>\n",
       "    <tr style=\"text-align: right;\">\n",
       "      <th></th>\n",
       "      <th>WORD_ID</th>\n",
       "      <th>VOCAB_WORD</th>\n",
       "    </tr>\n",
       "  </thead>\n",
       "  <tbody>\n",
       "    <tr>\n",
       "      <th>0</th>\n",
       "      <td>0</td>\n",
       "      <td>http</td>\n",
       "    </tr>\n",
       "    <tr>\n",
       "      <th>1</th>\n",
       "      <td>1</td>\n",
       "      <td>trump</td>\n",
       "    </tr>\n",
       "    <tr>\n",
       "      <th>2</th>\n",
       "      <td>2</td>\n",
       "      <td>news</td>\n",
       "    </tr>\n",
       "    <tr>\n",
       "      <th>3</th>\n",
       "      <td>3</td>\n",
       "      <td>get</td>\n",
       "    </tr>\n",
       "    <tr>\n",
       "      <th>4</th>\n",
       "      <td>4</td>\n",
       "      <td>new</td>\n",
       "    </tr>\n",
       "    <tr>\n",
       "      <th>...</th>\n",
       "      <td>...</td>\n",
       "      <td>...</td>\n",
       "    </tr>\n",
       "    <tr>\n",
       "      <th>2495</th>\n",
       "      <td>2495</td>\n",
       "      <td>moto</td>\n",
       "    </tr>\n",
       "    <tr>\n",
       "      <th>2496</th>\n",
       "      <td>2496</td>\n",
       "      <td>yell</td>\n",
       "    </tr>\n",
       "    <tr>\n",
       "      <th>2497</th>\n",
       "      <td>2497</td>\n",
       "      <td>butter</td>\n",
       "    </tr>\n",
       "    <tr>\n",
       "      <th>2498</th>\n",
       "      <td>2498</td>\n",
       "      <td>lack</td>\n",
       "    </tr>\n",
       "    <tr>\n",
       "      <th>2499</th>\n",
       "      <td>2499</td>\n",
       "      <td>preciou</td>\n",
       "    </tr>\n",
       "  </tbody>\n",
       "</table>\n",
       "<p>2500 rows × 2 columns</p>\n",
       "</div>"
      ],
      "text/plain": [
       "      WORD_ID VOCAB_WORD\n",
       "0           0       http\n",
       "1           1      trump\n",
       "2           2       news\n",
       "3           3        get\n",
       "4           4        new\n",
       "...       ...        ...\n",
       "2495     2495       moto\n",
       "2496     2496       yell\n",
       "2497     2497     butter\n",
       "2498     2498       lack\n",
       "2499     2499    preciou\n",
       "\n",
       "[2500 rows x 2 columns]"
      ]
     },
     "execution_count": 5,
     "metadata": {},
     "output_type": "execute_result"
    }
   ],
   "source": [
    "vocab = pd.read_csv('vocab.csv')\n",
    "vocab"
   ]
  },
  {
   "cell_type": "markdown",
   "id": "a3789215-bb25-4f42-8300-36ed03b1f9b5",
   "metadata": {},
   "source": [
    "## Functions for decisions"
   ]
  },
  {
   "cell_type": "code",
   "execution_count": 6,
   "id": "f27ad756-dfc8-4de4-867e-14c5b85bddae",
   "metadata": {},
   "outputs": [],
   "source": [
    "# Function that checks against followers vs followees\n",
    "\n",
    "# Returns true if following zero people\n",
    "\n",
    "# Returns the ratio of followers to following\n",
    "def _percent_followers_following(row):\n",
    "    return row.followers / row.following\n",
    "    \n",
    "# big enough ratio to satisfy min_percent\n",
    "def min_percent_followers(row, min_percent=.7):\n",
    "    if row.following == 0: return True\n",
    "    return _percent_followers_following(row) > min_percent\n",
    "\n",
    "# Enough followers\n",
    "def enough_followers(row, minimum_followers=10):\n",
    "    return row.followers > minimum_followers\n",
    "\n",
    "# is retweet\n",
    "def is_retweet(row)-> bool:\n",
    "    return True if row.is_retweet else False\n",
    "    "
   ]
  },
  {
   "cell_type": "markdown",
   "id": "e46f3e42-b3ce-4568-96e2-185c408336b3",
   "metadata": {
    "tags": []
   },
   "source": [
    "## Creating a decision trees (without using spam words as a feature)"
   ]
  },
  {
   "cell_type": "code",
   "execution_count": 7,
   "id": "6e256be4-7cee-4317-8644-8aa82f7d097a",
   "metadata": {},
   "outputs": [],
   "source": [
    "''' \n",
    "Decision Tree -- 1\n",
    "\n",
    "returns whether true (spam) or false (not spam)\n",
    "\n",
    "Structure:\n",
    "\n",
    "1. Enough Followers\n",
    "2. Minimum Percent Followers\n",
    "\n",
    "''' \n",
    "\n",
    "# Testing tree one\n",
    "def tree1(row):\n",
    "    \n",
    "    # First check if enough followers\n",
    "    if(not enough_followers(row)):\n",
    "        return False\n",
    "    \n",
    "    if(not min_percent_followers(row)):\n",
    "        return False\n",
    "    \n",
    "    return True\n",
    "    \n",
    "    # Then check if Ratio of followers to following is high enough"
   ]
  },
  {
   "cell_type": "code",
   "execution_count": 8,
   "id": "a440c5f3-7e63-4ce1-be57-a966de315cfa",
   "metadata": {},
   "outputs": [],
   "source": [
    "''' \n",
    "Decision Tree -- 2\n",
    "\n",
    "returns whether true (spam) or false (not spam)\n",
    "\n",
    "Structure:\n",
    "\n",
    "1. Minimum Percent Followers\n",
    "2. Enough Followers\n",
    "\n",
    "''' \n",
    "def tree2(row):\n",
    "     \n",
    "    # First check if enough followers\n",
    "    if(not enough_followers(row)):\n",
    "        return False\n",
    "    \n",
    "    if(not min_percent_followers(row)):\n",
    "        return False\n",
    "    \n",
    "    return True   "
   ]
  },
  {
   "cell_type": "code",
   "execution_count": 9,
   "id": "64e68277-f5ef-47ab-9503-abcb7ee19014",
   "metadata": {},
   "outputs": [],
   "source": [
    "''' \n",
    "Decision Tree -- 3\n",
    "\n",
    "returns whether true (spam) or false (not spam)\n",
    "\n",
    "Structure:\n",
    "\n",
    "     enough_followers\n",
    "    /            \\\n",
    "is_retweet    is_retweet\n",
    "\n",
    "''' \n",
    "def tree3(row):\n",
    "     \n",
    "    if min_percent_followers(row):\n",
    "        return True if is_retweet(row) else False\n",
    "    \n",
    "    else:\n",
    "        return True if is_retweet(row) else False\n"
   ]
  },
  {
   "cell_type": "code",
   "execution_count": 10,
   "id": "93e57e93-7a12-4fe7-9fef-fa28a9b5d6e0",
   "metadata": {},
   "outputs": [],
   "source": [
    "''' \n",
    "Decision Tree -- 4\n",
    "\n",
    "returns whether true (spam) or false (not spam)\n",
    "\n",
    "Structure:\n",
    "\n",
    "           is_retweet\n",
    "           /         \\\n",
    " Enough_Followers  Enough_Followers\n",
    "''' \n",
    "\n",
    "def tree4(row):\n",
    "    # First check if enough followers\n",
    "    if is_retweet(row):\n",
    "        return True if enough_followers(row) else False\n",
    "    else: # not enough follower\n",
    "        return True if enough_followers(row) else False\n",
    "        "
   ]
  },
  {
   "cell_type": "code",
   "execution_count": 11,
   "id": "de271583-8dff-44ee-9205-4db4fd925660",
   "metadata": {},
   "outputs": [],
   "source": [
    "''' \n",
    "Decision Tree -- 5\n",
    "\n",
    "returns whether true (spam) or false (not spam)\n",
    "\n",
    "Structure:\n",
    "\n",
    "           is_retweet\n",
    "           /         \\\n",
    " Enough_Followers  minimum_percent_followers\n",
    "''' \n",
    "\n",
    "def tree5(row):\n",
    "    # First check if enough followers\n",
    "    if is_retweet(row):\n",
    "        return True if enough_followers(row) else False\n",
    "    else: # not enough follower\n",
    "        return True if min_percent_followers(row) else False\n",
    "        "
   ]
  },
  {
   "cell_type": "markdown",
   "id": "99728955-c3e5-4706-9df5-622b2d4b0642",
   "metadata": {},
   "source": [
    "## Running our random forest to create a dataframe with results"
   ]
  },
  {
   "cell_type": "code",
   "execution_count": 12,
   "id": "1837e111-a975-42cf-a12b-b5dcb0754374",
   "metadata": {},
   "outputs": [],
   "source": [
    "''' Creating dataframe '''\n",
    "\n",
    "columns = ['Tweet', 'Spam Count','Ham Count', 'Classification', 'Actual']\n",
    "res_df = pd.DataFrame(columns=columns)\n",
    "trees = [tree1, tree2, tree3, tree4, tree5]\n",
    "\n",
    "ham_count = 0\n",
    "spam_count = 0\n",
    "res = []\n",
    "\n",
    "# Indices\n",
    "rowIdx = 0\n",
    "spamIdx = 1\n",
    "hamIdx = 2\n",
    "classificationIdx = 3\n",
    "\n",
    "for i, sample in enumerate(range(data.shape[0])):\n",
    "    # [tweetId, spam, ham, Final Classification]\n",
    "    sample_results = [data.iloc[i][0], 0, 0, \"Uninitialized\"]\n",
    "    \n",
    "    for tree in trees:\n",
    "        if tree(data.iloc[sample]):\n",
    "            sample_results[spamIdx] += 1  # spam++\n",
    "        else:\n",
    "            sample_results[hamIdx] += 1 # ham++\n",
    "    \n",
    "    # Final Classification\n",
    "    if sample_results[spamIdx] > sample_results[hamIdx]:\n",
    "        sample_results[classificationIdx] = 'Spam'\n",
    "    else:\n",
    "        sample_results[classificationIdx] = 'Ham'\n",
    "    \n",
    "    # appending sample results to dataframe\n",
    "    sample_results.append('Spam' if data.iloc[i].Type == 'Spam' else 'Ham')\n",
    "    \n",
    "    # add to dataframe\n",
    "    res_df.loc[len(res_df)] = sample_results"
   ]
  },
  {
   "cell_type": "markdown",
   "id": "f7340d7a-79dc-4a3b-a54b-89b98b31303b",
   "metadata": {},
   "source": [
    "## Check results against actual data classificaitons"
   ]
  },
  {
   "cell_type": "code",
   "execution_count": 13,
   "id": "a028e223-0b08-4022-b3e4-9380ec431922",
   "metadata": {},
   "outputs": [
    {
     "name": "stdout",
     "output_type": "stream",
     "text": [
      "num mismatches: 3228\n",
      "total samples: 14899\n",
      "percent right: 0.7833411638364991\n"
     ]
    }
   ],
   "source": [
    "mismatches = 0\n",
    "for i in range(res_df.shape[0]):\n",
    "    if res_df.iloc[i].Classification != res_df.iloc[i].Actual:\n",
    "        mismatches += 1\n",
    "        \n",
    "print('num mismatches:', mismatches)\n",
    "print('total samples:', res_df.shape[0])\n",
    "print('percent right:', 1 - mismatches/res_df.shape[0])"
   ]
  },
  {
   "cell_type": "code",
   "execution_count": 14,
   "id": "0f520b1b-79db-426a-8451-0e8807bbbacb",
   "metadata": {},
   "outputs": [
    {
     "data": {
      "image/png": "[encoded data removed]",
      "text/plain": [
       "<Figure size 454x454 with 1 Axes>"
      ]
     },
     "metadata": {},
     "output_type": "display_data"
    }
   ],
   "source": [
    "# Creating Pie Chart\n",
    "category_names = ['Mismatches', 'Correct']\n",
    "sizes = [mismatches, res_df.shape[0] - mismatches]\n",
    "custom_colors = ['#74b9ff','#ff7675']\n",
    "\n",
    "plt.figure(figsize=(2, 2), dpi=227)\n",
    "wedges, labels, percents = plt.pie(sizes, labels=category_names, textprops={'fontsize': 10}, \n",
    "                                   startangle=40, autopct='%1.1f%%', colors=custom_colors, \n",
    "                                    explode=[0, 0.03])\n",
    "\n",
    "# label colors\n",
    "labels[0].set_color('lightblue')\n",
    "labels[1].set_color('pink')\n",
    "    \n",
    "# display pie chart\n",
    "plt.show()"
   ]
  },
  {
   "cell_type": "markdown",
   "id": "4c252508-e59e-443b-8354-43d4c206ea5d",
   "metadata": {},
   "source": [
    "# Let's Build Better Trees by using subsets of dataset!"
   ]
  },
  {
   "cell_type": "code",
   "execution_count": 15,
   "id": "0a848771-e164-4032-889e-d47198e54c72",
   "metadata": {},
   "outputs": [
    {
     "name": "stdout",
     "output_type": "stream",
     "text": [
      "<class 'pandas.core.frame.DataFrame'>\n"
     ]
    },
    {
     "data": {
      "text/html": [
       "<div>\n",
       "<style scoped>\n",
       "    .dataframe tbody tr th:only-of-type {\n",
       "        vertical-align: middle;\n",
       "    }\n",
       "\n",
       "    .dataframe tbody tr th {\n",
       "        vertical-align: top;\n",
       "    }\n",
       "\n",
       "    .dataframe thead th {\n",
       "        text-align: right;\n",
       "    }\n",
       "</style>\n",
       "<table border=\"1\" class=\"dataframe\">\n",
       "  <thead>\n",
       "    <tr style=\"text-align: right;\">\n",
       "      <th></th>\n",
       "      <th>Tweet</th>\n",
       "      <th>following</th>\n",
       "      <th>followers</th>\n",
       "      <th>actions</th>\n",
       "      <th>is_retweet</th>\n",
       "      <th>location</th>\n",
       "      <th>Type</th>\n",
       "      <th>Unnamed: 7</th>\n",
       "    </tr>\n",
       "  </thead>\n",
       "  <tbody>\n",
       "    <tr>\n",
       "      <th>38</th>\n",
       "      <td>From Prisoner to Professor: Felon to Teach at ...</td>\n",
       "      <td>13879.0</td>\n",
       "      <td>32145.0</td>\n",
       "      <td>31719.0</td>\n",
       "      <td>0.0</td>\n",
       "      <td>160511</td>\n",
       "      <td>Spam</td>\n",
       "      <td>NaN</td>\n",
       "    </tr>\n",
       "    <tr>\n",
       "      <th>6309</th>\n",
       "      <td>Do you ever watch someones snap for the full 1...</td>\n",
       "      <td>0.0</td>\n",
       "      <td>0.0</td>\n",
       "      <td>13.0</td>\n",
       "      <td>0.0</td>\n",
       "      <td>First tweet: 10th March 2015</td>\n",
       "      <td>Quality</td>\n",
       "      <td>NaN</td>\n",
       "    </tr>\n",
       "    <tr>\n",
       "      <th>6579</th>\n",
       "      <td>Happy birthday dude!! @garrett_north81</td>\n",
       "      <td>0.0</td>\n",
       "      <td>0.0</td>\n",
       "      <td>NaN</td>\n",
       "      <td>0.0</td>\n",
       "      <td>Columbus, OH</td>\n",
       "      <td>Quality</td>\n",
       "      <td>NaN</td>\n",
       "    </tr>\n",
       "    <tr>\n",
       "      <th>13374</th>\n",
       "      <td>Movie bonding and 6 Pancit Cantons with Papa, ...</td>\n",
       "      <td>0.0</td>\n",
       "      <td>0.0</td>\n",
       "      <td>0.0</td>\n",
       "      <td>0.0</td>\n",
       "      <td>Manila, Philippines</td>\n",
       "      <td>Quality</td>\n",
       "      <td>NaN</td>\n",
       "    </tr>\n",
       "  </tbody>\n",
       "</table>\n",
       "</div>"
      ],
      "text/plain": [
       "                                                   Tweet  following  \\\n",
       "38     From Prisoner to Professor: Felon to Teach at ...    13879.0   \n",
       "6309   Do you ever watch someones snap for the full 1...        0.0   \n",
       "6579              Happy birthday dude!! @garrett_north81        0.0   \n",
       "13374  Movie bonding and 6 Pancit Cantons with Papa, ...        0.0   \n",
       "\n",
       "       followers  actions  is_retweet                      location     Type  \\\n",
       "38       32145.0  31719.0         0.0                        160511     Spam   \n",
       "6309         0.0     13.0         0.0  First tweet: 10th March 2015  Quality   \n",
       "6579         0.0      NaN         0.0                  Columbus, OH  Quality   \n",
       "13374        0.0      0.0         0.0           Manila, Philippines  Quality   \n",
       "\n",
       "       Unnamed: 7  \n",
       "38            NaN  \n",
       "6309          NaN  \n",
       "6579          NaN  \n",
       "13374         NaN  "
      ]
     },
     "execution_count": 15,
     "metadata": {},
     "output_type": "execute_result"
    }
   ],
   "source": [
    "four_samples = data.sample(4)\n",
    "\n",
    "print(type(four_samples))\n",
    "four_samples"
   ]
  },
  {
   "cell_type": "markdown",
   "id": "e35cc3a8-c1ac-4779-91f7-fcb099dc7afc",
   "metadata": {},
   "source": [
    "### Can we get the number of times a word appears in spam tweet?\n",
    "\n",
    "then we can decide if the tweet is spam if more words are spam rather than not spam"
   ]
  },
  {
   "cell_type": "markdown",
   "id": "352f2194-78e0-44f3-a856-c4f795e54644",
   "metadata": {},
   "source": [
    "Can we get the spam count of a word versus the ham count?"
   ]
  },
  {
   "cell_type": "code",
   "execution_count": 16,
   "id": "95bf461b-f8ab-4e1f-9b8f-64a7c98759d5",
   "metadata": {},
   "outputs": [
    {
     "data": {
      "text/plain": [
       "38"
      ]
     },
     "execution_count": 16,
     "metadata": {},
     "output_type": "execute_result"
    }
   ],
   "source": [
    "four_samples.index[0]"
   ]
  },
  {
   "cell_type": "code",
   "execution_count": 17,
   "id": "aca776c4-5de1-43dc-997e-c05f356e24c5",
   "metadata": {},
   "outputs": [
    {
     "data": {
      "text/plain": [
       "'From Prisoner to Professor: Felon to Teach at Georgetown Law https://t.co/Nth698CUPt https://t.co/x2zIZmPumn'"
      ]
     },
     "execution_count": 17,
     "metadata": {},
     "output_type": "execute_result"
    }
   ],
   "source": [
    "four_samples.iloc[0].Tweet"
   ]
  },
  {
   "cell_type": "code",
   "execution_count": 18,
   "id": "b3c84b71-584c-49c6-a2cd-92bfc66db7b0",
   "metadata": {},
   "outputs": [
    {
     "data": {
      "text/html": [
       "<div>\n",
       "<style scoped>\n",
       "    .dataframe tbody tr th:only-of-type {\n",
       "        vertical-align: middle;\n",
       "    }\n",
       "\n",
       "    .dataframe tbody tr th {\n",
       "        vertical-align: top;\n",
       "    }\n",
       "\n",
       "    .dataframe thead th {\n",
       "        text-align: right;\n",
       "    }\n",
       "</style>\n",
       "<table border=\"1\" class=\"dataframe\">\n",
       "  <thead>\n",
       "    <tr style=\"text-align: right;\">\n",
       "      <th></th>\n",
       "      <th>VOCAB_WORD</th>\n",
       "    </tr>\n",
       "    <tr>\n",
       "      <th>WORD_ID</th>\n",
       "      <th></th>\n",
       "    </tr>\n",
       "  </thead>\n",
       "  <tbody>\n",
       "    <tr>\n",
       "      <th>0</th>\n",
       "      <td>http</td>\n",
       "    </tr>\n",
       "    <tr>\n",
       "      <th>1</th>\n",
       "      <td>trump</td>\n",
       "    </tr>\n",
       "    <tr>\n",
       "      <th>2</th>\n",
       "      <td>news</td>\n",
       "    </tr>\n",
       "    <tr>\n",
       "      <th>3</th>\n",
       "      <td>get</td>\n",
       "    </tr>\n",
       "    <tr>\n",
       "      <th>4</th>\n",
       "      <td>new</td>\n",
       "    </tr>\n",
       "    <tr>\n",
       "      <th>...</th>\n",
       "      <td>...</td>\n",
       "    </tr>\n",
       "    <tr>\n",
       "      <th>2495</th>\n",
       "      <td>moto</td>\n",
       "    </tr>\n",
       "    <tr>\n",
       "      <th>2496</th>\n",
       "      <td>yell</td>\n",
       "    </tr>\n",
       "    <tr>\n",
       "      <th>2497</th>\n",
       "      <td>butter</td>\n",
       "    </tr>\n",
       "    <tr>\n",
       "      <th>2498</th>\n",
       "      <td>lack</td>\n",
       "    </tr>\n",
       "    <tr>\n",
       "      <th>2499</th>\n",
       "      <td>preciou</td>\n",
       "    </tr>\n",
       "  </tbody>\n",
       "</table>\n",
       "<p>2500 rows × 1 columns</p>\n",
       "</div>"
      ],
      "text/plain": [
       "        VOCAB_WORD\n",
       "WORD_ID           \n",
       "0             http\n",
       "1            trump\n",
       "2             news\n",
       "3              get\n",
       "4              new\n",
       "...            ...\n",
       "2495          moto\n",
       "2496          yell\n",
       "2497        butter\n",
       "2498          lack\n",
       "2499       preciou\n",
       "\n",
       "[2500 rows x 1 columns]"
      ]
     },
     "execution_count": 18,
     "metadata": {},
     "output_type": "execute_result"
    }
   ],
   "source": [
    "vocab = vocab.set_index('WORD_ID')\n",
    "vocab"
   ]
  },
  {
   "cell_type": "code",
   "execution_count": 19,
   "id": "277b4d29-93ca-4217-b026-acb9142d6d30",
   "metadata": {},
   "outputs": [
    {
     "data": {
      "text/plain": [
       "'From Prisoner to Professor: Felon to Teach at Georgetown Law https://t.co/Nth698CUPt https://t.co/x2zIZmPumn'"
      ]
     },
     "execution_count": 19,
     "metadata": {},
     "output_type": "execute_result"
    }
   ],
   "source": [
    "four_samples.iloc[0].Tweet"
   ]
  },
  {
   "cell_type": "code",
   "execution_count": 27,
   "id": "5eb398e1-3737-4654-bdd8-48751fea282b",
   "metadata": {},
   "outputs": [],
   "source": [
    "''' this is just to get the words from the sparse matrix by tweet_id '''\n",
    "\n",
    "def get_sparse_rows(grouped_data, idx):\n",
    "    res = []\n",
    "    for row in grouped_data:\n",
    "        if row[0] == str(idx):\n",
    "            res.append([row])\n",
    "            res[-1].append(vocab.iloc[int(row[1])][0])\n",
    "    return res"
   ]
  },
  {
   "cell_type": "code",
   "execution_count": 30,
   "id": "6fcfa006-f083-4958-9edd-c3f022839783",
   "metadata": {},
   "outputs": [
    {
     "data": {
      "text/plain": [
       "[[array(['38', '0', 'Spam', '2'], dtype='<U7'), 'http'],\n",
       " [array(['38', '215', 'Spam', '1'], dtype='<U7'), 'law'],\n",
       " [array(['38', '509', 'Spam', '1'], dtype='<U7'), 'prison'],\n",
       " [array(['38', '763', 'Spam', '1'], dtype='<U7'), 'teach'],\n",
       " [array(['38', '1715', 'Spam', '1'], dtype='<U7'), 'professor']]"
      ]
     },
     "execution_count": 30,
     "metadata": {},
     "output_type": "execute_result"
    }
   ],
   "source": [
    "get_sparse_rows(grouped_data, four_samples.index[0])"
   ]
  },
  {
   "cell_type": "markdown",
   "id": "5ab11654-bd1f-4ace-9dde-4709501e33b8",
   "metadata": {},
   "source": [
    "## Loading text and converting to dictionary"
   ]
  },
  {
   "cell_type": "code",
   "execution_count": 52,
   "id": "d5d25356-2272-427e-adf2-a93a3764efd9",
   "metadata": {},
   "outputs": [],
   "source": [
    "ham_words_stemmed_freqs_list = np.loadtxt('ham_words_stemmed.txt', delimiter=' ', dtype=str)\n",
    "spam_words_stemmed_freqs_list = np.loadtxt('spam_words_stemmed.txt', delimiter=' ', dtype=str)\n",
    "\n",
    "# convert to dictionary\n",
    "ham_words_stemmed_freqs = {}\n",
    "for pair in ham_words_stemmed_freqs_list:\n",
    "    ham_words_stemmed_freqs[pair[0]] = pair[1]\n",
    "\n",
    "spam_words_stemmed_freqs = {}\n",
    "for pair in spam_words_stemmed_freqs_list:\n",
    "    spam_words_stemmed_freqs[pair[0]] = pair[1]   "
   ]
  },
  {
   "cell_type": "code",
   "execution_count": null,
   "id": "8942f9c7-1ffe-462e-a19c-f2d2c683fdff",
   "metadata": {},
   "outputs": [],
   "source": [
    "''' Method tokenizes, removes punctuation, removes stop words, and stems'''\n",
    "def clean_tweet(message, stemmer=PorterStemmer(), stem=False,\n",
    "                stop_words=set(stopwords.words('english'))):\n",
    "    words = word_tokenize(message.lower())\n",
    "    if stem:\n",
    "        return reduce(lambda a,b: a + [stemmer.stem(b)] if b not in stop_words and b.isalpha() else a, words, [])\n",
    "    else:\n",
    "        return reduce(lambda a,b: a + [b] if b not in stop_words and b.isalpha() else a, words, [])"
   ]
  },
  {
   "cell_type": "markdown",
   "id": "7ba3b7d8-d7e2-4f3d-9a74-8b5c87dfad4a",
   "metadata": {},
   "source": [
    "### how many times does the word appear in spam tweets?"
   ]
  },
  {
   "cell_type": "code",
   "execution_count": 53,
   "id": "a23930ab-b0df-48c3-8039-f5334c140414",
   "metadata": {},
   "outputs": [
    {
     "ename": "NameError",
     "evalue": "name 'clean_tweet' is not defined",
     "output_type": "error",
     "traceback": [
      "\u001b[0;31m---------------------------------------------------------------------------\u001b[0m",
      "\u001b[0;31mNameError\u001b[0m                                 Traceback (most recent call last)",
      "\u001b[0;32m/tmp/ipykernel_5751/1919923354.py\u001b[0m in \u001b[0;36m<module>\u001b[0;34m\u001b[0m\n\u001b[1;32m      1\u001b[0m \u001b[0;34m''' get number of times a word appears in a spam tweet '''\u001b[0m\u001b[0;34m\u001b[0m\u001b[0;34m\u001b[0m\u001b[0m\n\u001b[0;32m----> 2\u001b[0;31m \u001b[0mclean_tweet\u001b[0m\u001b[0;34m(\u001b[0m\u001b[0mdata\u001b[0m\u001b[0;34m.\u001b[0m\u001b[0miloc\u001b[0m\u001b[0;34m[\u001b[0m\u001b[0;36m0\u001b[0m\u001b[0;34m]\u001b[0m\u001b[0;34m)\u001b[0m\u001b[0;34m\u001b[0m\u001b[0;34m\u001b[0m\u001b[0m\n\u001b[0m",
      "\u001b[0;31mNameError\u001b[0m: name 'clean_tweet' is not defined"
     ]
    }
   ],
   "source": [
    "''' get number of times a word appears in a spam tweet '''\n",
    "clean_tweet(data.iloc[0])"
   ]
  }
 ],
 "metadata": {
  "kernelspec": {
   "display_name": "Python 3 (ipykernel)",
   "language": "python",
   "name": "python3"
  },
  "language_info": {
   "codemirror_mode": {
    "name": "ipython",
    "version": 3
   },
   "file_extension": ".py",
   "mimetype": "text/x-python",
   "name": "python",
   "nbconvert_exporter": "python",
   "pygments_lexer": "ipython3",
   "version": "3.9.7"
  }
 },
 "nbformat": 4,
 "nbformat_minor": 5
}
