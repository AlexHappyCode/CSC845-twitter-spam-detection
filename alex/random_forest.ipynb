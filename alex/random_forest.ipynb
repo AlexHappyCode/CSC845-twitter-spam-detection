{
 "cells": [
  {
   "cell_type": "markdown",
   "id": "d25bfd1c-94f8-4449-b425-c9b045a85261",
   "metadata": {},
   "source": [
    "# Initialization"
   ]
  },
  {
   "cell_type": "code",
   "execution_count": 2,
   "id": "17e7557d-9d41-438f-8e75-0d3707fb80c3",
   "metadata": {},
   "outputs": [],
   "source": [
    "import pandas as pd\n",
    "import numpy as np"
   ]
  },
  {
   "cell_type": "markdown",
   "id": "5b712a13-0980-448a-8005-98237bae551f",
   "metadata": {},
   "source": [
    "## Read Data"
   ]
  },
  {
   "cell_type": "code",
   "execution_count": 3,
   "id": "3350cad1-b9b5-4e16-beeb-e8f63c763712",
   "metadata": {},
   "outputs": [],
   "source": [
    "sparse_train_data = np.loadtxt('trainning_data.txt', delimiter=' ', dtype=str)\n",
    "sparse_test_data = np.loadtxt('test_data.txt', delimiter=' ', dtype=str)"
   ]
  },
  {
   "cell_type": "code",
   "execution_count": 4,
   "id": "9a220b93-4706-495c-92f5-e169fab47b03",
   "metadata": {},
   "outputs": [
    {
     "data": {
      "text/plain": [
       "array([['0', '7', 'Quality', '1'],\n",
       "       ['0', '21', 'Quality', '1'],\n",
       "       ['0', '141', 'Quality', '1'],\n",
       "       ...,\n",
       "       ['14892', '1082', 'Quality', '1'],\n",
       "       ['14897', '21', 'Quality', '1'],\n",
       "       ['14897', '103', 'Quality', '1']], dtype='<U7')"
      ]
     },
     "execution_count": 4,
     "metadata": {},
     "output_type": "execute_result"
    }
   ],
   "source": [
    "sparse_test_data"
   ]
  },
  {
   "cell_type": "markdown",
   "id": "84e2fcf3-0a3f-4195-9a9b-e3f48d4e067a",
   "metadata": {},
   "source": [
    "# Creating a Decision Tree"
   ]
  },
  {
   "cell_type": "markdown",
   "id": "e603e543-459e-42b0-9531-d169af522511",
   "metadata": {},
   "source": [
    "## For practice get 4 rows from train data"
   ]
  },
  {
   "cell_type": "code",
   "execution_count": 20,
   "id": "0a848771-e164-4032-889e-d47198e54c72",
   "metadata": {},
   "outputs": [
    {
     "data": {
      "text/html": [
       "<div>\n",
       "<style scoped>\n",
       "    .dataframe tbody tr th:only-of-type {\n",
       "        vertical-align: middle;\n",
       "    }\n",
       "\n",
       "    .dataframe tbody tr th {\n",
       "        vertical-align: top;\n",
       "    }\n",
       "\n",
       "    .dataframe thead th {\n",
       "        text-align: right;\n",
       "    }\n",
       "</style>\n",
       "<table border=\"1\" class=\"dataframe\">\n",
       "  <thead>\n",
       "    <tr style=\"text-align: right;\">\n",
       "      <th></th>\n",
       "      <th>CATEGORY</th>\n",
       "      <th>0</th>\n",
       "      <th>1</th>\n",
       "      <th>2</th>\n",
       "      <th>3</th>\n",
       "      <th>4</th>\n",
       "      <th>5</th>\n",
       "      <th>6</th>\n",
       "      <th>7</th>\n",
       "      <th>8</th>\n",
       "      <th>...</th>\n",
       "      <th>2490</th>\n",
       "      <th>2491</th>\n",
       "      <th>2492</th>\n",
       "      <th>2493</th>\n",
       "      <th>2494</th>\n",
       "      <th>2495</th>\n",
       "      <th>2496</th>\n",
       "      <th>2497</th>\n",
       "      <th>2498</th>\n",
       "      <th>2499</th>\n",
       "    </tr>\n",
       "  </thead>\n",
       "  <tbody>\n",
       "    <tr>\n",
       "      <th>5774</th>\n",
       "      <td>Quality</td>\n",
       "      <td>0</td>\n",
       "      <td>0</td>\n",
       "      <td>0</td>\n",
       "      <td>0</td>\n",
       "      <td>0</td>\n",
       "      <td>0</td>\n",
       "      <td>0</td>\n",
       "      <td>0</td>\n",
       "      <td>0</td>\n",
       "      <td>...</td>\n",
       "      <td>0</td>\n",
       "      <td>0</td>\n",
       "      <td>0</td>\n",
       "      <td>0</td>\n",
       "      <td>0</td>\n",
       "      <td>0</td>\n",
       "      <td>0</td>\n",
       "      <td>0</td>\n",
       "      <td>0</td>\n",
       "      <td>0</td>\n",
       "    </tr>\n",
       "    <tr>\n",
       "      <th>5016</th>\n",
       "      <td>Quality</td>\n",
       "      <td>0</td>\n",
       "      <td>0</td>\n",
       "      <td>0</td>\n",
       "      <td>0</td>\n",
       "      <td>0</td>\n",
       "      <td>0</td>\n",
       "      <td>0</td>\n",
       "      <td>0</td>\n",
       "      <td>0</td>\n",
       "      <td>...</td>\n",
       "      <td>0</td>\n",
       "      <td>0</td>\n",
       "      <td>0</td>\n",
       "      <td>0</td>\n",
       "      <td>0</td>\n",
       "      <td>0</td>\n",
       "      <td>0</td>\n",
       "      <td>0</td>\n",
       "      <td>0</td>\n",
       "      <td>0</td>\n",
       "    </tr>\n",
       "    <tr>\n",
       "      <th>1605</th>\n",
       "      <td>Spam</td>\n",
       "      <td>1</td>\n",
       "      <td>0</td>\n",
       "      <td>0</td>\n",
       "      <td>0</td>\n",
       "      <td>1</td>\n",
       "      <td>1</td>\n",
       "      <td>0</td>\n",
       "      <td>0</td>\n",
       "      <td>0</td>\n",
       "      <td>...</td>\n",
       "      <td>0</td>\n",
       "      <td>0</td>\n",
       "      <td>0</td>\n",
       "      <td>0</td>\n",
       "      <td>0</td>\n",
       "      <td>0</td>\n",
       "      <td>0</td>\n",
       "      <td>0</td>\n",
       "      <td>0</td>\n",
       "      <td>0</td>\n",
       "    </tr>\n",
       "    <tr>\n",
       "      <th>5328</th>\n",
       "      <td>Quality</td>\n",
       "      <td>1</td>\n",
       "      <td>0</td>\n",
       "      <td>0</td>\n",
       "      <td>0</td>\n",
       "      <td>0</td>\n",
       "      <td>0</td>\n",
       "      <td>0</td>\n",
       "      <td>0</td>\n",
       "      <td>0</td>\n",
       "      <td>...</td>\n",
       "      <td>0</td>\n",
       "      <td>0</td>\n",
       "      <td>0</td>\n",
       "      <td>0</td>\n",
       "      <td>0</td>\n",
       "      <td>0</td>\n",
       "      <td>0</td>\n",
       "      <td>0</td>\n",
       "      <td>0</td>\n",
       "      <td>0</td>\n",
       "    </tr>\n",
       "  </tbody>\n",
       "</table>\n",
       "<p>4 rows × 2501 columns</p>\n",
       "</div>"
      ],
      "text/plain": [
       "     CATEGORY  0  1  2  3  4  5  6  7  8  ...  2490  2491  2492  2493  2494  \\\n",
       "5774  Quality  0  0  0  0  0  0  0  0  0  ...     0     0     0     0     0   \n",
       "5016  Quality  0  0  0  0  0  0  0  0  0  ...     0     0     0     0     0   \n",
       "1605     Spam  1  0  0  0  1  1  0  0  0  ...     0     0     0     0     0   \n",
       "5328  Quality  1  0  0  0  0  0  0  0  0  ...     0     0     0     0     0   \n",
       "\n",
       "      2495  2496  2497  2498  2499  \n",
       "5774     0     0     0     0     0  \n",
       "5016     0     0     0     0     0  \n",
       "1605     0     0     0     0     0  \n",
       "5328     0     0     0     0     0  \n",
       "\n",
       "[4 rows x 2501 columns]"
      ]
     },
     "execution_count": 20,
     "metadata": {},
     "output_type": "execute_result"
    }
   ],
   "source": [
    "four_samples = full_train_data.sample(4)\n",
    "four_samples"
   ]
  },
  {
   "cell_type": "markdown",
   "id": "e46f3e42-b3ce-4568-96e2-185c408336b3",
   "metadata": {
    "tags": []
   },
   "source": [
    "## Create a decision tree using the bootstrapped dataset, but only use a random subset of variables at each step.\n",
    "\n",
    "in my case I will only use two features, since the only features I have here are the number of spam words.\n",
    "\n",
    "I need the original dataset as well here"
   ]
  },
  {
   "cell_type": "markdown",
   "id": "fde5c4c3-f222-470f-a42a-6c37b18e0c83",
   "metadata": {},
   "source": [
    "# We want the number of spam words versus non spam words\n",
    "# Maybe if there is at least 20% spam words then label it as spam?"
   ]
  },
  {
   "cell_type": "markdown",
   "id": "3a67993d-cffd-4df0-a56b-181994898d8c",
   "metadata": {
    "jp-MarkdownHeadingCollapsed": true,
    "tags": []
   },
   "source": [
    "# Does 20% of spam correctly represent whether its spam or not?\n",
    "\n",
    " we can give the function the data and also the difference."
   ]
  },
  {
   "cell_type": "markdown",
   "id": "3bd0885f-d9dd-4f03-a402-fba80239bc45",
   "metadata": {},
   "source": [
    "# Gini impurity\n",
    "\n",
    "Gini Impurity = $ 1 - (P(yes))^2 - (P(no))^2 $"
   ]
  },
  {
   "cell_type": "code",
   "execution_count": 16,
   "id": "39b76299-11b9-4394-8b6b-38cfdb023058",
   "metadata": {},
   "outputs": [],
   "source": [
    "''' gini impurity '''\n",
    "\n",
    "def gini():\n",
    "    return 1 - 0 - 0"
   ]
  }
 ],
 "metadata": {
  "kernelspec": {
   "display_name": "Python 3 (ipykernel)",
   "language": "python",
   "name": "python3"
  },
  "language_info": {
   "codemirror_mode": {
    "name": "ipython",
    "version": 3
   },
   "file_extension": ".py",
   "mimetype": "text/x-python",
   "name": "python",
   "nbconvert_exporter": "python",
   "pygments_lexer": "ipython3",
   "version": "3.9.7"
  }
 },
 "nbformat": 4,
 "nbformat_minor": 5
}
