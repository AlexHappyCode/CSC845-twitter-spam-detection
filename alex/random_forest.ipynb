{
 "cells": [
  {
   "cell_type": "markdown",
   "id": "d25bfd1c-94f8-4449-b425-c9b045a85261",
   "metadata": {},
   "source": [
    "# Initialization"
   ]
  },
  {
   "cell_type": "code",
   "execution_count": 38,
   "id": "17e7557d-9d41-438f-8e75-0d3707fb80c3",
   "metadata": {},
   "outputs": [],
   "source": [
    "import pandas as pd\n",
    "import numpy as np"
   ]
  },
  {
   "cell_type": "code",
   "execution_count": 39,
   "id": "f3ef02b4-8f08-4ba1-a5b1-7150f31ab90c",
   "metadata": {
    "tags": []
   },
   "outputs": [],
   "source": [
    "TRAIN_PATH = 'UtkMl_dataset/train.csv'\n",
    "TEST_PATH = 'datasets/test.csv'\n",
    "\n",
    "VOCAB_SIZE = 2500"
   ]
  },
  {
   "cell_type": "markdown",
   "id": "5b712a13-0980-448a-8005-98237bae551f",
   "metadata": {},
   "source": [
    "## Read Data\n",
    "\n",
    "INDEX, DOC_ID, WORD_ID, LABEL"
   ]
  },
  {
   "cell_type": "code",
   "execution_count": 40,
   "id": "3350cad1-b9b5-4e16-beeb-e8f63c763712",
   "metadata": {},
   "outputs": [],
   "source": [
    "sparse_train_data = np.loadtxt('trainning_data.txt', delimiter=' ', dtype=str)\n",
    "sparse_test_data = np.loadtxt('test_data.txt', delimiter=' ', dtype=str)\n",
    "grouped_data = np.loadtxt('grouped_data.txt', delimiter=' ', dtype=str)"
   ]
  },
  {
   "cell_type": "code",
   "execution_count": 41,
   "id": "bff83082-ad8c-4c0c-ac96-b41410a596a7",
   "metadata": {},
   "outputs": [
    {
     "data": {
      "text/html": [
       "<div>\n",
       "<style scoped>\n",
       "    .dataframe tbody tr th:only-of-type {\n",
       "        vertical-align: middle;\n",
       "    }\n",
       "\n",
       "    .dataframe tbody tr th {\n",
       "        vertical-align: top;\n",
       "    }\n",
       "\n",
       "    .dataframe thead th {\n",
       "        text-align: right;\n",
       "    }\n",
       "</style>\n",
       "<table border=\"1\" class=\"dataframe\">\n",
       "  <thead>\n",
       "    <tr style=\"text-align: right;\">\n",
       "      <th></th>\n",
       "      <th>Tweet</th>\n",
       "      <th>following</th>\n",
       "      <th>followers</th>\n",
       "      <th>actions</th>\n",
       "      <th>is_retweet</th>\n",
       "      <th>location</th>\n",
       "      <th>Type</th>\n",
       "      <th>Unnamed: 7</th>\n",
       "    </tr>\n",
       "  </thead>\n",
       "  <tbody>\n",
       "    <tr>\n",
       "      <th>0</th>\n",
       "      <td>Good Morning Love  @LeeBrown_V</td>\n",
       "      <td>0.0</td>\n",
       "      <td>0.0</td>\n",
       "      <td>0.0</td>\n",
       "      <td>0.0</td>\n",
       "      <td>Pennsylvania, USA</td>\n",
       "      <td>Quality</td>\n",
       "      <td>NaN</td>\n",
       "    </tr>\n",
       "    <tr>\n",
       "      <th>1</th>\n",
       "      <td>'@realDonaldTrump @USNavy RIP TO HEROES'</td>\n",
       "      <td>42096.0</td>\n",
       "      <td>61060.0</td>\n",
       "      <td>5001.0</td>\n",
       "      <td>0.0</td>\n",
       "      <td>South Padre Island, Texas</td>\n",
       "      <td>Spam</td>\n",
       "      <td>NaN</td>\n",
       "    </tr>\n",
       "    <tr>\n",
       "      <th>2</th>\n",
       "      <td>Haven't been following the news but I understa...</td>\n",
       "      <td>0.0</td>\n",
       "      <td>0.0</td>\n",
       "      <td>NaN</td>\n",
       "      <td>0.0</td>\n",
       "      <td>Will never be broke ever again</td>\n",
       "      <td>Quality</td>\n",
       "      <td>NaN</td>\n",
       "    </tr>\n",
       "    <tr>\n",
       "      <th>3</th>\n",
       "      <td>pic.twitter.com/dy9q4ftLhZ What to do with pap...</td>\n",
       "      <td>0.0</td>\n",
       "      <td>0.0</td>\n",
       "      <td>0.0</td>\n",
       "      <td>0.0</td>\n",
       "      <td>Mundo</td>\n",
       "      <td>Quality</td>\n",
       "      <td>NaN</td>\n",
       "    </tr>\n",
       "    <tr>\n",
       "      <th>4</th>\n",
       "      <td>#DidYouKnow ► Mahatma Gandhi made a brief visi...</td>\n",
       "      <td>17800.0</td>\n",
       "      <td>35100.0</td>\n",
       "      <td>NaN</td>\n",
       "      <td>0.0</td>\n",
       "      <td>Nottingham, England</td>\n",
       "      <td>Quality</td>\n",
       "      <td>NaN</td>\n",
       "    </tr>\n",
       "    <tr>\n",
       "      <th>...</th>\n",
       "      <td>...</td>\n",
       "      <td>...</td>\n",
       "      <td>...</td>\n",
       "      <td>...</td>\n",
       "      <td>...</td>\n",
       "      <td>...</td>\n",
       "      <td>...</td>\n",
       "      <td>...</td>\n",
       "    </tr>\n",
       "    <tr>\n",
       "      <th>14894</th>\n",
       "      <td>#AllWentWrongWhen I told my hair stylist to \"g...</td>\n",
       "      <td>695.0</td>\n",
       "      <td>533.0</td>\n",
       "      <td>868.0</td>\n",
       "      <td>1.0</td>\n",
       "      <td>United States</td>\n",
       "      <td>Spam</td>\n",
       "      <td>NaN</td>\n",
       "    </tr>\n",
       "    <tr>\n",
       "      <th>14895</th>\n",
       "      <td>They don't have to like you, and you don't hav...</td>\n",
       "      <td>0.0</td>\n",
       "      <td>0.0</td>\n",
       "      <td>0.0</td>\n",
       "      <td>0.0</td>\n",
       "      <td>NaN</td>\n",
       "      <td>Quality</td>\n",
       "      <td>NaN</td>\n",
       "    </tr>\n",
       "    <tr>\n",
       "      <th>14896</th>\n",
       "      <td>#Miami Graham Nash Live at Parker Playhouse  #...</td>\n",
       "      <td>5647.0</td>\n",
       "      <td>15091.0</td>\n",
       "      <td>5823.0</td>\n",
       "      <td>0.0</td>\n",
       "      <td>United States</td>\n",
       "      <td>Spam</td>\n",
       "      <td>NaN</td>\n",
       "    </tr>\n",
       "    <tr>\n",
       "      <th>14897</th>\n",
       "      <td>@bethannhamilton is in the business of one-upp...</td>\n",
       "      <td>0.0</td>\n",
       "      <td>0.0</td>\n",
       "      <td>NaN</td>\n",
       "      <td>0.0</td>\n",
       "      <td>Southgate, MI</td>\n",
       "      <td>Quality</td>\n",
       "      <td>NaN</td>\n",
       "    </tr>\n",
       "    <tr>\n",
       "      <th>14898</th>\n",
       "      <td>Chasing Success  by  Space Cadetz  Listen up...</td>\n",
       "      <td>1219.0</td>\n",
       "      <td>957.0</td>\n",
       "      <td>4077.0</td>\n",
       "      <td>1.0</td>\n",
       "      <td>United States</td>\n",
       "      <td>Spam</td>\n",
       "      <td>NaN</td>\n",
       "    </tr>\n",
       "  </tbody>\n",
       "</table>\n",
       "<p>14899 rows × 8 columns</p>\n",
       "</div>"
      ],
      "text/plain": [
       "                                                   Tweet  following  \\\n",
       "0                         Good Morning Love  @LeeBrown_V        0.0   \n",
       "1               '@realDonaldTrump @USNavy RIP TO HEROES'    42096.0   \n",
       "2      Haven't been following the news but I understa...        0.0   \n",
       "3      pic.twitter.com/dy9q4ftLhZ What to do with pap...        0.0   \n",
       "4      #DidYouKnow ► Mahatma Gandhi made a brief visi...    17800.0   \n",
       "...                                                  ...        ...   \n",
       "14894  #AllWentWrongWhen I told my hair stylist to \"g...      695.0   \n",
       "14895  They don't have to like you, and you don't hav...        0.0   \n",
       "14896  #Miami Graham Nash Live at Parker Playhouse  #...     5647.0   \n",
       "14897  @bethannhamilton is in the business of one-upp...        0.0   \n",
       "14898    Chasing Success  by  Space Cadetz  Listen up...     1219.0   \n",
       "\n",
       "       followers  actions  is_retweet                        location  \\\n",
       "0            0.0      0.0         0.0               Pennsylvania, USA   \n",
       "1        61060.0   5001.0         0.0       South Padre Island, Texas   \n",
       "2            0.0      NaN         0.0  Will never be broke ever again   \n",
       "3            0.0      0.0         0.0                           Mundo   \n",
       "4        35100.0      NaN         0.0             Nottingham, England   \n",
       "...          ...      ...         ...                             ...   \n",
       "14894      533.0    868.0         1.0                   United States   \n",
       "14895        0.0      0.0         0.0                             NaN   \n",
       "14896    15091.0   5823.0         0.0                   United States   \n",
       "14897        0.0      NaN         0.0                   Southgate, MI   \n",
       "14898      957.0   4077.0         1.0                   United States   \n",
       "\n",
       "          Type  Unnamed: 7  \n",
       "0      Quality         NaN  \n",
       "1         Spam         NaN  \n",
       "2      Quality         NaN  \n",
       "3      Quality         NaN  \n",
       "4      Quality         NaN  \n",
       "...        ...         ...  \n",
       "14894     Spam         NaN  \n",
       "14895  Quality         NaN  \n",
       "14896     Spam         NaN  \n",
       "14897  Quality         NaN  \n",
       "14898     Spam         NaN  \n",
       "\n",
       "[14899 rows x 8 columns]"
      ]
     },
     "execution_count": 41,
     "metadata": {},
     "output_type": "execute_result"
    }
   ],
   "source": [
    "data = pd.read_csv(TRAIN_PATH)\n",
    "data"
   ]
  },
  {
   "cell_type": "code",
   "execution_count": 42,
   "id": "2f919952-1738-4852-b6e1-cfc84bccb89f",
   "metadata": {},
   "outputs": [
    {
     "data": {
      "text/html": [
       "<div>\n",
       "<style scoped>\n",
       "    .dataframe tbody tr th:only-of-type {\n",
       "        vertical-align: middle;\n",
       "    }\n",
       "\n",
       "    .dataframe tbody tr th {\n",
       "        vertical-align: top;\n",
       "    }\n",
       "\n",
       "    .dataframe thead th {\n",
       "        text-align: right;\n",
       "    }\n",
       "</style>\n",
       "<table border=\"1\" class=\"dataframe\">\n",
       "  <thead>\n",
       "    <tr style=\"text-align: right;\">\n",
       "      <th></th>\n",
       "      <th>WORD_ID</th>\n",
       "      <th>VOCAB_WORD</th>\n",
       "    </tr>\n",
       "  </thead>\n",
       "  <tbody>\n",
       "    <tr>\n",
       "      <th>0</th>\n",
       "      <td>0</td>\n",
       "      <td>http</td>\n",
       "    </tr>\n",
       "    <tr>\n",
       "      <th>1</th>\n",
       "      <td>1</td>\n",
       "      <td>trump</td>\n",
       "    </tr>\n",
       "    <tr>\n",
       "      <th>2</th>\n",
       "      <td>2</td>\n",
       "      <td>news</td>\n",
       "    </tr>\n",
       "    <tr>\n",
       "      <th>3</th>\n",
       "      <td>3</td>\n",
       "      <td>get</td>\n",
       "    </tr>\n",
       "    <tr>\n",
       "      <th>4</th>\n",
       "      <td>4</td>\n",
       "      <td>new</td>\n",
       "    </tr>\n",
       "    <tr>\n",
       "      <th>...</th>\n",
       "      <td>...</td>\n",
       "      <td>...</td>\n",
       "    </tr>\n",
       "    <tr>\n",
       "      <th>2495</th>\n",
       "      <td>2495</td>\n",
       "      <td>moto</td>\n",
       "    </tr>\n",
       "    <tr>\n",
       "      <th>2496</th>\n",
       "      <td>2496</td>\n",
       "      <td>yell</td>\n",
       "    </tr>\n",
       "    <tr>\n",
       "      <th>2497</th>\n",
       "      <td>2497</td>\n",
       "      <td>butter</td>\n",
       "    </tr>\n",
       "    <tr>\n",
       "      <th>2498</th>\n",
       "      <td>2498</td>\n",
       "      <td>lack</td>\n",
       "    </tr>\n",
       "    <tr>\n",
       "      <th>2499</th>\n",
       "      <td>2499</td>\n",
       "      <td>preciou</td>\n",
       "    </tr>\n",
       "  </tbody>\n",
       "</table>\n",
       "<p>2500 rows × 2 columns</p>\n",
       "</div>"
      ],
      "text/plain": [
       "      WORD_ID VOCAB_WORD\n",
       "0           0       http\n",
       "1           1      trump\n",
       "2           2       news\n",
       "3           3        get\n",
       "4           4        new\n",
       "...       ...        ...\n",
       "2495     2495       moto\n",
       "2496     2496       yell\n",
       "2497     2497     butter\n",
       "2498     2498       lack\n",
       "2499     2499    preciou\n",
       "\n",
       "[2500 rows x 2 columns]"
      ]
     },
     "execution_count": 42,
     "metadata": {},
     "output_type": "execute_result"
    }
   ],
   "source": [
    "vocab = pd.read_csv('vocab.csv')\n",
    "vocab"
   ]
  },
  {
   "cell_type": "markdown",
   "id": "84e2fcf3-0a3f-4195-9a9b-e3f48d4e067a",
   "metadata": {},
   "source": [
    "# Creating a Decision Tree"
   ]
  },
  {
   "cell_type": "markdown",
   "id": "e603e543-459e-42b0-9531-d169af522511",
   "metadata": {},
   "source": [
    "## For practice get 4 rows from train data"
   ]
  },
  {
   "cell_type": "code",
   "execution_count": 43,
   "id": "0a848771-e164-4032-889e-d47198e54c72",
   "metadata": {},
   "outputs": [
    {
     "name": "stdout",
     "output_type": "stream",
     "text": [
      "<class 'pandas.core.frame.DataFrame'>\n"
     ]
    },
    {
     "data": {
      "text/html": [
       "<div>\n",
       "<style scoped>\n",
       "    .dataframe tbody tr th:only-of-type {\n",
       "        vertical-align: middle;\n",
       "    }\n",
       "\n",
       "    .dataframe tbody tr th {\n",
       "        vertical-align: top;\n",
       "    }\n",
       "\n",
       "    .dataframe thead th {\n",
       "        text-align: right;\n",
       "    }\n",
       "</style>\n",
       "<table border=\"1\" class=\"dataframe\">\n",
       "  <thead>\n",
       "    <tr style=\"text-align: right;\">\n",
       "      <th></th>\n",
       "      <th>Tweet</th>\n",
       "      <th>following</th>\n",
       "      <th>followers</th>\n",
       "      <th>actions</th>\n",
       "      <th>is_retweet</th>\n",
       "      <th>location</th>\n",
       "      <th>Type</th>\n",
       "      <th>Unnamed: 7</th>\n",
       "    </tr>\n",
       "  </thead>\n",
       "  <tbody>\n",
       "    <tr>\n",
       "      <th>6557</th>\n",
       "      <td>Niall &amp; the boyspic.twitter.com/iq0Lo0m2ux</td>\n",
       "      <td>60000.0</td>\n",
       "      <td>76700.0</td>\n",
       "      <td>NaN</td>\n",
       "      <td>0.0</td>\n",
       "      <td>luke followed me for Christmas</td>\n",
       "      <td>Quality</td>\n",
       "      <td>NaN</td>\n",
       "    </tr>\n",
       "    <tr>\n",
       "      <th>12024</th>\n",
       "      <td>Willie Nelson postpones two more shows because...</td>\n",
       "      <td>898.0</td>\n",
       "      <td>563.0</td>\n",
       "      <td>2160.0</td>\n",
       "      <td>1.0</td>\n",
       "      <td>United States</td>\n",
       "      <td>Spam</td>\n",
       "      <td>NaN</td>\n",
       "    </tr>\n",
       "    <tr>\n",
       "      <th>8986</th>\n",
       "      <td>Disturbing questions linger in Joliet-area tod...</td>\n",
       "      <td>11685.0</td>\n",
       "      <td>21443.0</td>\n",
       "      <td>49491.0</td>\n",
       "      <td>0.0</td>\n",
       "      <td>United States</td>\n",
       "      <td>Spam</td>\n",
       "      <td>NaN</td>\n",
       "    </tr>\n",
       "    <tr>\n",
       "      <th>6514</th>\n",
       "      <td>@haleyymichele HAPPY BIRTHDAY HALES #SpartyDow...</td>\n",
       "      <td>0.0</td>\n",
       "      <td>0.0</td>\n",
       "      <td>NaN</td>\n",
       "      <td>0.0</td>\n",
       "      <td>Iowa City, IA</td>\n",
       "      <td>Quality</td>\n",
       "      <td>NaN</td>\n",
       "    </tr>\n",
       "  </tbody>\n",
       "</table>\n",
       "</div>"
      ],
      "text/plain": [
       "                                                   Tweet  following  \\\n",
       "6557          Niall & the boyspic.twitter.com/iq0Lo0m2ux    60000.0   \n",
       "12024  Willie Nelson postpones two more shows because...      898.0   \n",
       "8986   Disturbing questions linger in Joliet-area tod...    11685.0   \n",
       "6514   @haleyymichele HAPPY BIRTHDAY HALES #SpartyDow...        0.0   \n",
       "\n",
       "       followers  actions  is_retweet                        location  \\\n",
       "6557     76700.0      NaN         0.0  luke followed me for Christmas   \n",
       "12024      563.0   2160.0         1.0                   United States   \n",
       "8986     21443.0  49491.0         0.0                   United States   \n",
       "6514         0.0      NaN         0.0                   Iowa City, IA   \n",
       "\n",
       "          Type  Unnamed: 7  \n",
       "6557   Quality         NaN  \n",
       "12024     Spam         NaN  \n",
       "8986      Spam         NaN  \n",
       "6514   Quality         NaN  "
      ]
     },
     "execution_count": 43,
     "metadata": {},
     "output_type": "execute_result"
    }
   ],
   "source": [
    "four_samples = data.sample(4)\n",
    "\n",
    "print(type(four_samples))\n",
    "four_samples"
   ]
  },
  {
   "cell_type": "code",
   "execution_count": 44,
   "id": "cc1b2b4a-cbfc-42c6-9627-a19adcbcbc44",
   "metadata": {},
   "outputs": [
    {
     "data": {
      "text/plain": [
       "Tweet         Niall & the boyspic.twitter.com/iq0Lo0m2ux\n",
       "following                                        60000.0\n",
       "followers                                        76700.0\n",
       "actions                                              NaN\n",
       "is_retweet                                           0.0\n",
       "location                  luke followed me for Christmas\n",
       "Type                                             Quality\n",
       "Unnamed: 7                                           NaN\n",
       "Name: 6557, dtype: object"
      ]
     },
     "execution_count": 44,
     "metadata": {},
     "output_type": "execute_result"
    }
   ],
   "source": [
    "four_samples.iloc[0]"
   ]
  },
  {
   "cell_type": "code",
   "execution_count": 45,
   "id": "e8d7f6aa-8f55-4179-bc1a-3ed8560a059f",
   "metadata": {},
   "outputs": [
    {
     "name": "stdout",
     "output_type": "stream",
     "text": [
      "first doc id: 6557\n"
     ]
    }
   ],
   "source": [
    "''' Columns: DOC_ID, WORD_ID, LABEL, OCCURENCE '''\n",
    "\n",
    "# Get the words in the sample after NLP from first_doc_id\n",
    "# TODO: need to find a spot for this\n",
    "\n",
    "first_doc_id = four_samples.index[0]\n",
    "print('first doc id:', first_doc_id)\n",
    "for row in grouped_data:\n",
    "    if row[0] == str(first_doc_id):\n",
    "        print(row)"
   ]
  },
  {
   "cell_type": "markdown",
   "id": "a3789215-bb25-4f42-8300-36ed03b1f9b5",
   "metadata": {},
   "source": [
    "### Functions for decisions\n",
    "TODO: We want the number of spam words versus non spam words"
   ]
  },
  {
   "cell_type": "code",
   "execution_count": 46,
   "id": "f27ad756-dfc8-4de4-867e-14c5b85bddae",
   "metadata": {},
   "outputs": [],
   "source": [
    "# Function that checks against followers vs followees\n",
    "\n",
    "# Returns true if following zero people\n",
    "\n",
    "# Returns the ratio of followers to following\n",
    "def _percent_followers_following(row):\n",
    "    return row.followers / row.following\n",
    "    \n",
    "# big enough ratio to satisfy min_percent\n",
    "def min_percent_followers(row, min_percent=.7):\n",
    "    if row.following == 0: return True\n",
    "    return _percent_followers_following(row) > min_percent\n",
    "\n",
    "# Enough followers\n",
    "def enough_followers(row, minimum_followers=10):\n",
    "    return row.followers > minimum_followers\n",
    "\n",
    "# is retweet\n",
    "def is_retweet(row)-> bool:\n",
    "    return True if row.is_retweet else False\n",
    "    "
   ]
  },
  {
   "cell_type": "code",
   "execution_count": 47,
   "id": "5d1c0e41-3ebb-473e-b59c-854857e6eea0",
   "metadata": {},
   "outputs": [
    {
     "data": {
      "text/plain": [
       "False"
      ]
     },
     "execution_count": 47,
     "metadata": {},
     "output_type": "execute_result"
    }
   ],
   "source": [
    "is_retweet(four_samples.iloc[0])"
   ]
  },
  {
   "cell_type": "code",
   "execution_count": 48,
   "id": "f6951231-2068-4e50-af9f-c0d7f3796cd4",
   "metadata": {},
   "outputs": [
    {
     "name": "stdout",
     "output_type": "stream",
     "text": [
      "True\n"
     ]
    }
   ],
   "source": [
    "print(min_percent_followers(four_samples.iloc[0]))"
   ]
  },
  {
   "cell_type": "markdown",
   "id": "e46f3e42-b3ce-4568-96e2-185c408336b3",
   "metadata": {
    "tags": []
   },
   "source": [
    "## Create a decision tree using the bootstrapped dataset, but only use a random subset of variables at each step."
   ]
  },
  {
   "cell_type": "code",
   "execution_count": 49,
   "id": "6e256be4-7cee-4317-8644-8aa82f7d097a",
   "metadata": {},
   "outputs": [],
   "source": [
    "''' \n",
    "Decision Tree -- 1\n",
    "\n",
    "returns whether true (spam) or false (not spam)\n",
    "\n",
    "Structure:\n",
    "\n",
    "1. Enough Followers\n",
    "2. Minimum Percent Followers\n",
    "\n",
    "''' \n",
    "\n",
    "# Testing tree one\n",
    "def tree1(row):\n",
    "    \n",
    "    # First check if enough followers\n",
    "    if(not enough_followers(row)):\n",
    "        return False\n",
    "    \n",
    "    if(not min_percent_followers(row)):\n",
    "        return False\n",
    "    \n",
    "    return True\n",
    "    \n",
    "    # Then check if Ratio of followers to following is high enough"
   ]
  },
  {
   "cell_type": "code",
   "execution_count": 50,
   "id": "a440c5f3-7e63-4ce1-be57-a966de315cfa",
   "metadata": {},
   "outputs": [],
   "source": [
    "''' \n",
    "Decision Tree -- 2\n",
    "\n",
    "returns whether true (spam) or false (not spam)\n",
    "\n",
    "Structure:\n",
    "\n",
    "1. Minimum Percent Followers\n",
    "2. Enough Followers\n",
    "\n",
    "''' \n",
    "def tree2(row):\n",
    "     \n",
    "    # First check if enough followers\n",
    "    if(not enough_followers(row)):\n",
    "        return False\n",
    "    \n",
    "    if(not min_percent_followers(row)):\n",
    "        return False\n",
    "    \n",
    "    return True   "
   ]
  },
  {
   "cell_type": "code",
   "execution_count": 51,
   "id": "64e68277-f5ef-47ab-9503-abcb7ee19014",
   "metadata": {},
   "outputs": [],
   "source": [
    "''' \n",
    "Decision Tree -- 3\n",
    "\n",
    "returns whether true (spam) or false (not spam)\n",
    "\n",
    "Structure:\n",
    "\n",
    "     enough_followers\n",
    "    /            \\\n",
    "is_retweet    is_retweet\n",
    "\n",
    "''' \n",
    "def tree3(row):\n",
    "     \n",
    "    if min_percent_followers(row):\n",
    "        return True if is_retweet(row) else False\n",
    "    \n",
    "    else:\n",
    "        return True if is_retweet(row) else False\n"
   ]
  },
  {
   "cell_type": "code",
   "execution_count": 52,
   "id": "93e57e93-7a12-4fe7-9fef-fa28a9b5d6e0",
   "metadata": {},
   "outputs": [],
   "source": [
    "''' \n",
    "Decision Tree -- 4\n",
    "\n",
    "returns whether true (spam) or false (not spam)\n",
    "\n",
    "Structure:\n",
    "\n",
    "           is_retweet\n",
    "           /         \\\n",
    " Enough_Followers  Enough_Followers\n",
    "''' \n",
    "\n",
    "def tree4(row):\n",
    "    # First check if enough followers\n",
    "    if is_retweet(row):\n",
    "        return True if enough_followers(row) else False\n",
    "    else: # not enough follower\n",
    "        return True if enough_followers(row) else False\n",
    "        "
   ]
  },
  {
   "cell_type": "code",
   "execution_count": 67,
   "id": "de271583-8dff-44ee-9205-4db4fd925660",
   "metadata": {},
   "outputs": [],
   "source": [
    "''' \n",
    "Decision Tree -- 5\n",
    "\n",
    "returns whether true (spam) or false (not spam)\n",
    "\n",
    "Structure:\n",
    "\n",
    "           is_retweet\n",
    "           /         \\\n",
    " Enough_Followers  minimum_percent_followers\n",
    "''' \n",
    "\n",
    "def tree5(row):\n",
    "    # First check if enough followers\n",
    "    if is_retweet(row):\n",
    "        return True if enough_followers(row) else False\n",
    "    else: # not enough follower\n",
    "        return True if min_percent_followers(row) else False\n",
    "        "
   ]
  },
  {
   "cell_type": "markdown",
   "id": "99728955-c3e5-4706-9df5-622b2d4b0642",
   "metadata": {},
   "source": [
    "## Running our random forest"
   ]
  },
  {
   "cell_type": "code",
   "execution_count": 60,
   "id": "8134c90f-481f-4136-afd1-4d8ae2cf4b15",
   "metadata": {},
   "outputs": [
    {
     "data": {
      "text/html": [
       "<div>\n",
       "<style scoped>\n",
       "    .dataframe tbody tr th:only-of-type {\n",
       "        vertical-align: middle;\n",
       "    }\n",
       "\n",
       "    .dataframe tbody tr th {\n",
       "        vertical-align: top;\n",
       "    }\n",
       "\n",
       "    .dataframe thead th {\n",
       "        text-align: right;\n",
       "    }\n",
       "</style>\n",
       "<table border=\"1\" class=\"dataframe\">\n",
       "  <thead>\n",
       "    <tr style=\"text-align: right;\">\n",
       "      <th></th>\n",
       "      <th>Tweet</th>\n",
       "      <th>following</th>\n",
       "      <th>followers</th>\n",
       "      <th>actions</th>\n",
       "      <th>is_retweet</th>\n",
       "      <th>location</th>\n",
       "      <th>Type</th>\n",
       "      <th>Unnamed: 7</th>\n",
       "    </tr>\n",
       "  </thead>\n",
       "  <tbody>\n",
       "    <tr>\n",
       "      <th>0</th>\n",
       "      <td>Good Morning Love  @LeeBrown_V</td>\n",
       "      <td>0.0</td>\n",
       "      <td>0.0</td>\n",
       "      <td>0.0</td>\n",
       "      <td>0.0</td>\n",
       "      <td>Pennsylvania, USA</td>\n",
       "      <td>Quality</td>\n",
       "      <td>NaN</td>\n",
       "    </tr>\n",
       "    <tr>\n",
       "      <th>1</th>\n",
       "      <td>'@realDonaldTrump @USNavy RIP TO HEROES'</td>\n",
       "      <td>42096.0</td>\n",
       "      <td>61060.0</td>\n",
       "      <td>5001.0</td>\n",
       "      <td>0.0</td>\n",
       "      <td>South Padre Island, Texas</td>\n",
       "      <td>Spam</td>\n",
       "      <td>NaN</td>\n",
       "    </tr>\n",
       "  </tbody>\n",
       "</table>\n",
       "</div>"
      ],
      "text/plain": [
       "                                      Tweet  following  followers  actions  \\\n",
       "0            Good Morning Love  @LeeBrown_V        0.0        0.0      0.0   \n",
       "1  '@realDonaldTrump @USNavy RIP TO HEROES'    42096.0    61060.0   5001.0   \n",
       "\n",
       "   is_retweet                   location     Type  Unnamed: 7  \n",
       "0         0.0          Pennsylvania, USA  Quality         NaN  \n",
       "1         0.0  South Padre Island, Texas     Spam         NaN  "
      ]
     },
     "execution_count": 60,
     "metadata": {},
     "output_type": "execute_result"
    }
   ],
   "source": [
    "data[:2]"
   ]
  },
  {
   "cell_type": "code",
   "execution_count": 73,
   "id": "1837e111-a975-42cf-a12b-b5dcb0754374",
   "metadata": {},
   "outputs": [
    {
     "ename": "IndexError",
     "evalue": "list index out of range",
     "output_type": "error",
     "traceback": [
      "\u001b[0;31m---------------------------------------------------------------------------\u001b[0m",
      "\u001b[0;31mIndexError\u001b[0m                                Traceback (most recent call last)",
      "\u001b[0;32m/var/folders/ht/m6m5h6fd397b_8w1c4km5bg40000gn/T/ipykernel_57681/3548993430.py\u001b[0m in \u001b[0;36m<module>\u001b[0;34m\u001b[0m\n\u001b[1;32m     17\u001b[0m \u001b[0;34m\u001b[0m\u001b[0m\n\u001b[1;32m     18\u001b[0m     \u001b[0;31m# Final Classification\u001b[0m\u001b[0;34m\u001b[0m\u001b[0;34m\u001b[0m\u001b[0m\n\u001b[0;32m---> 19\u001b[0;31m     \u001b[0;32mif\u001b[0m \u001b[0mres\u001b[0m\u001b[0;34m[\u001b[0m\u001b[0;36m1\u001b[0m\u001b[0;34m]\u001b[0m \u001b[0;34m>\u001b[0m \u001b[0mres\u001b[0m\u001b[0;34m[\u001b[0m\u001b[0;36m2\u001b[0m\u001b[0;34m]\u001b[0m\u001b[0;34m:\u001b[0m\u001b[0;34m\u001b[0m\u001b[0;34m\u001b[0m\u001b[0m\n\u001b[0m\u001b[1;32m     20\u001b[0m        \u001b[0mres\u001b[0m\u001b[0;34m[\u001b[0m\u001b[0;36m3\u001b[0m\u001b[0;34m]\u001b[0m \u001b[0;34m=\u001b[0m \u001b[0;34m'Spam'\u001b[0m\u001b[0;34m\u001b[0m\u001b[0;34m\u001b[0m\u001b[0m\n\u001b[1;32m     21\u001b[0m     \u001b[0;32melse\u001b[0m\u001b[0;34m:\u001b[0m\u001b[0;34m\u001b[0m\u001b[0;34m\u001b[0m\u001b[0m\n",
      "\u001b[0;31mIndexError\u001b[0m: list index out of range"
     ]
    }
   ],
   "source": [
    "# creating a list of our decision trees\n",
    "\n",
    "trees = [tree1, tree2, tree3, tree4, tree5]\n",
    "\n",
    "ham_count = 0\n",
    "spam_count = 0\n",
    "res = []\n",
    "\n",
    "for i, sample in enumerate(range(data.shape[0])):\n",
    "    res.append([data.iloc[i][0], 0, 0, \"Uninitialized\"]) # [tweetId, spam, ham, Final Classification]\n",
    "    \n",
    "    for tree in trees:\n",
    "        if tree(data.iloc[sample]):\n",
    "            res[-1][1] += 1  # spam++\n",
    "        else:\n",
    "            res[-1][2] += 1 # ham++\n",
    "    \n",
    "    # Final Classification\n",
    "    if res[1] > res[2]:\n",
    "       res[3] = 'Spam'\n",
    "    else:\n",
    "        res[3] = 'Ham'\n",
    "    "
   ]
  },
  {
   "cell_type": "code",
   "execution_count": 71,
   "id": "b6abfe49-00a3-4d12-a0c2-47ef842dc1c8",
   "metadata": {},
   "outputs": [
    {
     "name": "stdout",
     "output_type": "stream",
     "text": [
      "[['Good Morning Love  @LeeBrown_V', 2, 3]]\n"
     ]
    }
   ],
   "source": [
    "print(res[:1])"
   ]
  }
 ],
 "metadata": {
  "kernelspec": {
   "display_name": "Python 3 (ipykernel)",
   "language": "python",
   "name": "python3"
  },
  "language_info": {
   "codemirror_mode": {
    "name": "ipython",
    "version": 3
   },
   "file_extension": ".py",
   "mimetype": "text/x-python",
   "name": "python",
   "nbconvert_exporter": "python",
   "pygments_lexer": "ipython3",
   "version": "3.9.7"
  }
 },
 "nbformat": 4,
 "nbformat_minor": 5
}
