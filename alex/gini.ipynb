{
 "cells": [
  {
   "cell_type": "code",
   "execution_count": 2,
   "id": "17e7557d-9d41-438f-8e75-0d3707fb80c3",
   "metadata": {},
   "outputs": [],
   "source": [
    "import pandas as pd\n",
    "import numpy as np"
   ]
  },
  {
   "cell_type": "markdown",
   "id": "5b712a13-0980-448a-8005-98237bae551f",
   "metadata": {},
   "source": [
    "# Import data"
   ]
  },
  {
   "cell_type": "code",
   "execution_count": 3,
   "id": "3350cad1-b9b5-4e16-beeb-e8f63c763712",
   "metadata": {},
   "outputs": [],
   "source": [
    "sparse_train_data = np.loadtxt('trainning_data.txt', delimiter=' ', dtype=str)\n",
    "sparse_test_data = np.loadtxt('test_data.txt', delimiter=' ', dtype=str)"
   ]
  },
  {
   "cell_type": "code",
   "execution_count": 4,
   "id": "9a220b93-4706-495c-92f5-e169fab47b03",
   "metadata": {},
   "outputs": [
    {
     "data": {
      "text/plain": [
       "array([['0', '7', 'Quality', '1'],\n",
       "       ['0', '21', 'Quality', '1'],\n",
       "       ['0', '141', 'Quality', '1'],\n",
       "       ...,\n",
       "       ['14892', '1082', 'Quality', '1'],\n",
       "       ['14897', '21', 'Quality', '1'],\n",
       "       ['14897', '103', 'Quality', '1']], dtype='<U7')"
      ]
     },
     "execution_count": 4,
     "metadata": {},
     "output_type": "execute_result"
    }
   ],
   "source": [
    "sparse_test_data"
   ]
  },
  {
   "cell_type": "markdown",
   "id": "826d5fc7-36e9-40da-add9-a40071ebdec6",
   "metadata": {},
   "source": [
    "# Gini impurity\n",
    "\n",
    "Gini Impurity = $ 1 - (P(yes))^2 - (P(no))^2 $"
   ]
  },
  {
   "cell_type": "code",
   "execution_count": 5,
   "id": "0d8a985a-fcbd-40c5-955c-e8cfd946a6ac",
   "metadata": {},
   "outputs": [],
   "source": [
    "''' gini impurity '''\n",
    "\n",
    "def gini():\n",
    "    return 1 - 0 - 0"
   ]
  }
 ],
 "metadata": {
  "kernelspec": {
   "display_name": "Python 3 (ipykernel)",
   "language": "python",
   "name": "python3"
  },
  "language_info": {
   "codemirror_mode": {
    "name": "ipython",
    "version": 3
   },
   "file_extension": ".py",
   "mimetype": "text/x-python",
   "name": "python",
   "nbconvert_exporter": "python",
   "pygments_lexer": "ipython3",
   "version": "3.9.7"
  }
 },
 "nbformat": 4,
 "nbformat_minor": 5
}
