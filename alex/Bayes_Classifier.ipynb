{
 "cells": [
  {
   "cell_type": "markdown",
   "id": "a395ad27-3f7f-4137-bc83-2a925396fa70",
   "metadata": {},
   "source": [
    "# Notebook Imports"
   ]
  },
  {
   "cell_type": "code",
   "execution_count": 22,
   "id": "17e7557d-9d41-438f-8e75-0d3707fb80c3",
   "metadata": {},
   "outputs": [],
   "source": [
    "import pandas as pd\n",
    "import numpy as np"
   ]
  },
  {
   "cell_type": "markdown",
   "id": "1025cf69-f9a6-471b-a2d0-7df5ebc48bd2",
   "metadata": {},
   "source": [
    "# Constants"
   ]
  },
  {
   "cell_type": "code",
   "execution_count": 23,
   "id": "b0ea8b1c-40c5-4248-a7dc-ce877fe7c3d3",
   "metadata": {},
   "outputs": [],
   "source": [
    "VOCAB_SIZE = 2500"
   ]
  },
  {
   "cell_type": "markdown",
   "id": "7a1a0e7e-5c88-46ac-8db8-c53c081efe2a",
   "metadata": {},
   "source": [
    "# READ and LOAD Features from .txt Filse into NumPy Array"
   ]
  },
  {
   "cell_type": "code",
   "execution_count": 24,
   "id": "904e71a4-3441-4242-b57e-61e94bf45eec",
   "metadata": {},
   "outputs": [],
   "source": [
    "sparse_train_data = np.loadtxt('trainning_data.txt', delimiter=' ', dtype=str)\n",
    "sparse_test_data = np.loadtxt('test_data.txt', delimiter=' ', dtype=str)"
   ]
  },
  {
   "cell_type": "code",
   "execution_count": 25,
   "id": "2cd3c80f-6921-4856-a6ab-c49a09ca38c2",
   "metadata": {},
   "outputs": [
    {
     "name": "stdout",
     "output_type": "stream",
     "text": [
      "num rows in trainning file 58047\n",
      "num rows in test file 24594\n"
     ]
    }
   ],
   "source": [
    "print('num rows in trainning file', sparse_train_data.shape[0])\n",
    "print('num rows in test file', sparse_test_data.shape[0])"
   ]
  },
  {
   "cell_type": "code",
   "execution_count": 26,
   "id": "68ec7089-554d-4888-b7f2-8f93a6e17001",
   "metadata": {},
   "outputs": [
    {
     "name": "stdout",
     "output_type": "stream",
     "text": [
      "num tweets in trainning file 10204\n",
      "num tweets in trainning file 4373\n"
     ]
    }
   ],
   "source": [
    "print('num tweets in trainning file', np.unique(sparse_train_data[:, 0]).size)\n",
    "print('num tweets in trainning file', np.unique(sparse_test_data[:, 0]).size)"
   ]
  },
  {
   "cell_type": "code",
   "execution_count": 74,
   "id": "ba79ddf8-a04f-4a7c-9c54-efe4e60050cd",
   "metadata": {},
   "outputs": [
    {
     "data": {
      "text/plain": [
       "array([['1', '171', 'Spam', '1'],\n",
       "       ['1', '908', 'Spam', '1'],\n",
       "       ['1', '1245', 'Spam', '1'],\n",
       "       ...,\n",
       "       ['14898', '597', 'Spam', '1'],\n",
       "       ['14898', '876', 'Spam', '1'],\n",
       "       ['14898', '1128', 'Spam', '1']], dtype='<U7')"
      ]
     },
     "execution_count": 74,
     "metadata": {},
     "output_type": "execute_result"
    }
   ],
   "source": [
    "sparse_train_data"
   ]
  },
  {
   "cell_type": "markdown",
   "id": "35724d9b-ef00-49ad-8c6b-3e7844484876",
   "metadata": {},
   "source": [
    "# How to create an empty DataFrame"
   ]
  },
  {
   "cell_type": "code",
   "execution_count": 84,
   "id": "bf58d4a4-c6be-487f-a357-0269362770b6",
   "metadata": {},
   "outputs": [
    {
     "data": {
      "text/plain": [
       "2501"
      ]
     },
     "execution_count": 84,
     "metadata": {},
     "output_type": "execute_result"
    }
   ],
   "source": [
    "column_names = ['CATEGORY'] + list(range(0, VOCAB_SIZE))\n",
    "len(column_names)"
   ]
  },
  {
   "cell_type": "code",
   "execution_count": 128,
   "id": "e7227815-9e01-40a8-ae1a-9cb93957e638",
   "metadata": {},
   "outputs": [
    {
     "data": {
      "text/plain": [
       "array(['0', '0', '0', ..., '14892', '14897', '14897'], dtype='<U7')"
      ]
     },
     "execution_count": 128,
     "metadata": {},
     "output_type": "execute_result"
    }
   ],
   "source": [
    "sparse_test_data[:, 0]"
   ]
  },
  {
   "cell_type": "code",
   "execution_count": 85,
   "id": "ebede4c6-03f5-405c-bc32-2087992c10fa",
   "metadata": {},
   "outputs": [
    {
     "data": {
      "text/plain": [
       "array(['1', '10', '100', ..., '9995', '9996', '9998'], dtype='<U7')"
      ]
     },
     "execution_count": 85,
     "metadata": {},
     "output_type": "execute_result"
    }
   ],
   "source": [
    "index_names = np.unique(sparse_train_data[:, 0])\n",
    "index_names"
   ]
  },
  {
   "cell_type": "code",
   "execution_count": 101,
   "id": "ba5beae6-72f0-48f4-b469-e922955ea46b",
   "metadata": {},
   "outputs": [
    {
     "data": {
      "text/plain": [
       "dtype('int64')"
      ]
     },
     "execution_count": 101,
     "metadata": {},
     "output_type": "execute_result"
    }
   ],
   "source": [
    "test_data = pd.DataFrame(index=index_names, columns=column_names)\n",
    "test_data.fillna(value=0, inplace=True)\n",
    "test_data['CATEGORY'] = test_data['CATEGORY'].astype(str)\n",
    "test_data['CATEGORY'] = 'test'"
   ]
  },
  {
   "cell_type": "code",
   "execution_count": 104,
   "id": "45fa89dd-36a8-4bcd-b586-0fcdfcb49969",
   "metadata": {},
   "outputs": [
    {
     "data": {
      "text/html": [
       "<div>\n",
       "<style scoped>\n",
       "    .dataframe tbody tr th:only-of-type {\n",
       "        vertical-align: middle;\n",
       "    }\n",
       "\n",
       "    .dataframe tbody tr th {\n",
       "        vertical-align: top;\n",
       "    }\n",
       "\n",
       "    .dataframe thead th {\n",
       "        text-align: right;\n",
       "    }\n",
       "</style>\n",
       "<table border=\"1\" class=\"dataframe\">\n",
       "  <thead>\n",
       "    <tr style=\"text-align: right;\">\n",
       "      <th></th>\n",
       "      <th>CATEGORY</th>\n",
       "      <th>0</th>\n",
       "      <th>1</th>\n",
       "      <th>2</th>\n",
       "      <th>3</th>\n",
       "      <th>4</th>\n",
       "      <th>5</th>\n",
       "      <th>6</th>\n",
       "      <th>7</th>\n",
       "      <th>8</th>\n",
       "      <th>...</th>\n",
       "      <th>2490</th>\n",
       "      <th>2491</th>\n",
       "      <th>2492</th>\n",
       "      <th>2493</th>\n",
       "      <th>2494</th>\n",
       "      <th>2495</th>\n",
       "      <th>2496</th>\n",
       "      <th>2497</th>\n",
       "      <th>2498</th>\n",
       "      <th>2499</th>\n",
       "    </tr>\n",
       "  </thead>\n",
       "  <tbody>\n",
       "    <tr>\n",
       "      <th>1</th>\n",
       "      <td>test</td>\n",
       "      <td>0</td>\n",
       "      <td>0</td>\n",
       "      <td>0</td>\n",
       "      <td>0</td>\n",
       "      <td>0</td>\n",
       "      <td>0</td>\n",
       "      <td>0</td>\n",
       "      <td>0</td>\n",
       "      <td>0</td>\n",
       "      <td>...</td>\n",
       "      <td>0</td>\n",
       "      <td>0</td>\n",
       "      <td>0</td>\n",
       "      <td>0</td>\n",
       "      <td>0</td>\n",
       "      <td>0</td>\n",
       "      <td>0</td>\n",
       "      <td>0</td>\n",
       "      <td>0</td>\n",
       "      <td>0</td>\n",
       "    </tr>\n",
       "    <tr>\n",
       "      <th>10</th>\n",
       "      <td>test</td>\n",
       "      <td>0</td>\n",
       "      <td>0</td>\n",
       "      <td>0</td>\n",
       "      <td>0</td>\n",
       "      <td>0</td>\n",
       "      <td>0</td>\n",
       "      <td>0</td>\n",
       "      <td>0</td>\n",
       "      <td>0</td>\n",
       "      <td>...</td>\n",
       "      <td>0</td>\n",
       "      <td>0</td>\n",
       "      <td>0</td>\n",
       "      <td>0</td>\n",
       "      <td>0</td>\n",
       "      <td>0</td>\n",
       "      <td>0</td>\n",
       "      <td>0</td>\n",
       "      <td>0</td>\n",
       "      <td>0</td>\n",
       "    </tr>\n",
       "    <tr>\n",
       "      <th>100</th>\n",
       "      <td>test</td>\n",
       "      <td>0</td>\n",
       "      <td>0</td>\n",
       "      <td>0</td>\n",
       "      <td>0</td>\n",
       "      <td>0</td>\n",
       "      <td>0</td>\n",
       "      <td>0</td>\n",
       "      <td>0</td>\n",
       "      <td>0</td>\n",
       "      <td>...</td>\n",
       "      <td>0</td>\n",
       "      <td>0</td>\n",
       "      <td>0</td>\n",
       "      <td>0</td>\n",
       "      <td>0</td>\n",
       "      <td>0</td>\n",
       "      <td>0</td>\n",
       "      <td>0</td>\n",
       "      <td>0</td>\n",
       "      <td>0</td>\n",
       "    </tr>\n",
       "    <tr>\n",
       "      <th>1000</th>\n",
       "      <td>test</td>\n",
       "      <td>0</td>\n",
       "      <td>0</td>\n",
       "      <td>0</td>\n",
       "      <td>0</td>\n",
       "      <td>0</td>\n",
       "      <td>0</td>\n",
       "      <td>0</td>\n",
       "      <td>0</td>\n",
       "      <td>0</td>\n",
       "      <td>...</td>\n",
       "      <td>0</td>\n",
       "      <td>0</td>\n",
       "      <td>0</td>\n",
       "      <td>0</td>\n",
       "      <td>0</td>\n",
       "      <td>0</td>\n",
       "      <td>0</td>\n",
       "      <td>0</td>\n",
       "      <td>0</td>\n",
       "      <td>0</td>\n",
       "    </tr>\n",
       "    <tr>\n",
       "      <th>10000</th>\n",
       "      <td>test</td>\n",
       "      <td>0</td>\n",
       "      <td>0</td>\n",
       "      <td>0</td>\n",
       "      <td>0</td>\n",
       "      <td>0</td>\n",
       "      <td>0</td>\n",
       "      <td>0</td>\n",
       "      <td>0</td>\n",
       "      <td>0</td>\n",
       "      <td>...</td>\n",
       "      <td>0</td>\n",
       "      <td>0</td>\n",
       "      <td>0</td>\n",
       "      <td>0</td>\n",
       "      <td>0</td>\n",
       "      <td>0</td>\n",
       "      <td>0</td>\n",
       "      <td>0</td>\n",
       "      <td>0</td>\n",
       "      <td>0</td>\n",
       "    </tr>\n",
       "  </tbody>\n",
       "</table>\n",
       "<p>5 rows × 2501 columns</p>\n",
       "</div>"
      ],
      "text/plain": [
       "      CATEGORY  0  1  2  3  4  5  6  7  8  ...  2490  2491  2492  2493  2494  \\\n",
       "1         test  0  0  0  0  0  0  0  0  0  ...     0     0     0     0     0   \n",
       "10        test  0  0  0  0  0  0  0  0  0  ...     0     0     0     0     0   \n",
       "100       test  0  0  0  0  0  0  0  0  0  ...     0     0     0     0     0   \n",
       "1000      test  0  0  0  0  0  0  0  0  0  ...     0     0     0     0     0   \n",
       "10000     test  0  0  0  0  0  0  0  0  0  ...     0     0     0     0     0   \n",
       "\n",
       "       2495  2496  2497  2498  2499  \n",
       "1         0     0     0     0     0  \n",
       "10        0     0     0     0     0  \n",
       "100       0     0     0     0     0  \n",
       "1000      0     0     0     0     0  \n",
       "10000     0     0     0     0     0  \n",
       "\n",
       "[5 rows x 2501 columns]"
      ]
     },
     "execution_count": 104,
     "metadata": {},
     "output_type": "execute_result"
    }
   ],
   "source": [
    "test_data.head()"
   ]
  },
  {
   "cell_type": "code",
   "execution_count": 107,
   "id": "a38106f6-2bff-47ec-ab47-43b16f30d59b",
   "metadata": {},
   "outputs": [
    {
     "data": {
      "text/plain": [
       "dtype('int64')"
      ]
     },
     "execution_count": 107,
     "metadata": {},
     "output_type": "execute_result"
    }
   ],
   "source": [
    "test_data[171].dtypes"
   ]
  },
  {
   "cell_type": "markdown",
   "id": "1f5f98c5-2787-4ac4-ae3f-5b4613800247",
   "metadata": {},
   "source": [
    "# Create a Full Matrix from a Sparse Matrix"
   ]
  },
  {
   "cell_type": "code",
   "execution_count": 95,
   "id": "8bd00bcd-d07c-4f49-9505-def44059b5f1",
   "metadata": {},
   "outputs": [],
   "source": [
    "def make_full_matrix(sparse_matrix, num_words, tweet_idx=0, word_idx=1, cat_idx=2, freq_idx=3):\n",
    "    '''\n",
    "    Form a full matrix from a sparse matrix.\n",
    "    Return pandas dataframe.\n",
    "    \n",
    "    Keyword arguments:\n",
    "    sparse_matrix -- numpy array\n",
    "    num_words -- size of vocabulary. Total number of tokens.\n",
    "    TWEET_IDx -- position of the document id in the sparse matrix\n",
    "    word_idx -- position of the word id in the sparse matrix\n",
    "    cat_idx -- position of the label in the sparse matrix\n",
    "    freq_idx -- position of the frequency in the sparse matrix\n",
    "    '''\n",
    "    column_names = ['CATEGORY'] + list(range(num_words))\n",
    "    tweet_id_names = np.unique(sparse_matrix[:, 0])\n",
    "    full_matrix = pd.DataFrame(index=tweet_id_names, columns=column_names)\n",
    "    full_matrix.fillna(value=0, inplace=True)\n",
    "    full_matrix.head()\n",
    "    \n",
    "    # this line needs fixing\n",
    "    full_matrix['CATEGORY'] = full_matrix['CATEGORY'].astype(str)\n",
    "    \n",
    "    for i in range(sparse_matrix.shape[0]):\n",
    "        tweet_num = sparse_matrix[i][tweet_idx]\n",
    "        word_id = sparse_matrix[i][word_idx]\n",
    "        label = sparse_matrix[i][cat_idx]\n",
    "        occurrence = sparse_matrix[i][freq_idx]\n",
    "        \n",
    "        print('stats', tweet_num, word_id, label, occurrence)\n",
    "        \n",
    "        #full_matrix.at[tweet_num, 'TWEET_ID'] = tweet_num\n",
    "        full_matrix.at[tweet_num, 'CATEGORY'] = label\n",
    "        full_matrix.at[tweet_num, word_id] = occurrence\n",
    "        \n",
    "        break\n",
    "    \n",
    "    #full_matrix.set_index('TWEET_ID', inplace=True)\n",
    "    print(full_matrix.head())\n",
    "    \n",
    "    return full_matrix"
   ]
  },
  {
   "cell_type": "code",
   "execution_count": 96,
   "id": "b80a41a5-9ca2-4c91-bbac-c7b21c822523",
   "metadata": {},
   "outputs": [
    {
     "name": "stdout",
     "output_type": "stream",
     "text": [
      "stats 1 171 Spam 1\n",
      "      CATEGORY  0  1  2  3  4  5  6  7  8  ...  2491  2492  2493  2494  2495  \\\n",
      "1         Spam  0  0  0  0  0  0  0  0  0  ...     0     0     0     0     0   \n",
      "10           0  0  0  0  0  0  0  0  0  0  ...     0     0     0     0     0   \n",
      "100          0  0  0  0  0  0  0  0  0  0  ...     0     0     0     0     0   \n",
      "1000         0  0  0  0  0  0  0  0  0  0  ...     0     0     0     0     0   \n",
      "10000        0  0  0  0  0  0  0  0  0  0  ...     0     0     0     0     0   \n",
      "\n",
      "       2496  2497  2498  2499  171  \n",
      "1         0     0     0     0    1  \n",
      "10        0     0     0     0  NaN  \n",
      "100       0     0     0     0  NaN  \n",
      "1000      0     0     0     0  NaN  \n",
      "10000     0     0     0     0  NaN  \n",
      "\n",
      "[5 rows x 2502 columns]\n",
      "CPU times: user 4.9 s, sys: 126 ms, total: 5.03 s\n",
      "Wall time: 4.96 s\n"
     ]
    },
    {
     "name": "stderr",
     "output_type": "stream",
     "text": [
      "/home/berimbolo/anaconda3/lib/python3.9/site-packages/pandas/core/indexing.py:1684: PerformanceWarning: DataFrame is highly fragmented.  This is usually the result of calling `frame.insert` many times, which has poor performance.  Consider joining all columns at once using pd.concat(axis=1) instead.  To get a de-fragmented frame, use `newframe = frame.copy()`\n",
      "  self.obj[key] = infer_fill_value(value)\n"
     ]
    }
   ],
   "source": [
    "%%time\n",
    "\n",
    "full_train_data = make_full_matrix(sparse_train_data, VOCAB_SIZE)"
   ]
  },
  {
   "cell_type": "code",
   "execution_count": 114,
   "id": "0ed673f8-f10d-4d90-ae02-cdec11d68b08",
   "metadata": {},
   "outputs": [
    {
     "data": {
      "text/html": [
       "<div>\n",
       "<style scoped>\n",
       "    .dataframe tbody tr th:only-of-type {\n",
       "        vertical-align: middle;\n",
       "    }\n",
       "\n",
       "    .dataframe tbody tr th {\n",
       "        vertical-align: top;\n",
       "    }\n",
       "\n",
       "    .dataframe thead th {\n",
       "        text-align: right;\n",
       "    }\n",
       "</style>\n",
       "<table border=\"1\" class=\"dataframe\">\n",
       "  <thead>\n",
       "    <tr style=\"text-align: right;\">\n",
       "      <th></th>\n",
       "      <th>CATEGORY</th>\n",
       "      <th>0</th>\n",
       "      <th>1</th>\n",
       "      <th>2</th>\n",
       "      <th>3</th>\n",
       "      <th>4</th>\n",
       "      <th>5</th>\n",
       "      <th>6</th>\n",
       "      <th>7</th>\n",
       "      <th>8</th>\n",
       "      <th>...</th>\n",
       "      <th>2491</th>\n",
       "      <th>2492</th>\n",
       "      <th>2493</th>\n",
       "      <th>2494</th>\n",
       "      <th>2495</th>\n",
       "      <th>2496</th>\n",
       "      <th>2497</th>\n",
       "      <th>2498</th>\n",
       "      <th>2499</th>\n",
       "      <th>171</th>\n",
       "    </tr>\n",
       "  </thead>\n",
       "  <tbody>\n",
       "    <tr>\n",
       "      <th>1</th>\n",
       "      <td>Spam</td>\n",
       "      <td>0</td>\n",
       "      <td>0</td>\n",
       "      <td>0</td>\n",
       "      <td>0</td>\n",
       "      <td>0</td>\n",
       "      <td>0</td>\n",
       "      <td>0</td>\n",
       "      <td>0</td>\n",
       "      <td>0</td>\n",
       "      <td>...</td>\n",
       "      <td>0</td>\n",
       "      <td>0</td>\n",
       "      <td>0</td>\n",
       "      <td>0</td>\n",
       "      <td>0</td>\n",
       "      <td>0</td>\n",
       "      <td>0</td>\n",
       "      <td>0</td>\n",
       "      <td>0</td>\n",
       "      <td>1</td>\n",
       "    </tr>\n",
       "    <tr>\n",
       "      <th>10</th>\n",
       "      <td>0</td>\n",
       "      <td>0</td>\n",
       "      <td>0</td>\n",
       "      <td>0</td>\n",
       "      <td>0</td>\n",
       "      <td>0</td>\n",
       "      <td>0</td>\n",
       "      <td>0</td>\n",
       "      <td>0</td>\n",
       "      <td>0</td>\n",
       "      <td>...</td>\n",
       "      <td>0</td>\n",
       "      <td>0</td>\n",
       "      <td>0</td>\n",
       "      <td>0</td>\n",
       "      <td>0</td>\n",
       "      <td>0</td>\n",
       "      <td>0</td>\n",
       "      <td>0</td>\n",
       "      <td>0</td>\n",
       "      <td>NaN</td>\n",
       "    </tr>\n",
       "    <tr>\n",
       "      <th>100</th>\n",
       "      <td>0</td>\n",
       "      <td>0</td>\n",
       "      <td>0</td>\n",
       "      <td>0</td>\n",
       "      <td>0</td>\n",
       "      <td>0</td>\n",
       "      <td>0</td>\n",
       "      <td>0</td>\n",
       "      <td>0</td>\n",
       "      <td>0</td>\n",
       "      <td>...</td>\n",
       "      <td>0</td>\n",
       "      <td>0</td>\n",
       "      <td>0</td>\n",
       "      <td>0</td>\n",
       "      <td>0</td>\n",
       "      <td>0</td>\n",
       "      <td>0</td>\n",
       "      <td>0</td>\n",
       "      <td>0</td>\n",
       "      <td>NaN</td>\n",
       "    </tr>\n",
       "    <tr>\n",
       "      <th>1000</th>\n",
       "      <td>0</td>\n",
       "      <td>0</td>\n",
       "      <td>0</td>\n",
       "      <td>0</td>\n",
       "      <td>0</td>\n",
       "      <td>0</td>\n",
       "      <td>0</td>\n",
       "      <td>0</td>\n",
       "      <td>0</td>\n",
       "      <td>0</td>\n",
       "      <td>...</td>\n",
       "      <td>0</td>\n",
       "      <td>0</td>\n",
       "      <td>0</td>\n",
       "      <td>0</td>\n",
       "      <td>0</td>\n",
       "      <td>0</td>\n",
       "      <td>0</td>\n",
       "      <td>0</td>\n",
       "      <td>0</td>\n",
       "      <td>NaN</td>\n",
       "    </tr>\n",
       "    <tr>\n",
       "      <th>10000</th>\n",
       "      <td>0</td>\n",
       "      <td>0</td>\n",
       "      <td>0</td>\n",
       "      <td>0</td>\n",
       "      <td>0</td>\n",
       "      <td>0</td>\n",
       "      <td>0</td>\n",
       "      <td>0</td>\n",
       "      <td>0</td>\n",
       "      <td>0</td>\n",
       "      <td>...</td>\n",
       "      <td>0</td>\n",
       "      <td>0</td>\n",
       "      <td>0</td>\n",
       "      <td>0</td>\n",
       "      <td>0</td>\n",
       "      <td>0</td>\n",
       "      <td>0</td>\n",
       "      <td>0</td>\n",
       "      <td>0</td>\n",
       "      <td>NaN</td>\n",
       "    </tr>\n",
       "  </tbody>\n",
       "</table>\n",
       "<p>5 rows × 2502 columns</p>\n",
       "</div>"
      ],
      "text/plain": [
       "      CATEGORY  0  1  2  3  4  5  6  7  8  ...  2491  2492  2493  2494  2495  \\\n",
       "1         Spam  0  0  0  0  0  0  0  0  0  ...     0     0     0     0     0   \n",
       "10           0  0  0  0  0  0  0  0  0  0  ...     0     0     0     0     0   \n",
       "100          0  0  0  0  0  0  0  0  0  0  ...     0     0     0     0     0   \n",
       "1000         0  0  0  0  0  0  0  0  0  0  ...     0     0     0     0     0   \n",
       "10000        0  0  0  0  0  0  0  0  0  0  ...     0     0     0     0     0   \n",
       "\n",
       "       2496  2497  2498  2499  171  \n",
       "1         0     0     0     0    1  \n",
       "10        0     0     0     0  NaN  \n",
       "100       0     0     0     0  NaN  \n",
       "1000      0     0     0     0  NaN  \n",
       "10000     0     0     0     0  NaN  \n",
       "\n",
       "[5 rows x 2502 columns]"
      ]
     },
     "execution_count": 114,
     "metadata": {},
     "output_type": "execute_result"
    }
   ],
   "source": [
    "full_train_data.shape\n",
    "full_train_data.head()"
   ]
  },
  {
   "cell_type": "code",
   "execution_count": 126,
   "id": "1f6e20f5-a3b7-4e65-92ad-60f14392420e",
   "metadata": {},
   "outputs": [
    {
     "data": {
      "text/plain": [
       "CATEGORY    Spam\n",
       "0              0\n",
       "1              0\n",
       "2              0\n",
       "3              0\n",
       "            ... \n",
       "2496           0\n",
       "2497           0\n",
       "2498           0\n",
       "2499           0\n",
       "171            1\n",
       "Name: 1, Length: 2502, dtype: object"
      ]
     },
     "execution_count": 126,
     "metadata": {},
     "output_type": "execute_result"
    }
   ],
   "source": [
    "full_train_data.loc['1']"
   ]
  }
 ],
 "metadata": {
  "kernelspec": {
   "display_name": "Python 3 (ipykernel)",
   "language": "python",
   "name": "python3"
  },
  "language_info": {
   "codemirror_mode": {
    "name": "ipython",
    "version": 3
   },
   "file_extension": ".py",
   "mimetype": "text/x-python",
   "name": "python",
   "nbconvert_exporter": "python",
   "pygments_lexer": "ipython3",
   "version": "3.9.7"
  }
 },
 "nbformat": 4,
 "nbformat_minor": 5
}
