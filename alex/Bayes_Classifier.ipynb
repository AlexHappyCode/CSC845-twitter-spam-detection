{
 "cells": [
  {
   "cell_type": "markdown",
   "id": "a395ad27-3f7f-4137-bc83-2a925396fa70",
   "metadata": {},
   "source": [
    "# Notebook Imports"
   ]
  },
  {
   "cell_type": "code",
   "execution_count": 4,
   "id": "17e7557d-9d41-438f-8e75-0d3707fb80c3",
   "metadata": {},
   "outputs": [],
   "source": [
    "import pandas as pd\n",
    "import numpy as np"
   ]
  },
  {
   "cell_type": "markdown",
   "id": "1025cf69-f9a6-471b-a2d0-7df5ebc48bd2",
   "metadata": {},
   "source": [
    "# Constants"
   ]
  },
  {
   "cell_type": "code",
   "execution_count": 5,
   "id": "b0ea8b1c-40c5-4248-a7dc-ce877fe7c3d3",
   "metadata": {},
   "outputs": [],
   "source": [
    "VOCAB_SIZE = 2500"
   ]
  },
  {
   "cell_type": "markdown",
   "id": "7a1a0e7e-5c88-46ac-8db8-c53c081efe2a",
   "metadata": {},
   "source": [
    "# READ and LOAD Features from .txt Filse into NumPy Array"
   ]
  },
  {
   "cell_type": "code",
   "execution_count": 7,
   "id": "904e71a4-3441-4242-b57e-61e94bf45eec",
   "metadata": {},
   "outputs": [
    {
     "data": {
      "text/plain": [
       "array([['1', '171', 'Spam', '1'],\n",
       "       ['1', '908', 'Spam', '1'],\n",
       "       ['1', '1245', 'Spam', '1'],\n",
       "       ...,\n",
       "       ['14898', '597', 'Spam', '1'],\n",
       "       ['14898', '876', 'Spam', '1'],\n",
       "       ['14898', '1128', 'Spam', '1']], dtype='<U7')"
      ]
     },
     "execution_count": 7,
     "metadata": {},
     "output_type": "execute_result"
    }
   ],
   "source": [
    "sparse_train_data = np.loadtxt('trainning_data.txt', delimiter=' ', dtype=str)\n",
    "sparse_train_data"
   ]
  }
 ],
 "metadata": {
  "kernelspec": {
   "display_name": "Python 3 (ipykernel)",
   "language": "python",
   "name": "python3"
  },
  "language_info": {
   "codemirror_mode": {
    "name": "ipython",
    "version": 3
   },
   "file_extension": ".py",
   "mimetype": "text/x-python",
   "name": "python",
   "nbconvert_exporter": "python",
   "pygments_lexer": "ipython3",
   "version": "3.9.7"
  }
 },
 "nbformat": 4,
 "nbformat_minor": 5
}
